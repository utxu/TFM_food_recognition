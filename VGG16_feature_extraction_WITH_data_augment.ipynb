{
  "nbformat": 4,
  "nbformat_minor": 0,
  "metadata": {
    "colab": {
      "name": "VGG16_feature_extraction_WITH_data_augment.ipynb",
      "provenance": [],
      "authorship_tag": "ABX9TyMu3VAk06vjivpFoOIL8nIi",
      "include_colab_link": true
    },
    "kernelspec": {
      "name": "python3",
      "display_name": "Python 3"
    },
    "language_info": {
      "name": "python"
    },
    "accelerator": "GPU"
  },
  "cells": [
    {
      "cell_type": "markdown",
      "metadata": {
        "id": "view-in-github",
        "colab_type": "text"
      },
      "source": [
        "<a href=\"https://colab.research.google.com/github/utxu/TFM_food_recognition/blob/main/VGG16_feature_extraction_WITH_data_augment.ipynb\" target=\"_parent\"><img src=\"https://colab.research.google.com/assets/colab-badge.svg\" alt=\"Open In Colab\"/></a>"
      ]
    },
    {
      "cell_type": "code",
      "metadata": {
        "id": "Zn7y34Y6iYQM"
      },
      "source": [
        "# Elegimos una GPU en el entorno"
      ],
      "execution_count": 13,
      "outputs": []
    },
    {
      "cell_type": "code",
      "metadata": {
        "colab": {
          "base_uri": "https://localhost:8080/",
          "height": 35
        },
        "id": "hkHdp-STicj5",
        "outputId": "9e387449-461a-4a78-f5cb-30f0aed234c8"
      },
      "source": [
        "import tensorflow as tf\n",
        "import keras\n",
        "tf.test.gpu_device_name()"
      ],
      "execution_count": 14,
      "outputs": [
        {
          "output_type": "execute_result",
          "data": {
            "application/vnd.google.colaboratory.intrinsic+json": {
              "type": "string"
            },
            "text/plain": [
              "'/device:GPU:0'"
            ]
          },
          "metadata": {
            "tags": []
          },
          "execution_count": 14
        }
      ]
    },
    {
      "cell_type": "code",
      "metadata": {
        "colab": {
          "base_uri": "https://localhost:8080/"
        },
        "id": "d6e3LWjlieUM",
        "outputId": "3e75aeeb-4bb3-4b3e-9fbb-801ebdd5278a"
      },
      "source": [
        "# memory footprint support libraries/code\n",
        "!ln -sf /opt/bin/nvidia-smi /usr/bin/nvidia-smi\n",
        "!pip install gputil\n",
        "!pip install psutil\n",
        "!pip install humanize\n",
        "import psutil\n",
        "import humanize\n",
        "import os\n",
        "import GPUtil as GPU\n",
        "GPUs = GPU.getGPUs()\n",
        "# XXX: only one GPU on Colab and isn’t guaranteed\n",
        "gpu = GPUs[0]\n",
        "def printm():\n",
        " process = psutil.Process(os.getpid())\n",
        " print(\"Gen RAM Free: \" + humanize.naturalsize( psutil.virtual_memory().available ), \" | Proc size: \" + humanize.naturalsize( process.memory_info().rss))\n",
        " print(\"GPU RAM Free: {0:.0f}MB | Used: {1:.0f}MB | Util {2:3.0f}% | Total {3:.0f}MB\".format(gpu.memoryFree, gpu.memoryUsed, gpu.memoryUtil*100, gpu.memoryTotal))\n",
        "printm() "
      ],
      "execution_count": 15,
      "outputs": [
        {
          "output_type": "stream",
          "text": [
            "Requirement already satisfied: gputil in /usr/local/lib/python3.7/dist-packages (1.4.0)\n",
            "Requirement already satisfied: psutil in /usr/local/lib/python3.7/dist-packages (5.4.8)\n",
            "Requirement already satisfied: humanize in /usr/local/lib/python3.7/dist-packages (0.5.1)\n",
            "Gen RAM Free: 12.1 GB  | Proc size: 982.6 MB\n",
            "GPU RAM Free: 14885MB | Used: 224MB | Util   1% | Total 15109MB\n"
          ],
          "name": "stdout"
        }
      ]
    },
    {
      "cell_type": "code",
      "metadata": {
        "colab": {
          "base_uri": "https://localhost:8080/"
        },
        "id": "0krm_aTZktV2",
        "outputId": "9a1dff65-5d87-452e-bf29-6e70cda0d0a8"
      },
      "source": [
        "from google.colab import drive\n",
        "drive.mount('/content/drive')"
      ],
      "execution_count": 4,
      "outputs": [
        {
          "output_type": "stream",
          "text": [
            "Mounted at /content/drive\n"
          ],
          "name": "stdout"
        }
      ]
    },
    {
      "cell_type": "code",
      "metadata": {
        "colab": {
          "base_uri": "https://localhost:8080/"
        },
        "id": "Ebl8ZxzmktlX",
        "outputId": "d8290697-a457-429f-91a8-6043de8220ec"
      },
      "source": [
        "!pwd"
      ],
      "execution_count": 5,
      "outputs": [
        {
          "output_type": "stream",
          "text": [
            "/content\n"
          ],
          "name": "stdout"
        }
      ]
    },
    {
      "cell_type": "code",
      "metadata": {
        "id": "axB6HUv5ktxP"
      },
      "source": [
        "import os\n",
        "\n",
        "# Location of Zip File\n",
        "drive_path = '/content/drive/MyDrive/spanish_food_images.zip'\n",
        "local_path = '/content'\n",
        "\n",
        "# Copy the zip file and move it up one level (AKA out of the drive folder)\n",
        "!cp '{drive_path}' .\n",
        "\n",
        "# Navigate to the copied file and unzip it quietly\n",
        "os.chdir(local_path)\n",
        "!unzip -q 'spanish_food_images.zip'"
      ],
      "execution_count": 6,
      "outputs": []
    },
    {
      "cell_type": "code",
      "metadata": {
        "id": "AOT7VMsrlIol"
      },
      "source": [
        "# Vamos a borrar la copia del .zip porq lo tenemos en la ruta de 'My drive'\n",
        "! rm -rf spanish_food_images.zip"
      ],
      "execution_count": 7,
      "outputs": []
    },
    {
      "cell_type": "code",
      "metadata": {
        "id": "2Gu_7PtklIvd"
      },
      "source": [
        ""
      ],
      "execution_count": null,
      "outputs": []
    },
    {
      "cell_type": "code",
      "metadata": {
        "id": "3waE40smlI1w"
      },
      "source": [
        ""
      ],
      "execution_count": null,
      "outputs": []
    },
    {
      "cell_type": "code",
      "metadata": {
        "id": "wxYGSiA0lI7P"
      },
      "source": [
        ""
      ],
      "execution_count": null,
      "outputs": []
    },
    {
      "cell_type": "code",
      "metadata": {
        "id": "pArcoqQ_lI_2"
      },
      "source": [
        ""
      ],
      "execution_count": null,
      "outputs": []
    },
    {
      "cell_type": "code",
      "metadata": {
        "id": "zKQL733ElJEh"
      },
      "source": [
        ""
      ],
      "execution_count": null,
      "outputs": []
    },
    {
      "cell_type": "code",
      "metadata": {
        "id": "sgoxNeUnYMZz"
      },
      "source": [
        "import keras"
      ],
      "execution_count": 17,
      "outputs": []
    },
    {
      "cell_type": "code",
      "metadata": {
        "id": "rXGbz8XUUZUR"
      },
      "source": [
        "from keras.applications.vgg16 import VGG16"
      ],
      "execution_count": 18,
      "outputs": []
    },
    {
      "cell_type": "code",
      "metadata": {
        "colab": {
          "base_uri": "https://localhost:8080/"
        },
        "id": "HLpTme96UlsE",
        "outputId": "7ba68c6f-192e-434d-821f-331f81290848"
      },
      "source": [
        "conv_base = VGG16(weights='imagenet', \n",
        "                 include_top=False, \n",
        "                 input_shape=(150,150,3))"
      ],
      "execution_count": 19,
      "outputs": [
        {
          "output_type": "stream",
          "text": [
            "Downloading data from https://storage.googleapis.com/tensorflow/keras-applications/vgg16/vgg16_weights_tf_dim_ordering_tf_kernels_notop.h5\n",
            "58892288/58889256 [==============================] - 0s 0us/step\n",
            "58900480/58889256 [==============================] - 0s 0us/step\n"
          ],
          "name": "stdout"
        }
      ]
    },
    {
      "cell_type": "code",
      "metadata": {
        "id": "4zgBguzPUnvB"
      },
      "source": [
        "from keras import models\n",
        "from keras import layers"
      ],
      "execution_count": 20,
      "outputs": []
    },
    {
      "cell_type": "code",
      "metadata": {
        "colab": {
          "base_uri": "https://localhost:8080/"
        },
        "id": "LJTLoZziUny-",
        "outputId": "8d4b835d-8f93-440c-a9c6-d36714448fc3"
      },
      "source": [
        "model = models.Sequential()\n",
        "model.add(conv_base)\n",
        "model.add(layers.Flatten())\n",
        "model.add(layers.Dense(256, activation='relu'))\n",
        "model.add(layers.Dense(4, activation='softmax'))\n",
        "\n",
        "model.summary()\n"
      ],
      "execution_count": 21,
      "outputs": [
        {
          "output_type": "stream",
          "text": [
            "Model: \"sequential_1\"\n",
            "_________________________________________________________________\n",
            "Layer (type)                 Output Shape              Param #   \n",
            "=================================================================\n",
            "vgg16 (Functional)           (None, 4, 4, 512)         14714688  \n",
            "_________________________________________________________________\n",
            "flatten (Flatten)            (None, 8192)              0         \n",
            "_________________________________________________________________\n",
            "dense (Dense)                (None, 256)               2097408   \n",
            "_________________________________________________________________\n",
            "dense_1 (Dense)              (None, 4)                 1028      \n",
            "=================================================================\n",
            "Total params: 16,813,124\n",
            "Trainable params: 16,813,124\n",
            "Non-trainable params: 0\n",
            "_________________________________________________________________\n"
          ],
          "name": "stdout"
        }
      ]
    },
    {
      "cell_type": "code",
      "metadata": {
        "id": "b4LepE8cUn2j"
      },
      "source": [
        "base_dir = '/content/spanish_food_images'\n",
        "train_dir = os.path.join(base_dir, 'train')\n",
        "validation_dir = os.path.join(base_dir, 'validation')\n",
        "test_dir = os.path.join(base_dir, 'test')"
      ],
      "execution_count": 22,
      "outputs": []
    },
    {
      "cell_type": "code",
      "metadata": {
        "id": "HFgRPdxilWSU"
      },
      "source": [
        "from keras.preprocessing.image import ImageDataGenerator\n",
        "from keras import optimizers"
      ],
      "execution_count": 23,
      "outputs": []
    },
    {
      "cell_type": "code",
      "metadata": {
        "colab": {
          "base_uri": "https://localhost:8080/"
        },
        "id": "tBMSq-GMlWdU",
        "outputId": "af322a9a-213d-4edb-a91b-4553d77633dd"
      },
      "source": [
        "train_datagen = ImageDataGenerator(\n",
        "    rescale=1./255,\n",
        "    rotation_range=40,\n",
        "    width_shift_range=0.2,\n",
        "    height_shift_range=0.2,\n",
        "    shear_range=0.2, \n",
        "    zoom_range=0.2,\n",
        "    horizontal_flip=True, \n",
        "    fill_mode='nearest')\n",
        "\n",
        "test_datagen = ImageDataGenerator(rescale=1./255)\n",
        "\n",
        "train_generator = train_datagen.flow_from_directory(\n",
        "    train_dir, \n",
        "    target_size=(150, 150), \n",
        "    batch_size=20, \n",
        "    class_mode='categorical')\n",
        "\n",
        "validation_generator = test_datagen.flow_from_directory(\n",
        "    validation_dir, \n",
        "    target_size=(150, 150), \n",
        "    batch_size=20, \n",
        "    class_mode='categorical')\n",
        "\n",
        "model.compile(loss='categorical_crossentropy', \n",
        "              optimizer=optimizers.RMSprop(lr=2e-5), \n",
        "              metrics=['acc'])\n",
        "\n",
        "history = model.fit_generator(\n",
        "    train_generator,\n",
        "    steps_per_epoch=100, \n",
        "    epochs=30,\n",
        "    validation_data=validation_generator,\n",
        "    validation_steps=50)\n",
        "\n"
      ],
      "execution_count": 24,
      "outputs": [
        {
          "output_type": "stream",
          "text": [
            "Found 2000 images belonging to 4 classes.\n",
            "Found 1000 images belonging to 4 classes.\n"
          ],
          "name": "stdout"
        },
        {
          "output_type": "stream",
          "text": [
            "/usr/local/lib/python3.7/dist-packages/tensorflow/python/keras/optimizer_v2/optimizer_v2.py:375: UserWarning: The `lr` argument is deprecated, use `learning_rate` instead.\n",
            "  \"The `lr` argument is deprecated, use `learning_rate` instead.\")\n",
            "/usr/local/lib/python3.7/dist-packages/keras/engine/training.py:1915: UserWarning: `Model.fit_generator` is deprecated and will be removed in a future version. Please use `Model.fit`, which supports generators.\n",
            "  warnings.warn('`Model.fit_generator` is deprecated and '\n"
          ],
          "name": "stderr"
        },
        {
          "output_type": "stream",
          "text": [
            "Epoch 1/30\n",
            "100/100 [==============================] - 83s 344ms/step - loss: 1.0609 - acc: 0.5322 - val_loss: 0.6639 - val_acc: 0.7440\n",
            "Epoch 2/30\n",
            "100/100 [==============================] - 34s 337ms/step - loss: 0.5284 - acc: 0.7946 - val_loss: 0.4156 - val_acc: 0.8520\n",
            "Epoch 3/30\n",
            "100/100 [==============================] - 34s 337ms/step - loss: 0.4220 - acc: 0.8399 - val_loss: 0.3520 - val_acc: 0.8650\n",
            "Epoch 4/30\n",
            "100/100 [==============================] - 34s 337ms/step - loss: 0.3527 - acc: 0.8678 - val_loss: 0.3065 - val_acc: 0.8910\n",
            "Epoch 5/30\n",
            "100/100 [==============================] - 34s 336ms/step - loss: 0.2898 - acc: 0.8974 - val_loss: 0.2724 - val_acc: 0.9000\n",
            "Epoch 6/30\n",
            "100/100 [==============================] - 34s 336ms/step - loss: 0.2947 - acc: 0.8971 - val_loss: 0.2310 - val_acc: 0.9140\n",
            "Epoch 7/30\n",
            "100/100 [==============================] - 34s 336ms/step - loss: 0.2189 - acc: 0.9188 - val_loss: 0.3020 - val_acc: 0.8920\n",
            "Epoch 8/30\n",
            "100/100 [==============================] - 34s 336ms/step - loss: 0.2668 - acc: 0.9031 - val_loss: 0.2558 - val_acc: 0.9080\n",
            "Epoch 9/30\n",
            "100/100 [==============================] - 34s 337ms/step - loss: 0.1724 - acc: 0.9438 - val_loss: 0.3452 - val_acc: 0.8870\n",
            "Epoch 10/30\n",
            "100/100 [==============================] - 34s 336ms/step - loss: 0.2048 - acc: 0.9335 - val_loss: 0.2636 - val_acc: 0.9070\n",
            "Epoch 11/30\n",
            "100/100 [==============================] - 34s 336ms/step - loss: 0.1552 - acc: 0.9440 - val_loss: 0.5887 - val_acc: 0.8370\n",
            "Epoch 12/30\n",
            "100/100 [==============================] - 34s 337ms/step - loss: 0.1325 - acc: 0.9533 - val_loss: 0.6182 - val_acc: 0.8430\n",
            "Epoch 13/30\n",
            "100/100 [==============================] - 34s 336ms/step - loss: 0.1316 - acc: 0.9487 - val_loss: 0.3153 - val_acc: 0.9020\n",
            "Epoch 14/30\n",
            "100/100 [==============================] - 34s 336ms/step - loss: 0.1224 - acc: 0.9565 - val_loss: 0.2517 - val_acc: 0.9170\n",
            "Epoch 15/30\n",
            "100/100 [==============================] - 34s 336ms/step - loss: 0.1209 - acc: 0.9530 - val_loss: 0.4106 - val_acc: 0.8700\n",
            "Epoch 16/30\n",
            "100/100 [==============================] - 34s 337ms/step - loss: 0.1124 - acc: 0.9654 - val_loss: 0.3053 - val_acc: 0.9110\n",
            "Epoch 17/30\n",
            "100/100 [==============================] - 34s 336ms/step - loss: 0.0906 - acc: 0.9745 - val_loss: 0.2512 - val_acc: 0.9270\n",
            "Epoch 18/30\n",
            "100/100 [==============================] - 34s 335ms/step - loss: 0.1046 - acc: 0.9636 - val_loss: 0.2532 - val_acc: 0.9300\n",
            "Epoch 19/30\n",
            "100/100 [==============================] - 34s 336ms/step - loss: 0.0715 - acc: 0.9754 - val_loss: 0.3618 - val_acc: 0.9130\n",
            "Epoch 20/30\n",
            "100/100 [==============================] - 34s 335ms/step - loss: 0.0913 - acc: 0.9716 - val_loss: 0.4009 - val_acc: 0.9000\n",
            "Epoch 21/30\n",
            "100/100 [==============================] - 34s 337ms/step - loss: 0.0693 - acc: 0.9793 - val_loss: 0.3215 - val_acc: 0.9230\n",
            "Epoch 22/30\n",
            "100/100 [==============================] - 34s 336ms/step - loss: 0.0812 - acc: 0.9752 - val_loss: 0.3083 - val_acc: 0.9210\n",
            "Epoch 23/30\n",
            "100/100 [==============================] - 34s 337ms/step - loss: 0.0592 - acc: 0.9772 - val_loss: 0.2965 - val_acc: 0.9100\n",
            "Epoch 24/30\n",
            "100/100 [==============================] - 34s 337ms/step - loss: 0.0741 - acc: 0.9713 - val_loss: 0.5142 - val_acc: 0.8890\n",
            "Epoch 25/30\n",
            "100/100 [==============================] - 34s 338ms/step - loss: 0.0822 - acc: 0.9711 - val_loss: 0.3941 - val_acc: 0.9120\n",
            "Epoch 26/30\n",
            "100/100 [==============================] - 34s 338ms/step - loss: 0.0871 - acc: 0.9696 - val_loss: 0.3951 - val_acc: 0.9030\n",
            "Epoch 27/30\n",
            "100/100 [==============================] - 34s 338ms/step - loss: 0.0599 - acc: 0.9788 - val_loss: 0.3658 - val_acc: 0.9140\n",
            "Epoch 28/30\n",
            "100/100 [==============================] - 34s 337ms/step - loss: 0.0480 - acc: 0.9857 - val_loss: 0.6764 - val_acc: 0.8610\n",
            "Epoch 29/30\n",
            "100/100 [==============================] - 34s 337ms/step - loss: 0.0561 - acc: 0.9808 - val_loss: 0.4946 - val_acc: 0.8920\n",
            "Epoch 30/30\n",
            "100/100 [==============================] - 34s 337ms/step - loss: 0.0386 - acc: 0.9885 - val_loss: 0.3663 - val_acc: 0.9260\n"
          ],
          "name": "stdout"
        }
      ]
    },
    {
      "cell_type": "code",
      "metadata": {
        "colab": {
          "base_uri": "https://localhost:8080/",
          "height": 545
        },
        "id": "8IXXpYjPlWii",
        "outputId": "c989728a-9c84-4f1c-a403-5d43b23d3eb4"
      },
      "source": [
        "import matplotlib.pyplot as plt\n",
        "\n",
        "acc = history.history['acc']\n",
        "val_acc = history.history['val_acc']\n",
        "loss = history.history['loss']\n",
        "val_loss = history.history['val_loss']\n",
        "\n",
        "epochs = range(1, len(acc) + 1)\n",
        "\n",
        "plt.plot(epochs, acc, 'bo', label='Training acc')\n",
        "plt.plot(epochs, val_acc, 'b', label='Validation acc')\n",
        "plt.title('Training and validation accuracy')\n",
        "plt.legend()\n",
        "\n",
        "plt.figure()\n",
        "\n",
        "plt.plot(epochs, loss, 'bo', label='Training loss')\n",
        "plt.plot(epochs, val_loss, 'b', label='Validation loss')\n",
        "plt.title('Training and validation loss')\n",
        "plt.legend()\n",
        "\n",
        "plt.show()"
      ],
      "execution_count": 25,
      "outputs": [
        {
          "output_type": "display_data",
          "data": {
            "image/png": "[encoded data removed]",
            "text/plain": [
              "<Figure size 432x288 with 1 Axes>"
            ]
          },
          "metadata": {
            "tags": [],
            "needs_background": "light"
          }
        },
        {
          "output_type": "display_data",
          "data": {
            "image/png": "[encoded data removed]",
            "text/plain": [
              "<Figure size 432x288 with 1 Axes>"
            ]
          },
          "metadata": {
            "tags": [],
            "needs_background": "light"
          }
        }
      ]
    },
    {
      "cell_type": "code",
      "metadata": {
        "id": "CL2iRvs7lWl5"
      },
      "source": [
        ""
      ],
      "execution_count": null,
      "outputs": []
    },
    {
      "cell_type": "code",
      "metadata": {
        "id": "-n76gzKEUn6Z"
      },
      "source": [
        ""
      ],
      "execution_count": null,
      "outputs": []
    }
  ]
}