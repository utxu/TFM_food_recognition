{
 "cells": [
  {
   "cell_type": "code",
   "execution_count": 1,
   "metadata": {},
   "outputs": [],
   "source": [
    "from keras import layers\n",
    "from keras import models\n",
    "import os"
   ]
  },
  {
   "cell_type": "code",
   "execution_count": 2,
   "metadata": {},
   "outputs": [],
   "source": [
    "model = models.Sequential()\n",
    "model.add(layers.Conv2D(32, (3,3), activation='relu', input_shape=(150, 150, 3)))\n",
    "model.add(layers.MaxPooling2D((2,2)))\n",
    "model.add(layers.Conv2D(64, (3,3), activation='relu'))\n",
    "model.add(layers.Conv2D(64, (3,3), activation='relu'))\n",
    "model.add(layers.MaxPooling2D((2,2)))\n",
    "model.add(layers.Conv2D(128, (3,3), activation='relu'))\n",
    "model.add(layers.Conv2D(128, (3,3), activation='relu'))\n",
    "model.add(layers.MaxPooling2D((2,2)))\n",
    "model.add(layers.Conv2D(256, (3,3), activation='relu'))\n",
    "model.add(layers.Conv2D(256, (3,3), activation='relu'))\n",
    "model.add(layers.MaxPooling2D((2,2)))\n",
    "model.add(layers.Flatten())\n",
    "model.add(layers.Dense(512, activation='relu'))\n",
    "model.add(layers.Dense(4, activation='softmax'))"
   ]
  },
  {
   "cell_type": "code",
   "execution_count": 3,
   "metadata": {},
   "outputs": [
    {
     "name": "stdout",
     "output_type": "stream",
     "text": [
      "Model: \"sequential\"\n",
      "_________________________________________________________________\n",
      "Layer (type)                 Output Shape              Param #   \n",
      "=================================================================\n",
      "conv2d (Conv2D)              (None, 148, 148, 32)      896       \n",
      "_________________________________________________________________\n",
      "max_pooling2d (MaxPooling2D) (None, 74, 74, 32)        0         \n",
      "_________________________________________________________________\n",
      "conv2d_1 (Conv2D)            (None, 72, 72, 64)        18496     \n",
      "_________________________________________________________________\n",
      "conv2d_2 (Conv2D)            (None, 70, 70, 64)        36928     \n",
      "_________________________________________________________________\n",
      "max_pooling2d_1 (MaxPooling2 (None, 35, 35, 64)        0         \n",
      "_________________________________________________________________\n",
      "conv2d_3 (Conv2D)            (None, 33, 33, 128)       73856     \n",
      "_________________________________________________________________\n",
      "conv2d_4 (Conv2D)            (None, 31, 31, 128)       147584    \n",
      "_________________________________________________________________\n",
      "max_pooling2d_2 (MaxPooling2 (None, 15, 15, 128)       0         \n",
      "_________________________________________________________________\n",
      "conv2d_5 (Conv2D)            (None, 13, 13, 256)       295168    \n",
      "_________________________________________________________________\n",
      "conv2d_6 (Conv2D)            (None, 11, 11, 256)       590080    \n",
      "_________________________________________________________________\n",
      "max_pooling2d_3 (MaxPooling2 (None, 5, 5, 256)         0         \n",
      "_________________________________________________________________\n",
      "flatten (Flatten)            (None, 6400)              0         \n",
      "_________________________________________________________________\n",
      "dense (Dense)                (None, 512)               3277312   \n",
      "_________________________________________________________________\n",
      "dense_1 (Dense)              (None, 4)                 2052      \n",
      "=================================================================\n",
      "Total params: 4,442,372\n",
      "Trainable params: 4,442,372\n",
      "Non-trainable params: 0\n",
      "_________________________________________________________________\n"
     ]
    }
   ],
   "source": [
    "model.summary()"
   ]
  },
  {
   "cell_type": "code",
   "execution_count": null,
   "metadata": {},
   "outputs": [],
   "source": []
  },
  {
   "cell_type": "markdown",
   "metadata": {},
   "source": [
    "Configuramos el modelo para el training;"
   ]
  },
  {
   "cell_type": "code",
   "execution_count": 4,
   "metadata": {},
   "outputs": [],
   "source": [
    "from keras import optimizers\n",
    "model.compile(loss='categorical_crossentropy', optimizer=optimizers.RMSprop(lr=1e-4), metrics=['acc'])"
   ]
  },
  {
   "cell_type": "markdown",
   "metadata": {},
   "source": [
    "Using <code>ImageDataGenerator</code> para leer las imágeenes de los directorios:"
   ]
  },
  {
   "cell_type": "code",
   "execution_count": 5,
   "metadata": {},
   "outputs": [],
   "source": [
    "from keras.preprocessing.image import ImageDataGenerator\n",
    "train_datagen = ImageDataGenerator(rescale=1./255) # reescalar las imagenes por 1/255\n",
    "test_datagen = ImageDataGenerator(rescale=1./255)"
   ]
  },
  {
   "cell_type": "code",
   "execution_count": 6,
   "metadata": {},
   "outputs": [],
   "source": [
    "base_dir = '/home/dsc/tfm_data/spanish_food_images'\n",
    "train_dir = os.path.join(base_dir, 'train')\n",
    "validation_dir = os.path.join(base_dir, 'validation')\n",
    "test_dir = os.path.join(base_dir, 'test')"
   ]
  },
  {
   "cell_type": "code",
   "execution_count": 7,
   "metadata": {},
   "outputs": [
    {
     "data": {
      "text/plain": [
       "'/home/dsc/tfm_data/spanish_food_images/train'"
      ]
     },
     "execution_count": 7,
     "metadata": {},
     "output_type": "execute_result"
    }
   ],
   "source": [
    "train_dir"
   ]
  },
  {
   "cell_type": "code",
   "execution_count": 8,
   "metadata": {},
   "outputs": [
    {
     "name": "stdout",
     "output_type": "stream",
     "text": [
      "Found 2000 images belonging to 4 classes.\n",
      "Found 1000 images belonging to 4 classes.\n"
     ]
    }
   ],
   "source": [
    "train_generator =train_datagen.flow_from_directory(\n",
    "        train_dir, # directorio objetivo\n",
    "        target_size=(150,150), # rescalamos las imagenes a 150 x 150\n",
    "        batch_size=20,\n",
    "        class_mode='categorical' # hemos usado binary_crossentropy, por lo que necesitamos etiquetas binary\n",
    ")\n",
    "\n",
    "validation_generator = test_datagen.flow_from_directory(\n",
    "        validation_dir,\n",
    "        target_size=(150,150), \n",
    "        batch_size=20,\n",
    "        class_mode='categorical'\n",
    ")\n"
   ]
  },
  {
   "cell_type": "code",
   "execution_count": 9,
   "metadata": {},
   "outputs": [
    {
     "name": "stdout",
     "output_type": "stream",
     "text": [
      "data_batch shape: (20, 150, 150, 3)\n",
      "labels batch shape: (20, 4)\n"
     ]
    }
   ],
   "source": [
    "for data_batch, labels_batch in train_generator:\n",
    "    print('data_batch shape:', data_batch.shape)\n",
    "    print('labels batch shape:', labels_batch.shape)\n",
    "    break"
   ]
  },
  {
   "cell_type": "markdown",
   "metadata": {},
   "source": [
    "Visualizamos las etiquetas asignadas a cada plato:"
   ]
  },
  {
   "cell_type": "code",
   "execution_count": 10,
   "metadata": {},
   "outputs": [
    {
     "data": {
      "text/plain": [
       "{'bravas': 0, 'croquetas': 1, 'paella': 2, 'tortilla': 3}"
      ]
     },
     "execution_count": 10,
     "metadata": {},
     "output_type": "execute_result"
    }
   ],
   "source": [
    "train_generator.class_indices"
   ]
  },
  {
   "cell_type": "code",
   "execution_count": 11,
   "metadata": {
    "scrolled": true
   },
   "outputs": [
    {
     "name": "stderr",
     "output_type": "stream",
     "text": [
      "/home/dsc/anaconda3/lib/python3.7/site-packages/tensorflow/python/keras/engine/training.py:1844: UserWarning: `Model.fit_generator` is deprecated and will be removed in a future version. Please use `Model.fit`, which supports generators.\n",
      "  warnings.warn('`Model.fit_generator` is deprecated and '\n"
     ]
    },
    {
     "name": "stdout",
     "output_type": "stream",
     "text": [
      "Epoch 1/30\n",
      "50/50 [==============================] - 85s 2s/step - loss: 1.3570 - acc: 0.2874 - val_loss: 1.2279 - val_acc: 0.3960\n",
      "Epoch 2/30\n",
      "50/50 [==============================] - 79s 2s/step - loss: 1.2004 - acc: 0.4407 - val_loss: 1.2507 - val_acc: 0.4780\n",
      "Epoch 3/30\n",
      "50/50 [==============================] - 80s 2s/step - loss: 1.1428 - acc: 0.4994 - val_loss: 1.0589 - val_acc: 0.5120\n",
      "Epoch 4/30\n",
      "50/50 [==============================] - 80s 2s/step - loss: 1.0310 - acc: 0.5458 - val_loss: 1.0661 - val_acc: 0.4960\n",
      "Epoch 5/30\n",
      "50/50 [==============================] - 82s 2s/step - loss: 1.0443 - acc: 0.5505 - val_loss: 1.0067 - val_acc: 0.5940\n",
      "Epoch 6/30\n",
      "50/50 [==============================] - 79s 2s/step - loss: 0.9724 - acc: 0.5646 - val_loss: 0.9058 - val_acc: 0.6160\n",
      "Epoch 7/30\n",
      "50/50 [==============================] - 81s 2s/step - loss: 0.9060 - acc: 0.6278 - val_loss: 0.9356 - val_acc: 0.5980\n",
      "Epoch 8/30\n",
      "50/50 [==============================] - 81s 2s/step - loss: 0.9013 - acc: 0.6058 - val_loss: 0.9070 - val_acc: 0.6080\n",
      "Epoch 9/30\n",
      "50/50 [==============================] - 80s 2s/step - loss: 0.8559 - acc: 0.6150 - val_loss: 0.9293 - val_acc: 0.6080\n",
      "Epoch 10/30\n",
      "50/50 [==============================] - 80s 2s/step - loss: 0.8611 - acc: 0.6208 - val_loss: 0.9959 - val_acc: 0.5820\n",
      "Epoch 11/30\n",
      "50/50 [==============================] - 80s 2s/step - loss: 0.8370 - acc: 0.6650 - val_loss: 0.8346 - val_acc: 0.6420\n",
      "Epoch 12/30\n",
      "50/50 [==============================] - 79s 2s/step - loss: 0.7751 - acc: 0.6749 - val_loss: 0.8373 - val_acc: 0.6520\n",
      "Epoch 13/30\n",
      "50/50 [==============================] - 80s 2s/step - loss: 0.7537 - acc: 0.7062 - val_loss: 0.8145 - val_acc: 0.6480\n",
      "Epoch 14/30\n",
      "50/50 [==============================] - 82s 2s/step - loss: 0.7458 - acc: 0.6741 - val_loss: 0.8021 - val_acc: 0.6520\n",
      "Epoch 15/30\n",
      "50/50 [==============================] - 87s 2s/step - loss: 0.7864 - acc: 0.6778 - val_loss: 0.8372 - val_acc: 0.6380\n",
      "Epoch 16/30\n",
      "50/50 [==============================] - 82s 2s/step - loss: 0.7679 - acc: 0.6827 - val_loss: 0.7564 - val_acc: 0.6900\n",
      "Epoch 17/30\n",
      "50/50 [==============================] - 93s 2s/step - loss: 0.6958 - acc: 0.7371 - val_loss: 0.9152 - val_acc: 0.6600\n",
      "Epoch 18/30\n",
      "50/50 [==============================] - 82s 2s/step - loss: 0.6791 - acc: 0.7396 - val_loss: 0.8065 - val_acc: 0.6780\n",
      "Epoch 19/30\n",
      "50/50 [==============================] - 83s 2s/step - loss: 0.6891 - acc: 0.7303 - val_loss: 0.8967 - val_acc: 0.6360\n",
      "Epoch 20/30\n",
      "50/50 [==============================] - 79s 2s/step - loss: 0.6306 - acc: 0.7570 - val_loss: 0.7748 - val_acc: 0.6920\n",
      "Epoch 21/30\n",
      "50/50 [==============================] - 80s 2s/step - loss: 0.6030 - acc: 0.7533 - val_loss: 0.8152 - val_acc: 0.6660\n",
      "Epoch 22/30\n",
      "50/50 [==============================] - 85s 2s/step - loss: 0.6344 - acc: 0.7459 - val_loss: 0.8815 - val_acc: 0.6480\n",
      "Epoch 23/30\n",
      "50/50 [==============================] - 84s 2s/step - loss: 0.5745 - acc: 0.7635 - val_loss: 0.8418 - val_acc: 0.6500\n",
      "Epoch 24/30\n",
      "50/50 [==============================] - 81s 2s/step - loss: 0.5873 - acc: 0.7687 - val_loss: 0.7860 - val_acc: 0.6860\n",
      "Epoch 25/30\n",
      "50/50 [==============================] - 79s 2s/step - loss: 0.5366 - acc: 0.8088 - val_loss: 0.8006 - val_acc: 0.6820\n",
      "Epoch 26/30\n",
      "50/50 [==============================] - 79s 2s/step - loss: 0.4944 - acc: 0.8155 - val_loss: 0.9525 - val_acc: 0.6480\n",
      "Epoch 27/30\n",
      "50/50 [==============================] - 79s 2s/step - loss: 0.5259 - acc: 0.7992 - val_loss: 0.7959 - val_acc: 0.6900\n",
      "Epoch 28/30\n",
      "50/50 [==============================] - 79s 2s/step - loss: 0.4941 - acc: 0.7984 - val_loss: 0.7965 - val_acc: 0.6860\n",
      "Epoch 29/30\n",
      "50/50 [==============================] - 81s 2s/step - loss: 0.4288 - acc: 0.8370 - val_loss: 0.9797 - val_acc: 0.6640\n",
      "Epoch 30/30\n",
      "50/50 [==============================] - 80s 2s/step - loss: 0.4125 - acc: 0.8343 - val_loss: 0.9141 - val_acc: 0.6580\n"
     ]
    }
   ],
   "source": [
    "history = model.fit_generator(\n",
    "    train_generator, \n",
    "    steps_per_epoch=50,\n",
    "    epochs=30,\n",
    "    validation_data=validation_generator, \n",
    "    validation_steps=25)"
   ]
  },
  {
   "cell_type": "code",
   "execution_count": null,
   "metadata": {},
   "outputs": [],
   "source": []
  },
  {
   "cell_type": "code",
   "execution_count": null,
   "metadata": {},
   "outputs": [],
   "source": []
  }
 ],
 "metadata": {
  "kernelspec": {
   "display_name": "Python 3",
   "language": "python",
   "name": "python3"
  },
  "language_info": {
   "codemirror_mode": {
    "name": "ipython",
    "version": 3
   },
   "file_extension": ".py",
   "mimetype": "text/x-python",
   "name": "python",
   "nbconvert_exporter": "python",
   "pygments_lexer": "ipython3",
   "version": "3.7.1"
  }
 },
 "nbformat": 4,
 "nbformat_minor": 2
}
