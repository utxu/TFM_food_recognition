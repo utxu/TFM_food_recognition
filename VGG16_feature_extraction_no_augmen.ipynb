{
 "cells": [
  {
   "cell_type": "code",
   "execution_count": 1,
   "metadata": {},
   "outputs": [],
   "source": [
    "from keras.applications import VGG16"
   ]
  },
  {
   "cell_type": "code",
   "execution_count": 2,
   "metadata": {},
   "outputs": [
    {
     "name": "stdout",
     "output_type": "stream",
     "text": [
      "Downloading data from https://storage.googleapis.com/tensorflow/keras-applications/vgg16/vgg16_weights_tf_dim_ordering_tf_kernels_notop.h5\n",
      "58892288/58889256 [==============================] - 12s 0us/step\n"
     ]
    }
   ],
   "source": [
    "conv_base = VGG16(weights='imagenet', \n",
    "                 include_top=False, \n",
    "                 input_shape=(150,150,3))"
   ]
  },
  {
   "cell_type": "code",
   "execution_count": 3,
   "metadata": {
    "scrolled": true
   },
   "outputs": [
    {
     "name": "stdout",
     "output_type": "stream",
     "text": [
      "Model: \"vgg16\"\n",
      "_________________________________________________________________\n",
      "Layer (type)                 Output Shape              Param #   \n",
      "=================================================================\n",
      "input_1 (InputLayer)         [(None, 150, 150, 3)]     0         \n",
      "_________________________________________________________________\n",
      "block1_conv1 (Conv2D)        (None, 150, 150, 64)      1792      \n",
      "_________________________________________________________________\n",
      "block1_conv2 (Conv2D)        (None, 150, 150, 64)      36928     \n",
      "_________________________________________________________________\n",
      "block1_pool (MaxPooling2D)   (None, 75, 75, 64)        0         \n",
      "_________________________________________________________________\n",
      "block2_conv1 (Conv2D)        (None, 75, 75, 128)       73856     \n",
      "_________________________________________________________________\n",
      "block2_conv2 (Conv2D)        (None, 75, 75, 128)       147584    \n",
      "_________________________________________________________________\n",
      "block2_pool (MaxPooling2D)   (None, 37, 37, 128)       0         \n",
      "_________________________________________________________________\n",
      "block3_conv1 (Conv2D)        (None, 37, 37, 256)       295168    \n",
      "_________________________________________________________________\n",
      "block3_conv2 (Conv2D)        (None, 37, 37, 256)       590080    \n",
      "_________________________________________________________________\n",
      "block3_conv3 (Conv2D)        (None, 37, 37, 256)       590080    \n",
      "_________________________________________________________________\n",
      "block3_pool (MaxPooling2D)   (None, 18, 18, 256)       0         \n",
      "_________________________________________________________________\n",
      "block4_conv1 (Conv2D)        (None, 18, 18, 512)       1180160   \n",
      "_________________________________________________________________\n",
      "block4_conv2 (Conv2D)        (None, 18, 18, 512)       2359808   \n",
      "_________________________________________________________________\n",
      "block4_conv3 (Conv2D)        (None, 18, 18, 512)       2359808   \n",
      "_________________________________________________________________\n",
      "block4_pool (MaxPooling2D)   (None, 9, 9, 512)         0         \n",
      "_________________________________________________________________\n",
      "block5_conv1 (Conv2D)        (None, 9, 9, 512)         2359808   \n",
      "_________________________________________________________________\n",
      "block5_conv2 (Conv2D)        (None, 9, 9, 512)         2359808   \n",
      "_________________________________________________________________\n",
      "block5_conv3 (Conv2D)        (None, 9, 9, 512)         2359808   \n",
      "_________________________________________________________________\n",
      "block5_pool (MaxPooling2D)   (None, 4, 4, 512)         0         \n",
      "=================================================================\n",
      "Total params: 14,714,688\n",
      "Trainable params: 14,714,688\n",
      "Non-trainable params: 0\n",
      "_________________________________________________________________\n"
     ]
    }
   ],
   "source": [
    "conv_base.summary()"
   ]
  },
  {
   "cell_type": "code",
   "execution_count": 4,
   "metadata": {},
   "outputs": [],
   "source": [
    "import os\n",
    "import numpy as np\n",
    "from keras.preprocessing.image import ImageDataGenerator"
   ]
  },
  {
   "cell_type": "code",
   "execution_count": 5,
   "metadata": {},
   "outputs": [],
   "source": [
    "base_dir = '/home/dsc/tfm_data/spanish_food_images'\n",
    "train_dir = os.path.join(base_dir, 'train')\n",
    "validation_dir = os.path.join(base_dir, 'validation')\n",
    "test_dir = os.path.join(base_dir, 'test')"
   ]
  },
  {
   "cell_type": "code",
   "execution_count": 7,
   "metadata": {},
   "outputs": [],
   "source": [
    "datagen = ImageDataGenerator(rescale=1./255)\n",
    "batch_size = 20"
   ]
  },
  {
   "cell_type": "code",
   "execution_count": 10,
   "metadata": {},
   "outputs": [],
   "source": [
    "def extract_features(directory, sample_count):\n",
    "    features = np.zeros(shape=(sample_count, 4, 4, 512))\n",
    "    labels = np.zeros(shape=(sample_count, 4))\n",
    "    generator = datagen.flow_from_directory(directory, \n",
    "                                           target_size=(150, 150), \n",
    "                                           batch_size = batch_size, \n",
    "                                           class_mode = \"categorical\")\n",
    "    i = 0\n",
    "    for inputs_batch, labels_batch in generator:\n",
    "        features_batch = conv_base.predict(inputs_batch)\n",
    "        features[i * batch_size : (i + 1) * batch_size] = features_batch\n",
    "        labels[i * batch_size : (i + 1) * batch_size] = labels_batch\n",
    "        i += 1\n",
    "        if i * batch_size >= sample_count:\n",
    "            break\n",
    "    return features, labels"
   ]
  },
  {
   "cell_type": "code",
   "execution_count": 11,
   "metadata": {},
   "outputs": [
    {
     "name": "stdout",
     "output_type": "stream",
     "text": [
      "Found 2000 images belonging to 4 classes.\n"
     ]
    }
   ],
   "source": [
    "train_features, train_labels = extract_features(train_dir, 2000)"
   ]
  },
  {
   "cell_type": "code",
   "execution_count": 12,
   "metadata": {},
   "outputs": [
    {
     "name": "stdout",
     "output_type": "stream",
     "text": [
      "Found 1000 images belonging to 4 classes.\n"
     ]
    }
   ],
   "source": [
    "validation_features, validation_labels = extract_features(validation_dir, 1000)"
   ]
  },
  {
   "cell_type": "code",
   "execution_count": 13,
   "metadata": {},
   "outputs": [
    {
     "name": "stdout",
     "output_type": "stream",
     "text": [
      "Found 1000 images belonging to 4 classes.\n"
     ]
    }
   ],
   "source": [
    "test_features, test_labels = extract_features(test_dir, 1000)"
   ]
  },
  {
   "cell_type": "code",
   "execution_count": 14,
   "metadata": {},
   "outputs": [
    {
     "data": {
      "text/plain": [
       "(2000, 4, 4, 512)"
      ]
     },
     "execution_count": 14,
     "metadata": {},
     "output_type": "execute_result"
    }
   ],
   "source": [
    "train_features.shape"
   ]
  },
  {
   "cell_type": "code",
   "execution_count": 15,
   "metadata": {},
   "outputs": [],
   "source": [
    "train_features = np.reshape(train_features, (2000, 4 * 4 * 512))\n",
    "validation_features = np.reshape(validation_features, (1000, 4 * 4 * 512))\n",
    "test_features = np.reshape(test_features, (1000, 4 * 4 * 512))"
   ]
  },
  {
   "cell_type": "code",
   "execution_count": 16,
   "metadata": {
    "scrolled": true
   },
   "outputs": [
    {
     "data": {
      "text/plain": [
       "array([[0.07271027, 0.        , 0.        , ..., 0.        , 0.10103762,\n",
       "        0.        ],\n",
       "       [0.03231382, 0.        , 0.        , ..., 0.        , 0.        ,\n",
       "        0.        ],\n",
       "       [0.75084198, 0.        , 0.        , ..., 0.        , 0.        ,\n",
       "        0.        ],\n",
       "       ...,\n",
       "       [0.07596818, 0.        , 0.        , ..., 0.        , 0.06016117,\n",
       "        0.        ],\n",
       "       [0.28700411, 0.        , 0.        , ..., 0.67219466, 0.24134633,\n",
       "        0.        ],\n",
       "       [0.1606926 , 0.        , 0.        , ..., 0.        , 0.        ,\n",
       "        0.        ]])"
      ]
     },
     "execution_count": 16,
     "metadata": {},
     "output_type": "execute_result"
    }
   ],
   "source": [
    "test_features"
   ]
  },
  {
   "cell_type": "code",
   "execution_count": 18,
   "metadata": {},
   "outputs": [
    {
     "name": "stdout",
     "output_type": "stream",
     "text": [
      "Epoch 1/30\n",
      "100/100 [==============================] - 2s 18ms/step - loss: 1.1739 - acc: 0.4823 - val_loss: 0.7010 - val_acc: 0.7170\n",
      "Epoch 2/30\n",
      "100/100 [==============================] - 1s 14ms/step - loss: 0.6545 - acc: 0.7391 - val_loss: 0.6040 - val_acc: 0.7690\n",
      "Epoch 3/30\n",
      "100/100 [==============================] - 1s 14ms/step - loss: 0.5082 - acc: 0.8070 - val_loss: 0.5372 - val_acc: 0.7890\n",
      "Epoch 4/30\n",
      "100/100 [==============================] - 2s 15ms/step - loss: 0.4495 - acc: 0.8208 - val_loss: 0.5050 - val_acc: 0.8180\n",
      "Epoch 5/30\n",
      "100/100 [==============================] - 2s 17ms/step - loss: 0.3591 - acc: 0.8629 - val_loss: 0.4860 - val_acc: 0.8150\n",
      "Epoch 6/30\n",
      "100/100 [==============================] - 2s 15ms/step - loss: 0.3146 - acc: 0.8801 - val_loss: 0.5308 - val_acc: 0.7950\n",
      "Epoch 7/30\n",
      "100/100 [==============================] - 2s 20ms/step - loss: 0.2456 - acc: 0.9127 - val_loss: 0.4996 - val_acc: 0.8110\n",
      "Epoch 8/30\n",
      "100/100 [==============================] - 2s 21ms/step - loss: 0.2036 - acc: 0.9344 - val_loss: 0.4734 - val_acc: 0.8210\n",
      "Epoch 9/30\n",
      "100/100 [==============================] - 2s 17ms/step - loss: 0.1781 - acc: 0.9373 - val_loss: 0.4699 - val_acc: 0.8270\n",
      "Epoch 10/30\n",
      "100/100 [==============================] - 1s 14ms/step - loss: 0.1439 - acc: 0.9601 - val_loss: 0.4801 - val_acc: 0.8230\n",
      "Epoch 11/30\n",
      "100/100 [==============================] - 1s 14ms/step - loss: 0.1331 - acc: 0.9612 - val_loss: 0.4902 - val_acc: 0.8290\n",
      "Epoch 12/30\n",
      "100/100 [==============================] - 1s 14ms/step - loss: 0.1353 - acc: 0.9589 - val_loss: 0.5068 - val_acc: 0.8190\n",
      "Epoch 13/30\n",
      "100/100 [==============================] - 1s 15ms/step - loss: 0.0929 - acc: 0.9809 - val_loss: 0.5051 - val_acc: 0.8280\n",
      "Epoch 14/30\n",
      "100/100 [==============================] - 2s 15ms/step - loss: 0.0821 - acc: 0.9841 - val_loss: 0.5254 - val_acc: 0.8130\n",
      "Epoch 15/30\n",
      "100/100 [==============================] - 2s 16ms/step - loss: 0.0787 - acc: 0.9777 - val_loss: 0.5155 - val_acc: 0.8260\n",
      "Epoch 16/30\n",
      "100/100 [==============================] - 2s 15ms/step - loss: 0.0656 - acc: 0.9818 - val_loss: 0.5200 - val_acc: 0.8320\n",
      "Epoch 17/30\n",
      "100/100 [==============================] - 2s 15ms/step - loss: 0.0467 - acc: 0.9935 - val_loss: 0.5212 - val_acc: 0.8180\n",
      "Epoch 18/30\n",
      "100/100 [==============================] - 2s 16ms/step - loss: 0.0383 - acc: 0.9954 - val_loss: 0.5407 - val_acc: 0.8280\n",
      "Epoch 19/30\n",
      "100/100 [==============================] - 2s 16ms/step - loss: 0.0386 - acc: 0.9926 - val_loss: 0.5683 - val_acc: 0.8290\n",
      "Epoch 20/30\n",
      "100/100 [==============================] - 2s 15ms/step - loss: 0.0336 - acc: 0.9959 - val_loss: 0.5439 - val_acc: 0.8260\n",
      "Epoch 21/30\n",
      "100/100 [==============================] - 2s 15ms/step - loss: 0.0288 - acc: 0.9948 - val_loss: 0.5775 - val_acc: 0.8320\n",
      "Epoch 22/30\n",
      "100/100 [==============================] - 2s 16ms/step - loss: 0.0264 - acc: 0.9938 - val_loss: 0.5743 - val_acc: 0.8220\n",
      "Epoch 23/30\n",
      "100/100 [==============================] - 2s 15ms/step - loss: 0.0272 - acc: 0.9945 - val_loss: 0.5937 - val_acc: 0.8320\n",
      "Epoch 24/30\n",
      "100/100 [==============================] - 2s 15ms/step - loss: 0.0218 - acc: 0.9985 - val_loss: 0.6155 - val_acc: 0.8250\n",
      "Epoch 25/30\n",
      "100/100 [==============================] - 2s 15ms/step - loss: 0.0184 - acc: 0.9976 - val_loss: 0.6240 - val_acc: 0.8210\n",
      "Epoch 26/30\n",
      "100/100 [==============================] - 2s 15ms/step - loss: 0.0148 - acc: 0.9989 - val_loss: 0.6070 - val_acc: 0.8380\n",
      "Epoch 27/30\n",
      "100/100 [==============================] - 2s 15ms/step - loss: 0.0127 - acc: 0.9997 - val_loss: 0.6499 - val_acc: 0.8240\n",
      "Epoch 28/30\n",
      "100/100 [==============================] - 2s 15ms/step - loss: 0.0152 - acc: 0.9974 - val_loss: 0.6195 - val_acc: 0.8260\n",
      "Epoch 29/30\n",
      "100/100 [==============================] - 2s 15ms/step - loss: 0.0096 - acc: 0.9988 - val_loss: 0.6918 - val_acc: 0.8290\n",
      "Epoch 30/30\n",
      "100/100 [==============================] - 2s 15ms/step - loss: 0.0083 - acc: 0.9995 - val_loss: 0.6951 - val_acc: 0.8220\n"
     ]
    }
   ],
   "source": [
    "from keras import models\n",
    "from keras import layers\n",
    "from keras import optimizers\n",
    "\n",
    "model = models.Sequential()\n",
    "model.add(layers.Dense(256, activation = 'relu', input_dim = 4 * 4 * 512))\n",
    "model.add(layers.Dropout(0.5))\n",
    "model.add(layers.Dense(4, activation = 'softmax'))\n",
    "\n",
    "model.compile(loss='categorical_crossentropy', \n",
    "              optimizer=optimizers.RMSprop(lr=1e-4), \n",
    "              metrics=['acc'])\n",
    "\n",
    "history = model.fit(train_features, train_labels, \n",
    "                   epochs = 30, \n",
    "                   batch_size = 20, \n",
    "                   validation_data = (validation_features, validation_labels))\n"
   ]
  },
  {
   "cell_type": "code",
   "execution_count": null,
   "metadata": {},
   "outputs": [],
   "source": [
    "# Plotting:"
   ]
  },
  {
   "cell_type": "code",
   "execution_count": 20,
   "metadata": {},
   "outputs": [],
   "source": [
    "import matplotlib.pyplot as plt"
   ]
  },
  {
   "cell_type": "code",
   "execution_count": 21,
   "metadata": {},
   "outputs": [
    {
     "data": {
      "image/png": "[encoded data removed]",
      "text/plain": [
       "<Figure size 432x288 with 1 Axes>"
      ]
     },
     "metadata": {
      "needs_background": "light"
     },
     "output_type": "display_data"
    },
    {
     "data": {
      "image/png": "[encoded data removed]",
      "text/plain": [
       "<Figure size 432x288 with 1 Axes>"
      ]
     },
     "metadata": {
      "needs_background": "light"
     },
     "output_type": "display_data"
    }
   ],
   "source": [
    "acc = history.history['acc']\n",
    "val_acc = history.history['val_acc']\n",
    "loss = history.history['loss']\n",
    "val_loss = history.history['val_loss']\n",
    "\n",
    "epochs = range(1, len(acc) + 1)\n",
    "\n",
    "plt.plot(epochs, acc, 'bo', label='Training acc')\n",
    "plt.plot(epochs, val_acc, 'b', label='Validation acc')\n",
    "plt.title('Training and validation accuracy')\n",
    "plt.legend()\n",
    "\n",
    "plt.figure()\n",
    "\n",
    "plt.plot(epochs, loss, 'bo', label='Training loss')\n",
    "plt.plot(epochs, val_loss, 'b', label='Validation loss')\n",
    "plt.title('Training and validation loss')\n",
    "plt.legend()\n",
    "\n",
    "plt.show()"
   ]
  },
  {
   "cell_type": "code",
   "execution_count": null,
   "metadata": {},
   "outputs": [],
   "source": []
  },
  {
   "cell_type": "code",
   "execution_count": null,
   "metadata": {},
   "outputs": [],
   "source": []
  }
 ],
 "metadata": {
  "kernelspec": {
   "display_name": "Python 3",
   "language": "python",
   "name": "python3"
  },
  "language_info": {
   "codemirror_mode": {
    "name": "ipython",
    "version": 3
   },
   "file_extension": ".py",
   "mimetype": "text/x-python",
   "name": "python",
   "nbconvert_exporter": "python",
   "pygments_lexer": "ipython3",
   "version": "3.7.1"
  }
 },
 "nbformat": 4,
 "nbformat_minor": 2
}
