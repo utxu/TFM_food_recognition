{
  "nbformat": 4,
  "nbformat_minor": 0,
  "metadata": {
    "colab": {
      "name": "colab_Fine-Tuning_over_FEx.ipynb",
      "provenance": [],
      "authorship_tag": "ABX9TyM/Vua1ZYgiWDMPMPT3cjHl",
      "include_colab_link": true
    },
    "kernelspec": {
      "name": "python3",
      "display_name": "Python 3"
    },
    "language_info": {
      "name": "python"
    },
    "accelerator": "GPU"
  },
  "cells": [
    {
      "cell_type": "markdown",
      "metadata": {
        "id": "view-in-github",
        "colab_type": "text"
      },
      "source": [
        "<a href=\"https://colab.research.google.com/github/utxu/TFM_food_recognition/blob/main/colab_Fine_Tuning_over_FEx.ipynb\" target=\"_parent\"><img src=\"https://colab.research.google.com/assets/colab-badge.svg\" alt=\"Open In Colab\"/></a>"
      ]
    },
    {
      "cell_type": "code",
      "metadata": {
        "colab": {
          "base_uri": "https://localhost:8080/",
          "height": 35
        },
        "id": "S8S6rnOYhQoe",
        "outputId": "7e98d9a2-66c6-4c42-d0c2-da74f1b102c8"
      },
      "source": [
        "import tensorflow as tf\n",
        "import keras\n",
        "tf.test.gpu_device_name()"
      ],
      "execution_count": 1,
      "outputs": [
        {
          "output_type": "execute_result",
          "data": {
            "application/vnd.google.colaboratory.intrinsic+json": {
              "type": "string"
            },
            "text/plain": [
              "'/device:GPU:0'"
            ]
          },
          "metadata": {
            "tags": []
          },
          "execution_count": 1
        }
      ]
    },
    {
      "cell_type": "code",
      "metadata": {
        "colab": {
          "base_uri": "https://localhost:8080/"
        },
        "id": "kkmNpr0IiLAB",
        "outputId": "cfcacd23-fb12-4af1-b4e4-e3c1f4918617"
      },
      "source": [
        "# memory footprint support libraries/code\n",
        "!ln -sf /opt/bin/nvidia-smi /usr/bin/nvidia-smi\n",
        "!pip install gputil\n",
        "!pip install psutil\n",
        "!pip install humanize\n",
        "import psutil\n",
        "import humanize\n",
        "import os\n",
        "import GPUtil as GPU\n",
        "GPUs = GPU.getGPUs()\n",
        "# XXX: only one GPU on Colab and isn’t guaranteed\n",
        "gpu = GPUs[0]\n",
        "def printm():\n",
        " process = psutil.Process(os.getpid())\n",
        " print(\"Gen RAM Free: \" + humanize.naturalsize( psutil.virtual_memory().available ), \" | Proc size: \" + humanize.naturalsize( process.memory_info().rss))\n",
        " print(\"GPU RAM Free: {0:.0f}MB | Used: {1:.0f}MB | Util {2:3.0f}% | Total {3:.0f}MB\".format(gpu.memoryFree, gpu.memoryUsed, gpu.memoryUtil*100, gpu.memoryTotal))\n",
        "printm() "
      ],
      "execution_count": 2,
      "outputs": [
        {
          "output_type": "stream",
          "text": [
            "Collecting gputil\n",
            "  Downloading https://files.pythonhosted.org/packages/ed/0e/5c61eedde9f6c87713e89d794f01e378cfd9565847d4576fa627d758c554/GPUtil-1.4.0.tar.gz\n",
            "Building wheels for collected packages: gputil\n",
            "  Building wheel for gputil (setup.py) ... \u001b[?25l\u001b[?25hdone\n",
            "  Created wheel for gputil: filename=GPUtil-1.4.0-cp37-none-any.whl size=7411 sha256=6a2a090441a1e5ec13dfa79b9e27fda753c03a78a67aa3ceb331f9057a4ad698\n",
            "  Stored in directory: /root/.cache/pip/wheels/3d/77/07/80562de4bb0786e5ea186911a2c831fdd0018bda69beab71fd\n",
            "Successfully built gputil\n",
            "Installing collected packages: gputil\n",
            "Successfully installed gputil-1.4.0\n",
            "Requirement already satisfied: psutil in /usr/local/lib/python3.7/dist-packages (5.4.8)\n",
            "Requirement already satisfied: humanize in /usr/local/lib/python3.7/dist-packages (0.5.1)\n",
            "Gen RAM Free: 12.3 GB  | Proc size: 946.0 MB\n",
            "GPU RAM Free: 14887MB | Used: 222MB | Util   1% | Total 15109MB\n"
          ],
          "name": "stdout"
        }
      ]
    },
    {
      "cell_type": "code",
      "metadata": {
        "colab": {
          "base_uri": "https://localhost:8080/"
        },
        "id": "zSVt50O2iLHB",
        "outputId": "bf1a2edd-261d-4d4c-f5c5-5ec690fad1a1"
      },
      "source": [
        "from google.colab import drive\n",
        "drive.mount('/content/drive')"
      ],
      "execution_count": 3,
      "outputs": [
        {
          "output_type": "stream",
          "text": [
            "Mounted at /content/drive\n"
          ],
          "name": "stdout"
        }
      ]
    },
    {
      "cell_type": "code",
      "metadata": {
        "colab": {
          "base_uri": "https://localhost:8080/"
        },
        "id": "Gw3GvAb8iLLx",
        "outputId": "0b7a3198-9c1c-4215-eef0-515d7a3838ee"
      },
      "source": [
        "!pwd"
      ],
      "execution_count": 4,
      "outputs": [
        {
          "output_type": "stream",
          "text": [
            "/content\n"
          ],
          "name": "stdout"
        }
      ]
    },
    {
      "cell_type": "code",
      "metadata": {
        "colab": {
          "base_uri": "https://localhost:8080/"
        },
        "id": "s35rk_X2jJhc",
        "outputId": "91e2979b-317c-4ec6-bd54-8805e13140c5"
      },
      "source": [
        "!ls -l"
      ],
      "execution_count": 5,
      "outputs": [
        {
          "output_type": "stream",
          "text": [
            "total 8\n",
            "drwx------ 5 root root 4096 Jun  8 21:34 drive\n",
            "drwxr-xr-x 1 root root 4096 Jun  1 13:40 sample_data\n"
          ],
          "name": "stdout"
        }
      ]
    },
    {
      "cell_type": "code",
      "metadata": {
        "id": "OVqTGbKViLOY"
      },
      "source": [
        "import os\n",
        "\n",
        "# Location of Zip File\n",
        "drive_path = '/content/drive/MyDrive/spanish_food_images.zip'\n",
        "local_path = '/content'\n",
        "\n",
        "# Copy the zip file and move it up one level (AKA out of the drive folder)\n",
        "!cp '{drive_path}' .\n",
        "\n",
        "# Navigate to the copied file and unzip it quietly\n",
        "os.chdir(local_path)\n",
        "!unzip -q 'spanish_food_images.zip'"
      ],
      "execution_count": 6,
      "outputs": []
    },
    {
      "cell_type": "code",
      "metadata": {
        "id": "R9DgVuhwiLRB"
      },
      "source": [
        "# Vamos a borrar la copia del .zip porq lo tenemos en la ruta de 'My drive'\n",
        "! rm -rf spanish_food_images.zip"
      ],
      "execution_count": 7,
      "outputs": []
    },
    {
      "cell_type": "code",
      "metadata": {
        "id": "XqfCSsdziLTp"
      },
      "source": [
        "from keras.applications.vgg16 import VGG16"
      ],
      "execution_count": 8,
      "outputs": []
    },
    {
      "cell_type": "code",
      "metadata": {
        "colab": {
          "base_uri": "https://localhost:8080/"
        },
        "id": "s_gFx_KViZ8r",
        "outputId": "c399d800-87f4-479f-867e-a707b3a790ee"
      },
      "source": [
        "conv_base = VGG16(weights='imagenet', \n",
        "                 include_top=False, \n",
        "                 input_shape=(150,150,3))"
      ],
      "execution_count": 9,
      "outputs": [
        {
          "output_type": "stream",
          "text": [
            "Downloading data from https://storage.googleapis.com/tensorflow/keras-applications/vgg16/vgg16_weights_tf_dim_ordering_tf_kernels_notop.h5\n",
            "58892288/58889256 [==============================] - 0s 0us/step\n",
            "58900480/58889256 [==============================] - 0s 0us/step\n"
          ],
          "name": "stdout"
        }
      ]
    },
    {
      "cell_type": "code",
      "metadata": {
        "id": "FTFHLnVFiaBg"
      },
      "source": [
        "from keras import models\n",
        "from keras import layers"
      ],
      "execution_count": 10,
      "outputs": []
    },
    {
      "cell_type": "code",
      "metadata": {
        "colab": {
          "base_uri": "https://localhost:8080/"
        },
        "id": "xcdrWu31iaE4",
        "outputId": "1445628c-a2d8-4b61-be49-5a8490ba9cbc"
      },
      "source": [
        "model = models.Sequential()\n",
        "model.add(conv_base)\n",
        "model.add(layers.Flatten())\n",
        "model.add(layers.Dense(256, activation='relu'))\n",
        "model.add(layers.Dense(4, activation='softmax'))\n",
        "\n",
        "model.summary()\n"
      ],
      "execution_count": 11,
      "outputs": [
        {
          "output_type": "stream",
          "text": [
            "Model: \"sequential\"\n",
            "_________________________________________________________________\n",
            "Layer (type)                 Output Shape              Param #   \n",
            "=================================================================\n",
            "vgg16 (Functional)           (None, 4, 4, 512)         14714688  \n",
            "_________________________________________________________________\n",
            "flatten (Flatten)            (None, 8192)              0         \n",
            "_________________________________________________________________\n",
            "dense (Dense)                (None, 256)               2097408   \n",
            "_________________________________________________________________\n",
            "dense_1 (Dense)              (None, 4)                 1028      \n",
            "=================================================================\n",
            "Total params: 16,813,124\n",
            "Trainable params: 16,813,124\n",
            "Non-trainable params: 0\n",
            "_________________________________________________________________\n"
          ],
          "name": "stdout"
        }
      ]
    },
    {
      "cell_type": "code",
      "metadata": {
        "id": "ucII5pOwiaHi"
      },
      "source": [
        "base_dir = '/content/spanish_food_images'\n",
        "train_dir = os.path.join(base_dir, 'train')\n",
        "validation_dir = os.path.join(base_dir, 'validation')\n",
        "test_dir = os.path.join(base_dir, 'test')"
      ],
      "execution_count": 12,
      "outputs": []
    },
    {
      "cell_type": "code",
      "metadata": {
        "id": "a-oIH1KXilEs"
      },
      "source": [
        "from keras.preprocessing.image import ImageDataGenerator\n",
        "from keras import optimizers"
      ],
      "execution_count": 13,
      "outputs": []
    },
    {
      "cell_type": "code",
      "metadata": {
        "colab": {
          "base_uri": "https://localhost:8080/"
        },
        "id": "w4Mgxn3ailM1",
        "outputId": "2a5816d3-f59c-40ea-ff45-9c982415794b"
      },
      "source": [
        "train_datagen = ImageDataGenerator(\n",
        "    rescale=1./255,\n",
        "    rotation_range=40,\n",
        "    width_shift_range=0.2,\n",
        "    height_shift_range=0.2,\n",
        "    shear_range=0.2, \n",
        "    zoom_range=0.2,\n",
        "    horizontal_flip=True, \n",
        "    fill_mode='nearest')\n",
        "\n",
        "test_datagen = ImageDataGenerator(rescale=1./255)\n",
        "\n",
        "train_generator = train_datagen.flow_from_directory(\n",
        "    train_dir, \n",
        "    target_size=(150, 150), \n",
        "    batch_size=20, \n",
        "    class_mode='categorical')\n",
        "\n",
        "validation_generator = test_datagen.flow_from_directory(\n",
        "    validation_dir, \n",
        "    target_size=(150, 150), \n",
        "    batch_size=20, \n",
        "    class_mode='categorical')\n",
        "\n",
        "model.compile(loss='categorical_crossentropy', \n",
        "              optimizer=optimizers.RMSprop(lr=2e-5), \n",
        "              metrics=['acc'])\n",
        "\n",
        "history = model.fit_generator(\n",
        "    train_generator,\n",
        "    steps_per_epoch=100, \n",
        "    epochs=30,\n",
        "    validation_data=validation_generator,\n",
        "    validation_steps=50)\n"
      ],
      "execution_count": 14,
      "outputs": [
        {
          "output_type": "stream",
          "text": [
            "Found 2000 images belonging to 4 classes.\n",
            "Found 1000 images belonging to 4 classes.\n"
          ],
          "name": "stdout"
        },
        {
          "output_type": "stream",
          "text": [
            "/usr/local/lib/python3.7/dist-packages/tensorflow/python/keras/optimizer_v2/optimizer_v2.py:375: UserWarning: The `lr` argument is deprecated, use `learning_rate` instead.\n",
            "  \"The `lr` argument is deprecated, use `learning_rate` instead.\")\n",
            "/usr/local/lib/python3.7/dist-packages/keras/engine/training.py:1915: UserWarning: `Model.fit_generator` is deprecated and will be removed in a future version. Please use `Model.fit`, which supports generators.\n",
            "  warnings.warn('`Model.fit_generator` is deprecated and '\n"
          ],
          "name": "stderr"
        },
        {
          "output_type": "stream",
          "text": [
            "Epoch 1/30\n",
            "100/100 [==============================] - 83s 347ms/step - loss: 1.0742 - acc: 0.5306 - val_loss: 0.5164 - val_acc: 0.7940\n",
            "Epoch 2/30\n",
            "100/100 [==============================] - 34s 338ms/step - loss: 0.5870 - acc: 0.7722 - val_loss: 0.5443 - val_acc: 0.7860\n",
            "Epoch 3/30\n",
            "100/100 [==============================] - 34s 337ms/step - loss: 0.4264 - acc: 0.8475 - val_loss: 0.4243 - val_acc: 0.8380\n",
            "Epoch 4/30\n",
            "100/100 [==============================] - 34s 338ms/step - loss: 0.3721 - acc: 0.8722 - val_loss: 0.5219 - val_acc: 0.8060\n",
            "Epoch 5/30\n",
            "100/100 [==============================] - 34s 338ms/step - loss: 0.3430 - acc: 0.8723 - val_loss: 0.3509 - val_acc: 0.8730\n",
            "Epoch 6/30\n",
            "100/100 [==============================] - 34s 337ms/step - loss: 0.3027 - acc: 0.8917 - val_loss: 0.3926 - val_acc: 0.8680\n",
            "Epoch 7/30\n",
            "100/100 [==============================] - 34s 338ms/step - loss: 0.2381 - acc: 0.9128 - val_loss: 0.2994 - val_acc: 0.8920\n",
            "Epoch 8/30\n",
            "100/100 [==============================] - 34s 336ms/step - loss: 0.2419 - acc: 0.9194 - val_loss: 0.3086 - val_acc: 0.8930\n",
            "Epoch 9/30\n",
            "100/100 [==============================] - 34s 336ms/step - loss: 0.2232 - acc: 0.9199 - val_loss: 0.2609 - val_acc: 0.9090\n",
            "Epoch 10/30\n",
            "100/100 [==============================] - 34s 337ms/step - loss: 0.1987 - acc: 0.9289 - val_loss: 0.2242 - val_acc: 0.9210\n",
            "Epoch 11/30\n",
            "100/100 [==============================] - 34s 336ms/step - loss: 0.1813 - acc: 0.9392 - val_loss: 0.3127 - val_acc: 0.9110\n",
            "Epoch 12/30\n",
            "100/100 [==============================] - 34s 337ms/step - loss: 0.1610 - acc: 0.9449 - val_loss: 0.6511 - val_acc: 0.8420\n",
            "Epoch 13/30\n",
            "100/100 [==============================] - 34s 336ms/step - loss: 0.1582 - acc: 0.9403 - val_loss: 0.2382 - val_acc: 0.9180\n",
            "Epoch 14/30\n",
            "100/100 [==============================] - 34s 338ms/step - loss: 0.1344 - acc: 0.9577 - val_loss: 0.2889 - val_acc: 0.9200\n",
            "Epoch 15/30\n",
            "100/100 [==============================] - 34s 339ms/step - loss: 0.1349 - acc: 0.9424 - val_loss: 0.3270 - val_acc: 0.9150\n",
            "Epoch 16/30\n",
            "100/100 [==============================] - 34s 336ms/step - loss: 0.1124 - acc: 0.9658 - val_loss: 0.2922 - val_acc: 0.9020\n",
            "Epoch 17/30\n",
            "100/100 [==============================] - 34s 336ms/step - loss: 0.1089 - acc: 0.9652 - val_loss: 0.4265 - val_acc: 0.8980\n",
            "Epoch 18/30\n",
            "100/100 [==============================] - 34s 335ms/step - loss: 0.1097 - acc: 0.9627 - val_loss: 1.0320 - val_acc: 0.7950\n",
            "Epoch 19/30\n",
            "100/100 [==============================] - 34s 337ms/step - loss: 0.1216 - acc: 0.9593 - val_loss: 0.3554 - val_acc: 0.9250\n",
            "Epoch 20/30\n",
            "100/100 [==============================] - 34s 336ms/step - loss: 0.1063 - acc: 0.9601 - val_loss: 0.3951 - val_acc: 0.9130\n",
            "Epoch 21/30\n",
            "100/100 [==============================] - 34s 336ms/step - loss: 0.0933 - acc: 0.9815 - val_loss: 0.2691 - val_acc: 0.9190\n",
            "Epoch 22/30\n",
            "100/100 [==============================] - 34s 337ms/step - loss: 0.0884 - acc: 0.9713 - val_loss: 0.2901 - val_acc: 0.9230\n",
            "Epoch 23/30\n",
            "100/100 [==============================] - 34s 336ms/step - loss: 0.0679 - acc: 0.9740 - val_loss: 0.5301 - val_acc: 0.8710\n",
            "Epoch 24/30\n",
            "100/100 [==============================] - 34s 337ms/step - loss: 0.0872 - acc: 0.9748 - val_loss: 0.3110 - val_acc: 0.9170\n",
            "Epoch 25/30\n",
            "100/100 [==============================] - 34s 336ms/step - loss: 0.0773 - acc: 0.9755 - val_loss: 0.3853 - val_acc: 0.9090\n",
            "Epoch 26/30\n",
            "100/100 [==============================] - 34s 337ms/step - loss: 0.0759 - acc: 0.9752 - val_loss: 0.3195 - val_acc: 0.9180\n",
            "Epoch 27/30\n",
            "100/100 [==============================] - 34s 335ms/step - loss: 0.0684 - acc: 0.9764 - val_loss: 0.5056 - val_acc: 0.9010\n",
            "Epoch 28/30\n",
            "100/100 [==============================] - 34s 336ms/step - loss: 0.0991 - acc: 0.9660 - val_loss: 0.3756 - val_acc: 0.8980\n",
            "Epoch 29/30\n",
            "100/100 [==============================] - 34s 337ms/step - loss: 0.0473 - acc: 0.9859 - val_loss: 0.3635 - val_acc: 0.9200\n",
            "Epoch 30/30\n",
            "100/100 [==============================] - 34s 335ms/step - loss: 0.0510 - acc: 0.9832 - val_loss: 0.3403 - val_acc: 0.9240\n"
          ],
          "name": "stdout"
        }
      ]
    },
    {
      "cell_type": "code",
      "metadata": {
        "colab": {
          "base_uri": "https://localhost:8080/",
          "height": 545
        },
        "id": "Z1Np3l20ilP0",
        "outputId": "0a821f28-d92e-4ad6-d957-81fee87e29d9"
      },
      "source": [
        "import matplotlib.pyplot as plt\n",
        "\n",
        "acc = history.history['acc']\n",
        "val_acc = history.history['val_acc']\n",
        "loss = history.history['loss']\n",
        "val_loss = history.history['val_loss']\n",
        "\n",
        "epochs = range(1, len(acc) + 1)\n",
        "\n",
        "plt.plot(epochs, acc, 'bo', label='Training acc')\n",
        "plt.plot(epochs, val_acc, 'b', label='Validation acc')\n",
        "plt.title('Training and validation accuracy')\n",
        "plt.legend()\n",
        "\n",
        "plt.figure()\n",
        "\n",
        "plt.plot(epochs, loss, 'bo', label='Training loss')\n",
        "plt.plot(epochs, val_loss, 'b', label='Validation loss')\n",
        "plt.title('Training and validation loss')\n",
        "plt.legend()\n",
        "\n",
        "plt.show()"
      ],
      "execution_count": 15,
      "outputs": [
        {
          "output_type": "display_data",
          "data": {
            "image/png": "[encoded data removed]",
            "text/plain": [
              "<Figure size 432x288 with 1 Axes>"
            ]
          },
          "metadata": {
            "tags": [],
            "needs_background": "light"
          }
        },
        {
          "output_type": "display_data",
          "data": {
            "image/png": "[encoded data removed]",
            "text/plain": [
              "<Figure size 432x288 with 1 Axes>"
            ]
          },
          "metadata": {
            "tags": [],
            "needs_background": "light"
          }
        }
      ]
    },
    {
      "cell_type": "code",
      "metadata": {
        "id": "3q9AhQPbilTI"
      },
      "source": [
        "# FINE - TUNING"
      ],
      "execution_count": null,
      "outputs": []
    },
    {
      "cell_type": "code",
      "metadata": {
        "id": "49Wznla1ilV0"
      },
      "source": [
        "conv_base.trainable = True\n",
        "\n",
        "set_trainable = False\n",
        "for layer in conv_base.layers:\n",
        "  if layer.name == 'block5_conv1':\n",
        "    set_trainable = True\n",
        "  if set_trainable:\n",
        "    layer.trainable = True\n",
        "  else:\n",
        "    layer.trainable = False"
      ],
      "execution_count": 16,
      "outputs": []
    },
    {
      "cell_type": "code",
      "metadata": {
        "colab": {
          "base_uri": "https://localhost:8080/"
        },
        "id": "V4dZCBP3onK0",
        "outputId": "bf0c08ac-ed08-4dca-b372-8d1f688567ef"
      },
      "source": [
        "model.compile(loss='categorical_crossentropy', \n",
        "              optimizer=optimizers.RMSprop(lr=1e-5), \n",
        "              metrics=['acc'])\n",
        "\n",
        "history = model.fit_generator(\n",
        "    train_generator, \n",
        "    steps_per_epoch=100, \n",
        "    epochs=100, \n",
        "    validation_data=validation_generator,\n",
        "    validation_steps=50)"
      ],
      "execution_count": 17,
      "outputs": [
        {
          "output_type": "stream",
          "text": [
            "/usr/local/lib/python3.7/dist-packages/tensorflow/python/keras/optimizer_v2/optimizer_v2.py:375: UserWarning: The `lr` argument is deprecated, use `learning_rate` instead.\n",
            "  \"The `lr` argument is deprecated, use `learning_rate` instead.\")\n",
            "/usr/local/lib/python3.7/dist-packages/keras/engine/training.py:1915: UserWarning: `Model.fit_generator` is deprecated and will be removed in a future version. Please use `Model.fit`, which supports generators.\n",
            "  warnings.warn('`Model.fit_generator` is deprecated and '\n"
          ],
          "name": "stderr"
        },
        {
          "output_type": "stream",
          "text": [
            "Epoch 1/100\n",
            "100/100 [==============================] - 33s 317ms/step - loss: 0.0195 - acc: 0.9960 - val_loss: 0.4065 - val_acc: 0.9310\n",
            "Epoch 2/100\n",
            "100/100 [==============================] - 31s 310ms/step - loss: 0.0148 - acc: 0.9945 - val_loss: 0.4059 - val_acc: 0.9350\n",
            "Epoch 3/100\n",
            "100/100 [==============================] - 31s 307ms/step - loss: 0.0121 - acc: 0.9957 - val_loss: 0.4413 - val_acc: 0.9330\n",
            "Epoch 4/100\n",
            "100/100 [==============================] - 31s 308ms/step - loss: 0.0077 - acc: 0.9955 - val_loss: 0.4817 - val_acc: 0.9320\n",
            "Epoch 5/100\n",
            "100/100 [==============================] - 31s 308ms/step - loss: 0.0114 - acc: 0.9977 - val_loss: 0.4677 - val_acc: 0.9320\n",
            "Epoch 6/100\n",
            "100/100 [==============================] - 31s 308ms/step - loss: 0.0087 - acc: 0.9974 - val_loss: 0.4661 - val_acc: 0.9320\n",
            "Epoch 7/100\n",
            "100/100 [==============================] - 31s 309ms/step - loss: 0.0040 - acc: 0.9986 - val_loss: 0.5050 - val_acc: 0.9350\n",
            "Epoch 8/100\n",
            "100/100 [==============================] - 31s 308ms/step - loss: 0.0078 - acc: 0.9980 - val_loss: 0.5156 - val_acc: 0.9320\n",
            "Epoch 9/100\n",
            "100/100 [==============================] - 31s 309ms/step - loss: 0.0057 - acc: 0.9988 - val_loss: 0.4898 - val_acc: 0.9320\n",
            "Epoch 10/100\n",
            "100/100 [==============================] - 31s 309ms/step - loss: 0.0078 - acc: 0.9971 - val_loss: 0.4404 - val_acc: 0.9380\n",
            "Epoch 11/100\n",
            "100/100 [==============================] - 31s 307ms/step - loss: 0.0068 - acc: 0.9965 - val_loss: 0.5229 - val_acc: 0.9320\n",
            "Epoch 12/100\n",
            "100/100 [==============================] - 31s 307ms/step - loss: 0.0077 - acc: 0.9976 - val_loss: 0.5048 - val_acc: 0.9330\n",
            "Epoch 13/100\n",
            "100/100 [==============================] - 31s 308ms/step - loss: 0.0033 - acc: 0.9991 - val_loss: 0.4795 - val_acc: 0.9390\n",
            "Epoch 14/100\n",
            "100/100 [==============================] - 31s 307ms/step - loss: 0.0088 - acc: 0.9964 - val_loss: 0.4997 - val_acc: 0.9310\n",
            "Epoch 15/100\n",
            "100/100 [==============================] - 31s 308ms/step - loss: 0.0066 - acc: 0.9970 - val_loss: 0.5262 - val_acc: 0.9350\n",
            "Epoch 16/100\n",
            "100/100 [==============================] - 31s 308ms/step - loss: 0.0031 - acc: 0.9982 - val_loss: 0.5298 - val_acc: 0.9340\n",
            "Epoch 17/100\n",
            "100/100 [==============================] - 31s 307ms/step - loss: 0.0102 - acc: 0.9980 - val_loss: 0.5577 - val_acc: 0.9310\n",
            "Epoch 18/100\n",
            "100/100 [==============================] - 31s 308ms/step - loss: 0.0050 - acc: 0.9984 - val_loss: 0.5145 - val_acc: 0.9350\n",
            "Epoch 19/100\n",
            "100/100 [==============================] - 31s 308ms/step - loss: 0.0090 - acc: 0.9990 - val_loss: 0.6381 - val_acc: 0.9310\n",
            "Epoch 20/100\n",
            "100/100 [==============================] - 31s 307ms/step - loss: 0.0055 - acc: 0.9989 - val_loss: 0.5598 - val_acc: 0.9380\n",
            "Epoch 21/100\n",
            "100/100 [==============================] - 31s 308ms/step - loss: 0.0051 - acc: 0.9977 - val_loss: 0.5692 - val_acc: 0.9300\n",
            "Epoch 22/100\n",
            "100/100 [==============================] - 31s 309ms/step - loss: 0.0075 - acc: 0.9980 - val_loss: 0.5578 - val_acc: 0.9340\n",
            "Epoch 23/100\n",
            "100/100 [==============================] - 31s 307ms/step - loss: 0.0051 - acc: 0.9977 - val_loss: 0.5397 - val_acc: 0.9370\n",
            "Epoch 24/100\n",
            "100/100 [==============================] - 31s 308ms/step - loss: 0.0032 - acc: 0.9982 - val_loss: 0.5785 - val_acc: 0.9320\n",
            "Epoch 25/100\n",
            "100/100 [==============================] - 31s 309ms/step - loss: 7.5281e-04 - acc: 1.0000 - val_loss: 0.6417 - val_acc: 0.9280\n",
            "Epoch 26/100\n",
            "100/100 [==============================] - 31s 306ms/step - loss: 0.0028 - acc: 0.9986 - val_loss: 0.5534 - val_acc: 0.9350\n",
            "Epoch 27/100\n",
            "100/100 [==============================] - 31s 307ms/step - loss: 0.0064 - acc: 0.9986 - val_loss: 0.6176 - val_acc: 0.9360\n",
            "Epoch 28/100\n",
            "100/100 [==============================] - 31s 307ms/step - loss: 0.0118 - acc: 0.9961 - val_loss: 0.6296 - val_acc: 0.9340\n",
            "Epoch 29/100\n",
            "100/100 [==============================] - 31s 307ms/step - loss: 0.0036 - acc: 0.9979 - val_loss: 0.6847 - val_acc: 0.9290\n",
            "Epoch 30/100\n",
            "100/100 [==============================] - 31s 307ms/step - loss: 0.0018 - acc: 0.9999 - val_loss: 0.7211 - val_acc: 0.9300\n",
            "Epoch 31/100\n",
            "100/100 [==============================] - 31s 308ms/step - loss: 0.0045 - acc: 0.9983 - val_loss: 0.6487 - val_acc: 0.9270\n",
            "Epoch 32/100\n",
            "100/100 [==============================] - 31s 306ms/step - loss: 0.0078 - acc: 0.9976 - val_loss: 0.6320 - val_acc: 0.9330\n",
            "Epoch 33/100\n",
            "100/100 [==============================] - 31s 307ms/step - loss: 0.0030 - acc: 0.9987 - val_loss: 0.5537 - val_acc: 0.9350\n",
            "Epoch 34/100\n",
            "100/100 [==============================] - 31s 306ms/step - loss: 0.0012 - acc: 0.9994 - val_loss: 0.5741 - val_acc: 0.9350\n",
            "Epoch 35/100\n",
            "100/100 [==============================] - 31s 306ms/step - loss: 0.0025 - acc: 0.9980 - val_loss: 0.5888 - val_acc: 0.9360\n",
            "Epoch 36/100\n",
            "100/100 [==============================] - 31s 307ms/step - loss: 0.0059 - acc: 0.9979 - val_loss: 0.6191 - val_acc: 0.9340\n",
            "Epoch 37/100\n",
            "100/100 [==============================] - 31s 306ms/step - loss: 0.0013 - acc: 1.0000 - val_loss: 0.6467 - val_acc: 0.9380\n",
            "Epoch 38/100\n",
            "100/100 [==============================] - 31s 308ms/step - loss: 0.0065 - acc: 0.9981 - val_loss: 0.6577 - val_acc: 0.9350\n",
            "Epoch 39/100\n",
            "100/100 [==============================] - 30s 304ms/step - loss: 0.0028 - acc: 1.0000 - val_loss: 0.6426 - val_acc: 0.9300\n",
            "Epoch 40/100\n",
            "100/100 [==============================] - 31s 306ms/step - loss: 8.7321e-04 - acc: 0.9996 - val_loss: 0.7169 - val_acc: 0.9370\n",
            "Epoch 41/100\n",
            "100/100 [==============================] - 31s 308ms/step - loss: 0.0036 - acc: 0.9993 - val_loss: 0.6798 - val_acc: 0.9390\n",
            "Epoch 42/100\n",
            "100/100 [==============================] - 30s 305ms/step - loss: 0.0061 - acc: 0.9988 - val_loss: 0.7308 - val_acc: 0.9330\n",
            "Epoch 43/100\n",
            "100/100 [==============================] - 31s 307ms/step - loss: 0.0051 - acc: 0.9989 - val_loss: 0.7222 - val_acc: 0.9380\n",
            "Epoch 44/100\n",
            "100/100 [==============================] - 31s 306ms/step - loss: 7.4863e-04 - acc: 1.0000 - val_loss: 0.7031 - val_acc: 0.9320\n",
            "Epoch 45/100\n",
            "100/100 [==============================] - 31s 306ms/step - loss: 0.0079 - acc: 0.9948 - val_loss: 0.6806 - val_acc: 0.9400\n",
            "Epoch 46/100\n",
            "100/100 [==============================] - 31s 307ms/step - loss: 0.0014 - acc: 0.9991 - val_loss: 0.7053 - val_acc: 0.9320\n",
            "Epoch 47/100\n",
            "100/100 [==============================] - 30s 305ms/step - loss: 0.0020 - acc: 0.9999 - val_loss: 0.7194 - val_acc: 0.9350\n",
            "Epoch 48/100\n",
            "100/100 [==============================] - 31s 307ms/step - loss: 8.3075e-04 - acc: 0.9996 - val_loss: 0.7207 - val_acc: 0.9250\n",
            "Epoch 49/100\n",
            "100/100 [==============================] - 31s 307ms/step - loss: 0.0150 - acc: 0.9967 - val_loss: 0.6515 - val_acc: 0.9340\n",
            "Epoch 50/100\n",
            "100/100 [==============================] - 31s 306ms/step - loss: 0.0042 - acc: 0.9987 - val_loss: 0.7136 - val_acc: 0.9360\n",
            "Epoch 51/100\n",
            "100/100 [==============================] - 31s 308ms/step - loss: 0.0021 - acc: 0.9995 - val_loss: 0.7223 - val_acc: 0.9380\n",
            "Epoch 52/100\n",
            "100/100 [==============================] - 30s 305ms/step - loss: 0.0036 - acc: 0.9992 - val_loss: 0.7151 - val_acc: 0.9320\n",
            "Epoch 53/100\n",
            "100/100 [==============================] - 30s 305ms/step - loss: 0.0039 - acc: 0.9985 - val_loss: 0.7564 - val_acc: 0.9370\n",
            "Epoch 54/100\n",
            "100/100 [==============================] - 31s 305ms/step - loss: 0.0013 - acc: 0.9998 - val_loss: 0.7012 - val_acc: 0.9350\n",
            "Epoch 55/100\n",
            "100/100 [==============================] - 30s 305ms/step - loss: 0.0067 - acc: 0.9974 - val_loss: 0.6814 - val_acc: 0.9340\n",
            "Epoch 56/100\n",
            "100/100 [==============================] - 31s 308ms/step - loss: 7.8962e-04 - acc: 0.9999 - val_loss: 0.7216 - val_acc: 0.9370\n",
            "Epoch 57/100\n",
            "100/100 [==============================] - 31s 306ms/step - loss: 4.4503e-04 - acc: 1.0000 - val_loss: 0.7143 - val_acc: 0.9370\n",
            "Epoch 58/100\n",
            "100/100 [==============================] - 30s 305ms/step - loss: 0.0115 - acc: 0.9986 - val_loss: 0.7265 - val_acc: 0.9300\n",
            "Epoch 59/100\n",
            "100/100 [==============================] - 31s 306ms/step - loss: 1.8781e-04 - acc: 1.0000 - val_loss: 0.8550 - val_acc: 0.9220\n",
            "Epoch 60/100\n",
            "100/100 [==============================] - 31s 307ms/step - loss: 0.0051 - acc: 0.9983 - val_loss: 0.8226 - val_acc: 0.9280\n",
            "Epoch 61/100\n",
            "100/100 [==============================] - 30s 305ms/step - loss: 0.0068 - acc: 0.9975 - val_loss: 0.8500 - val_acc: 0.9260\n",
            "Epoch 62/100\n",
            "100/100 [==============================] - 31s 307ms/step - loss: 0.0047 - acc: 0.9980 - val_loss: 0.8264 - val_acc: 0.9280\n",
            "Epoch 63/100\n",
            "100/100 [==============================] - 30s 305ms/step - loss: 0.0067 - acc: 0.9969 - val_loss: 0.8267 - val_acc: 0.9240\n",
            "Epoch 64/100\n",
            "100/100 [==============================] - 31s 306ms/step - loss: 0.0025 - acc: 0.9987 - val_loss: 0.6869 - val_acc: 0.9290\n",
            "Epoch 65/100\n",
            "100/100 [==============================] - 31s 306ms/step - loss: 5.5270e-04 - acc: 0.9998 - val_loss: 0.6587 - val_acc: 0.9330\n",
            "Epoch 66/100\n",
            "100/100 [==============================] - 31s 306ms/step - loss: 0.0021 - acc: 0.9993 - val_loss: 0.6861 - val_acc: 0.9340\n",
            "Epoch 67/100\n",
            "100/100 [==============================] - 31s 306ms/step - loss: 0.0100 - acc: 0.9964 - val_loss: 0.7392 - val_acc: 0.9310\n",
            "Epoch 68/100\n",
            "100/100 [==============================] - 30s 305ms/step - loss: 0.0042 - acc: 0.9986 - val_loss: 0.8463 - val_acc: 0.9240\n",
            "Epoch 69/100\n",
            "100/100 [==============================] - 31s 307ms/step - loss: 0.0044 - acc: 0.9985 - val_loss: 0.7402 - val_acc: 0.9300\n",
            "Epoch 70/100\n",
            "100/100 [==============================] - 31s 306ms/step - loss: 5.4826e-04 - acc: 1.0000 - val_loss: 0.6478 - val_acc: 0.9280\n",
            "Epoch 71/100\n",
            "100/100 [==============================] - 30s 305ms/step - loss: 0.0069 - acc: 0.9982 - val_loss: 0.5965 - val_acc: 0.9350\n",
            "Epoch 72/100\n",
            "100/100 [==============================] - 31s 306ms/step - loss: 0.0015 - acc: 0.9994 - val_loss: 0.7479 - val_acc: 0.9330\n",
            "Epoch 73/100\n",
            "100/100 [==============================] - 31s 306ms/step - loss: 7.3372e-04 - acc: 1.0000 - val_loss: 0.6858 - val_acc: 0.9360\n",
            "Epoch 74/100\n",
            "100/100 [==============================] - 30s 304ms/step - loss: 0.0010 - acc: 0.9997 - val_loss: 0.7242 - val_acc: 0.9370\n",
            "Epoch 75/100\n",
            "100/100 [==============================] - 31s 308ms/step - loss: 0.0012 - acc: 0.9996 - val_loss: 0.7597 - val_acc: 0.9290\n",
            "Epoch 76/100\n",
            "100/100 [==============================] - 31s 306ms/step - loss: 0.0026 - acc: 0.9982 - val_loss: 0.6847 - val_acc: 0.9340\n",
            "Epoch 77/100\n",
            "100/100 [==============================] - 31s 306ms/step - loss: 0.0043 - acc: 0.9993 - val_loss: 0.8999 - val_acc: 0.9280\n",
            "Epoch 78/100\n",
            "100/100 [==============================] - 31s 306ms/step - loss: 0.0012 - acc: 0.9994 - val_loss: 0.7122 - val_acc: 0.9350\n",
            "Epoch 79/100\n",
            "100/100 [==============================] - 31s 307ms/step - loss: 6.5487e-04 - acc: 1.0000 - val_loss: 0.6990 - val_acc: 0.9320\n",
            "Epoch 80/100\n",
            "100/100 [==============================] - 31s 308ms/step - loss: 0.0018 - acc: 0.9993 - val_loss: 0.7690 - val_acc: 0.9310\n",
            "Epoch 81/100\n",
            "100/100 [==============================] - 31s 306ms/step - loss: 3.3460e-04 - acc: 1.0000 - val_loss: 0.8544 - val_acc: 0.9240\n",
            "Epoch 82/100\n",
            "100/100 [==============================] - 31s 306ms/step - loss: 0.0106 - acc: 0.9964 - val_loss: 0.8082 - val_acc: 0.9340\n",
            "Epoch 83/100\n",
            "100/100 [==============================] - 31s 307ms/step - loss: 8.8420e-04 - acc: 0.9998 - val_loss: 0.8509 - val_acc: 0.9330\n",
            "Epoch 84/100\n",
            "100/100 [==============================] - 31s 306ms/step - loss: 0.0074 - acc: 0.9991 - val_loss: 0.7709 - val_acc: 0.9330\n",
            "Epoch 85/100\n",
            "100/100 [==============================] - 31s 308ms/step - loss: 4.0032e-04 - acc: 0.9999 - val_loss: 0.7956 - val_acc: 0.9310\n",
            "Epoch 86/100\n",
            "100/100 [==============================] - 31s 307ms/step - loss: 5.3779e-04 - acc: 0.9999 - val_loss: 0.7927 - val_acc: 0.9290\n",
            "Epoch 87/100\n",
            "100/100 [==============================] - 31s 308ms/step - loss: 1.7855e-04 - acc: 1.0000 - val_loss: 0.8191 - val_acc: 0.9300\n",
            "Epoch 88/100\n",
            "100/100 [==============================] - 31s 307ms/step - loss: 0.0019 - acc: 0.9992 - val_loss: 0.8538 - val_acc: 0.9320\n",
            "Epoch 89/100\n",
            "100/100 [==============================] - 31s 306ms/step - loss: 0.0029 - acc: 0.9985 - val_loss: 0.7811 - val_acc: 0.9350\n",
            "Epoch 90/100\n",
            "100/100 [==============================] - 31s 306ms/step - loss: 0.0030 - acc: 0.9994 - val_loss: 0.7575 - val_acc: 0.9380\n",
            "Epoch 91/100\n",
            "100/100 [==============================] - 31s 307ms/step - loss: 0.0242 - acc: 0.9966 - val_loss: 0.7637 - val_acc: 0.9340\n",
            "Epoch 92/100\n",
            "100/100 [==============================] - 31s 306ms/step - loss: 0.0085 - acc: 0.9974 - val_loss: 0.8020 - val_acc: 0.9340\n",
            "Epoch 93/100\n",
            "100/100 [==============================] - 31s 308ms/step - loss: 0.0028 - acc: 0.9995 - val_loss: 0.6943 - val_acc: 0.9330\n",
            "Epoch 94/100\n",
            "100/100 [==============================] - 31s 307ms/step - loss: 6.2039e-04 - acc: 0.9994 - val_loss: 0.7915 - val_acc: 0.9320\n",
            "Epoch 95/100\n",
            "100/100 [==============================] - 30s 305ms/step - loss: 7.8970e-04 - acc: 0.9999 - val_loss: 0.7308 - val_acc: 0.9350\n",
            "Epoch 96/100\n",
            "100/100 [==============================] - 31s 308ms/step - loss: 5.4426e-04 - acc: 1.0000 - val_loss: 0.7777 - val_acc: 0.9290\n",
            "Epoch 97/100\n",
            "100/100 [==============================] - 31s 307ms/step - loss: 9.8765e-04 - acc: 0.9999 - val_loss: 0.7746 - val_acc: 0.9320\n",
            "Epoch 98/100\n",
            "100/100 [==============================] - 31s 306ms/step - loss: 0.0028 - acc: 0.9993 - val_loss: 1.0302 - val_acc: 0.9190\n",
            "Epoch 99/100\n",
            "100/100 [==============================] - 31s 308ms/step - loss: 0.0067 - acc: 0.9982 - val_loss: 0.7098 - val_acc: 0.9360\n",
            "Epoch 100/100\n",
            "100/100 [==============================] - 31s 306ms/step - loss: 7.2871e-04 - acc: 0.9995 - val_loss: 0.8342 - val_acc: 0.9300\n"
          ],
          "name": "stdout"
        }
      ]
    },
    {
      "cell_type": "code",
      "metadata": {
        "colab": {
          "base_uri": "https://localhost:8080/",
          "height": 545
        },
        "id": "HR2OOP4eonSC",
        "outputId": "ffa9ccdf-e0c7-4400-dae8-99db71f2e507"
      },
      "source": [
        "import matplotlib.pyplot as plt\n",
        "\n",
        "acc = history.history['acc']\n",
        "val_acc = history.history['val_acc']\n",
        "loss = history.history['loss']\n",
        "val_loss = history.history['val_loss']\n",
        "\n",
        "epochs = range(1, len(acc) + 1)\n",
        "\n",
        "plt.plot(epochs, acc, 'bo', label='Training acc')\n",
        "plt.plot(epochs, val_acc, 'b', label='Validation acc')\n",
        "plt.title('Training and validation accuracy')\n",
        "plt.legend()\n",
        "\n",
        "plt.figure()\n",
        "\n",
        "plt.plot(epochs, loss, 'bo', label='Training loss')\n",
        "plt.plot(epochs, val_loss, 'b', label='Validation loss')\n",
        "plt.title('Training and validation loss')\n",
        "plt.legend()\n",
        "\n",
        "plt.show()"
      ],
      "execution_count": 18,
      "outputs": [
        {
          "output_type": "display_data",
          "data": {
            "image/png": "[encoded data removed]",
            "text/plain": [
              "<Figure size 432x288 with 1 Axes>"
            ]
          },
          "metadata": {
            "tags": [],
            "needs_background": "light"
          }
        },
        {
          "output_type": "display_data",
          "data": {
            "image/png": "[encoded data removed]",
            "text/plain": [
              "<Figure size 432x288 with 1 Axes>"
            ]
          },
          "metadata": {
            "tags": [],
            "needs_background": "light"
          }
        }
      ]
    },
    {
      "cell_type": "code",
      "metadata": {
        "id": "DbdXo9pR18E3"
      },
      "source": [
        ""
      ],
      "execution_count": null,
      "outputs": []
    },
    {
      "cell_type": "code",
      "metadata": {
        "id": "GpSKz-49onY4"
      },
      "source": [
        ""
      ],
      "execution_count": null,
      "outputs": []
    },
    {
      "cell_type": "code",
      "metadata": {
        "id": "oxwUlu84iaJt"
      },
      "source": [
        ""
      ],
      "execution_count": null,
      "outputs": []
    }
  ]
}