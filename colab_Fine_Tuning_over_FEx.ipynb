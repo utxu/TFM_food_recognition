{
 "cells": [
  {
   "cell_type": "markdown",
   "metadata": {
    "colab_type": "text",
    "id": "view-in-github"
   },
   "source": [
    "<a href=\"https://colab.research.google.com/github/utxu/TFM_food_recognition/blob/main/colab_Fine_Tuning_over_FEx.ipynb\" target=\"_parent\"><img src=\"https://colab.research.google.com/assets/colab-badge.svg\" alt=\"Open In Colab\"/></a>"
   ]
  },
  {
   "cell_type": "code",
   "execution_count": 1,
   "metadata": {
    "colab": {
     "base_uri": "https://localhost:8080/",
     "height": 35
    },
    "id": "S8S6rnOYhQoe",
    "outputId": "02c9a92d-e556-4ad9-8ce1-2a08f478a8db"
   },
   "outputs": [
    {
     "data": {
      "application/vnd.google.colaboratory.intrinsic+json": {
       "type": "string"
      },
      "text/plain": [
       "'/device:GPU:0'"
      ]
     },
     "execution_count": 1,
     "metadata": {
      "tags": []
     },
     "output_type": "execute_result"
    }
   ],
   "source": [
    "import tensorflow as tf\n",
    "import keras\n",
    "tf.test.gpu_device_name()"
   ]
  },
  {
   "cell_type": "code",
   "execution_count": 2,
   "metadata": {
    "colab": {
     "base_uri": "https://localhost:8080/"
    },
    "id": "kkmNpr0IiLAB",
    "outputId": "7616f98e-199f-4996-b159-e0e02535cf66"
   },
   "outputs": [
    {
     "name": "stdout",
     "output_type": "stream",
     "text": [
      "Collecting gputil\n",
      "  Downloading https://files.pythonhosted.org/packages/ed/0e/5c61eedde9f6c87713e89d794f01e378cfd9565847d4576fa627d758c554/GPUtil-1.4.0.tar.gz\n",
      "Building wheels for collected packages: gputil\n",
      "  Building wheel for gputil (setup.py) ... \u001b[?25l\u001b[?25hdone\n",
      "  Created wheel for gputil: filename=GPUtil-1.4.0-cp37-none-any.whl size=7411 sha256=d873ca80b641ee764a6af21cf032ebf8c6410d315b7c21b13274024aacd9d206\n",
      "  Stored in directory: /root/.cache/pip/wheels/3d/77/07/80562de4bb0786e5ea186911a2c831fdd0018bda69beab71fd\n",
      "Successfully built gputil\n",
      "Installing collected packages: gputil\n",
      "Successfully installed gputil-1.4.0\n",
      "Requirement already satisfied: psutil in /usr/local/lib/python3.7/dist-packages (5.4.8)\n",
      "Requirement already satisfied: humanize in /usr/local/lib/python3.7/dist-packages (0.5.1)\n",
      "Gen RAM Free: 12.3 GB  | Proc size: 942.8 MB\n",
      "GPU RAM Free: 14887MB | Used: 222MB | Util   1% | Total 15109MB\n"
     ]
    }
   ],
   "source": [
    "# memory footprint support libraries/code\n",
    "!ln -sf /opt/bin/nvidia-smi /usr/bin/nvidia-smi\n",
    "!pip install gputil\n",
    "!pip install psutil\n",
    "!pip install humanize\n",
    "import psutil\n",
    "import humanize\n",
    "import os\n",
    "import GPUtil as GPU\n",
    "GPUs = GPU.getGPUs()\n",
    "# XXX: only one GPU on Colab and isn’t guaranteed\n",
    "gpu = GPUs[0]\n",
    "def printm():\n",
    " process = psutil.Process(os.getpid())\n",
    " print(\"Gen RAM Free: \" + humanize.naturalsize( psutil.virtual_memory().available ), \" | Proc size: \" + humanize.naturalsize( process.memory_info().rss))\n",
    " print(\"GPU RAM Free: {0:.0f}MB | Used: {1:.0f}MB | Util {2:3.0f}% | Total {3:.0f}MB\".format(gpu.memoryFree, gpu.memoryUsed, gpu.memoryUtil*100, gpu.memoryTotal))\n",
    "printm() "
   ]
  },
  {
   "cell_type": "code",
   "execution_count": 3,
   "metadata": {
    "colab": {
     "base_uri": "https://localhost:8080/"
    },
    "id": "zSVt50O2iLHB",
    "outputId": "c025f6dd-13f1-46bd-c13e-941a760111e6"
   },
   "outputs": [
    {
     "name": "stdout",
     "output_type": "stream",
     "text": [
      "Mounted at /content/drive\n"
     ]
    }
   ],
   "source": [
    "from google.colab import drive\n",
    "drive.mount('/content/drive')"
   ]
  },
  {
   "cell_type": "code",
   "execution_count": 4,
   "metadata": {
    "colab": {
     "base_uri": "https://localhost:8080/"
    },
    "id": "Gw3GvAb8iLLx",
    "outputId": "98a2fc36-641f-4cb4-adb4-f2381570db1b"
   },
   "outputs": [
    {
     "name": "stdout",
     "output_type": "stream",
     "text": [
      "/content\n"
     ]
    }
   ],
   "source": [
    "!pwd"
   ]
  },
  {
   "cell_type": "code",
   "execution_count": 5,
   "metadata": {
    "colab": {
     "base_uri": "https://localhost:8080/"
    },
    "id": "s35rk_X2jJhc",
    "outputId": "835f37ed-c895-4a9c-b5b4-c1204bf7db0e"
   },
   "outputs": [
    {
     "name": "stdout",
     "output_type": "stream",
     "text": [
      "total 8\n",
      "drwx------ 5 root root 4096 Jun 10 21:13 drive\n",
      "drwxr-xr-x 1 root root 4096 Jun  1 13:40 sample_data\n"
     ]
    }
   ],
   "source": [
    "!ls -l"
   ]
  },
  {
   "cell_type": "code",
   "execution_count": 6,
   "metadata": {
    "id": "OVqTGbKViLOY"
   },
   "outputs": [],
   "source": [
    "import os\n",
    "\n",
    "# Location of Zip File\n",
    "drive_path = '/content/drive/MyDrive/spanish_food_images.zip'\n",
    "local_path = '/content'\n",
    "\n",
    "# Copy the zip file and move it up one level (AKA out of the drive folder)\n",
    "!cp '{drive_path}' .\n",
    "\n",
    "# Navigate to the copied file and unzip it quietly\n",
    "os.chdir(local_path)\n",
    "!unzip -q 'spanish_food_images.zip'"
   ]
  },
  {
   "cell_type": "code",
   "execution_count": 7,
   "metadata": {
    "id": "R9DgVuhwiLRB"
   },
   "outputs": [],
   "source": [
    "# Vamos a borrar la copia del .zip porq lo tenemos en la ruta de 'My drive'\n",
    "! rm -rf spanish_food_images.zip"
   ]
  },
  {
   "cell_type": "code",
   "execution_count": 9,
   "metadata": {
    "id": "XqfCSsdziLTp"
   },
   "outputs": [],
   "source": [
    "from keras.applications.vgg16 import VGG16"
   ]
  },
  {
   "cell_type": "code",
   "execution_count": 10,
   "metadata": {
    "colab": {
     "base_uri": "https://localhost:8080/"
    },
    "id": "s_gFx_KViZ8r",
    "outputId": "c548e09e-8349-4a05-b636-0a3b062ab4fe"
   },
   "outputs": [
    {
     "name": "stdout",
     "output_type": "stream",
     "text": [
      "Downloading data from https://storage.googleapis.com/tensorflow/keras-applications/vgg16/vgg16_weights_tf_dim_ordering_tf_kernels_notop.h5\n",
      "58892288/58889256 [==============================] - 1s 0us/step\n",
      "58900480/58889256 [==============================] - 1s 0us/step\n"
     ]
    }
   ],
   "source": [
    "conv_base = VGG16(weights='imagenet', \n",
    "                 include_top=False, \n",
    "                 input_shape=(150,150,3))"
   ]
  },
  {
   "cell_type": "code",
   "execution_count": 11,
   "metadata": {
    "id": "FTFHLnVFiaBg"
   },
   "outputs": [],
   "source": [
    "from keras import models\n",
    "from keras import layers"
   ]
  },
  {
   "cell_type": "code",
   "execution_count": 12,
   "metadata": {
    "colab": {
     "base_uri": "https://localhost:8080/"
    },
    "id": "xcdrWu31iaE4",
    "outputId": "c726772d-6219-43e7-8aad-8cd0c2a6a142"
   },
   "outputs": [
    {
     "name": "stdout",
     "output_type": "stream",
     "text": [
      "Model: \"sequential\"\n",
      "_________________________________________________________________\n",
      "Layer (type)                 Output Shape              Param #   \n",
      "=================================================================\n",
      "vgg16 (Functional)           (None, 4, 4, 512)         14714688  \n",
      "_________________________________________________________________\n",
      "flatten (Flatten)            (None, 8192)              0         \n",
      "_________________________________________________________________\n",
      "dense (Dense)                (None, 256)               2097408   \n",
      "_________________________________________________________________\n",
      "dense_1 (Dense)              (None, 4)                 1028      \n",
      "=================================================================\n",
      "Total params: 16,813,124\n",
      "Trainable params: 16,813,124\n",
      "Non-trainable params: 0\n",
      "_________________________________________________________________\n"
     ]
    }
   ],
   "source": [
    "model = models.Sequential()\n",
    "model.add(conv_base)\n",
    "model.add(layers.Flatten())\n",
    "model.add(layers.Dense(256, activation='relu'))\n",
    "model.add(layers.Dense(4, activation='softmax'))\n",
    "\n",
    "model.summary()\n"
   ]
  },
  {
   "cell_type": "code",
   "execution_count": 14,
   "metadata": {
    "id": "ucII5pOwiaHi"
   },
   "outputs": [],
   "source": [
    "base_dir = '/content/spanish_food_images'\n",
    "train_dir = os.path.join(base_dir, 'train')\n",
    "validation_dir = os.path.join(base_dir, 'validation')\n",
    "test_dir = os.path.join(base_dir, 'test')"
   ]
  },
  {
   "cell_type": "code",
   "execution_count": 15,
   "metadata": {
    "id": "a-oIH1KXilEs"
   },
   "outputs": [],
   "source": [
    "from keras.preprocessing.image import ImageDataGenerator\n",
    "from keras import optimizers"
   ]
  },
  {
   "cell_type": "code",
   "execution_count": 16,
   "metadata": {
    "colab": {
     "base_uri": "https://localhost:8080/"
    },
    "id": "w4Mgxn3ailM1",
    "outputId": "52782e42-09a0-4df1-eea9-05a7ef3f52ba"
   },
   "outputs": [
    {
     "name": "stdout",
     "output_type": "stream",
     "text": [
      "Found 2000 images belonging to 4 classes.\n",
      "Found 1000 images belonging to 4 classes.\n"
     ]
    },
    {
     "name": "stderr",
     "output_type": "stream",
     "text": [
      "/usr/local/lib/python3.7/dist-packages/tensorflow/python/keras/optimizer_v2/optimizer_v2.py:375: UserWarning: The `lr` argument is deprecated, use `learning_rate` instead.\n",
      "  \"The `lr` argument is deprecated, use `learning_rate` instead.\")\n",
      "/usr/local/lib/python3.7/dist-packages/keras/engine/training.py:1915: UserWarning: `Model.fit_generator` is deprecated and will be removed in a future version. Please use `Model.fit`, which supports generators.\n",
      "  warnings.warn('`Model.fit_generator` is deprecated and '\n"
     ]
    },
    {
     "name": "stdout",
     "output_type": "stream",
     "text": [
      "Epoch 1/30\n",
      "100/100 [==============================] - 84s 358ms/step - loss: 1.0725 - acc: 0.5390 - val_loss: 0.6498 - val_acc: 0.7280\n",
      "Epoch 2/30\n",
      "100/100 [==============================] - 35s 353ms/step - loss: 0.5883 - acc: 0.7731 - val_loss: 0.4116 - val_acc: 0.8540\n",
      "Epoch 3/30\n",
      "100/100 [==============================] - 36s 358ms/step - loss: 0.4472 - acc: 0.8335 - val_loss: 0.3807 - val_acc: 0.8600\n",
      "Epoch 4/30\n",
      "100/100 [==============================] - 35s 354ms/step - loss: 0.4269 - acc: 0.8447 - val_loss: 0.3877 - val_acc: 0.8630\n",
      "Epoch 5/30\n",
      "100/100 [==============================] - 35s 355ms/step - loss: 0.3169 - acc: 0.8837 - val_loss: 0.3938 - val_acc: 0.8640\n",
      "Epoch 6/30\n",
      "100/100 [==============================] - 35s 353ms/step - loss: 0.3169 - acc: 0.8850 - val_loss: 0.2299 - val_acc: 0.9240\n",
      "Epoch 7/30\n",
      "100/100 [==============================] - 36s 355ms/step - loss: 0.2213 - acc: 0.9227 - val_loss: 0.2474 - val_acc: 0.9000\n",
      "Epoch 8/30\n",
      "100/100 [==============================] - 36s 355ms/step - loss: 0.2288 - acc: 0.9091 - val_loss: 0.2970 - val_acc: 0.8930\n",
      "Epoch 9/30\n",
      "100/100 [==============================] - 35s 351ms/step - loss: 0.1796 - acc: 0.9315 - val_loss: 0.3536 - val_acc: 0.8990\n",
      "Epoch 10/30\n",
      "100/100 [==============================] - 35s 349ms/step - loss: 0.1811 - acc: 0.9398 - val_loss: 0.2329 - val_acc: 0.9260\n",
      "Epoch 11/30\n",
      "100/100 [==============================] - 35s 348ms/step - loss: 0.1657 - acc: 0.9414 - val_loss: 0.2785 - val_acc: 0.9220\n",
      "Epoch 12/30\n",
      "100/100 [==============================] - 35s 351ms/step - loss: 0.1569 - acc: 0.9410 - val_loss: 0.2512 - val_acc: 0.9220\n",
      "Epoch 13/30\n",
      "100/100 [==============================] - 35s 350ms/step - loss: 0.1933 - acc: 0.9303 - val_loss: 0.2609 - val_acc: 0.9150\n",
      "Epoch 14/30\n",
      "100/100 [==============================] - 35s 349ms/step - loss: 0.1146 - acc: 0.9609 - val_loss: 0.2230 - val_acc: 0.9150\n",
      "Epoch 15/30\n",
      "100/100 [==============================] - 35s 346ms/step - loss: 0.1260 - acc: 0.9620 - val_loss: 0.2821 - val_acc: 0.9190\n",
      "Epoch 16/30\n",
      "100/100 [==============================] - 35s 347ms/step - loss: 0.1658 - acc: 0.9554 - val_loss: 0.2200 - val_acc: 0.9320\n",
      "Epoch 17/30\n",
      "100/100 [==============================] - 35s 346ms/step - loss: 0.0977 - acc: 0.9575 - val_loss: 0.3540 - val_acc: 0.8970\n",
      "Epoch 18/30\n",
      "100/100 [==============================] - 34s 344ms/step - loss: 0.0815 - acc: 0.9737 - val_loss: 0.3519 - val_acc: 0.9150\n",
      "Epoch 19/30\n",
      "100/100 [==============================] - 35s 346ms/step - loss: 0.0909 - acc: 0.9717 - val_loss: 0.3015 - val_acc: 0.9060\n",
      "Epoch 20/30\n",
      "100/100 [==============================] - 35s 345ms/step - loss: 0.0866 - acc: 0.9685 - val_loss: 0.3298 - val_acc: 0.9120\n",
      "Epoch 21/30\n",
      "100/100 [==============================] - 35s 348ms/step - loss: 0.0958 - acc: 0.9626 - val_loss: 0.3505 - val_acc: 0.9140\n",
      "Epoch 22/30\n",
      "100/100 [==============================] - 35s 345ms/step - loss: 0.0942 - acc: 0.9745 - val_loss: 0.4306 - val_acc: 0.9100\n",
      "Epoch 23/30\n",
      "100/100 [==============================] - 35s 347ms/step - loss: 0.1034 - acc: 0.9631 - val_loss: 0.3646 - val_acc: 0.9250\n",
      "Epoch 24/30\n",
      "100/100 [==============================] - 35s 345ms/step - loss: 0.0693 - acc: 0.9797 - val_loss: 0.6960 - val_acc: 0.8670\n",
      "Epoch 25/30\n",
      "100/100 [==============================] - 35s 345ms/step - loss: 0.1103 - acc: 0.9612 - val_loss: 0.4581 - val_acc: 0.8980\n",
      "Epoch 26/30\n",
      "100/100 [==============================] - 35s 346ms/step - loss: 0.0851 - acc: 0.9783 - val_loss: 0.4269 - val_acc: 0.9100\n",
      "Epoch 27/30\n",
      "100/100 [==============================] - 34s 344ms/step - loss: 0.0705 - acc: 0.9777 - val_loss: 0.5151 - val_acc: 0.9020\n",
      "Epoch 28/30\n",
      "100/100 [==============================] - 35s 346ms/step - loss: 0.0531 - acc: 0.9859 - val_loss: 0.4955 - val_acc: 0.9040\n",
      "Epoch 29/30\n",
      "100/100 [==============================] - 35s 345ms/step - loss: 0.0485 - acc: 0.9849 - val_loss: 0.2669 - val_acc: 0.9380\n",
      "Epoch 30/30\n",
      "100/100 [==============================] - 34s 345ms/step - loss: 0.0544 - acc: 0.9822 - val_loss: 0.3664 - val_acc: 0.9300\n"
     ]
    }
   ],
   "source": [
    "train_datagen = ImageDataGenerator(\n",
    "    rescale=1./255,\n",
    "    rotation_range=40,\n",
    "    width_shift_range=0.2,\n",
    "    height_shift_range=0.2,\n",
    "    shear_range=0.2, \n",
    "    zoom_range=0.2,\n",
    "    horizontal_flip=True, \n",
    "    fill_mode='nearest')\n",
    "\n",
    "test_datagen = ImageDataGenerator(rescale=1./255)\n",
    "\n",
    "train_generator = train_datagen.flow_from_directory(\n",
    "    train_dir, \n",
    "    target_size=(150, 150), \n",
    "    batch_size=20, \n",
    "    class_mode='categorical')\n",
    "\n",
    "validation_generator = test_datagen.flow_from_directory(\n",
    "    validation_dir, \n",
    "    target_size=(150, 150), \n",
    "    batch_size=20, \n",
    "    class_mode='categorical')\n",
    "\n",
    "model.compile(loss='categorical_crossentropy', \n",
    "              optimizer=optimizers.RMSprop(lr=2e-5), \n",
    "              metrics=['acc'])\n",
    "\n",
    "history = model.fit_generator(\n",
    "    train_generator,\n",
    "    steps_per_epoch=100, \n",
    "    epochs=30,\n",
    "    validation_data=validation_generator,\n",
    "    validation_steps=50)\n"
   ]
  },
  {
   "cell_type": "code",
   "execution_count": 17,
   "metadata": {
    "colab": {
     "base_uri": "https://localhost:8080/",
     "height": 545
    },
    "id": "Z1Np3l20ilP0",
    "outputId": "3a5eeae0-595e-4950-ce2e-0084345b56b3"
   },
   "outputs": [
    {
     "data": {
      "image/png": "[encoded data removed]",
      "text/plain": [
       "<Figure size 432x288 with 1 Axes>"
      ]
     },
     "metadata": {
      "needs_background": "light",
      "tags": []
     },
     "output_type": "display_data"
    },
    {
     "data": {
      "image/png": "[encoded data removed]",
      "text/plain": [
       "<Figure size 432x288 with 1 Axes>"
      ]
     },
     "metadata": {
      "needs_background": "light",
      "tags": []
     },
     "output_type": "display_data"
    }
   ],
   "source": [
    "import matplotlib.pyplot as plt\n",
    "\n",
    "acc = history.history['acc']\n",
    "val_acc = history.history['val_acc']\n",
    "loss = history.history['loss']\n",
    "val_loss = history.history['val_loss']\n",
    "\n",
    "epochs = range(1, len(acc) + 1)\n",
    "\n",
    "plt.plot(epochs, acc, 'bo', label='Training acc')\n",
    "plt.plot(epochs, val_acc, 'b', label='Validation acc')\n",
    "plt.title('Training and validation accuracy')\n",
    "plt.legend()\n",
    "\n",
    "plt.figure()\n",
    "\n",
    "plt.plot(epochs, loss, 'bo', label='Training loss')\n",
    "plt.plot(epochs, val_loss, 'b', label='Validation loss')\n",
    "plt.title('Training and validation loss')\n",
    "plt.legend()\n",
    "\n",
    "plt.show()"
   ]
  },
  {
   "cell_type": "code",
   "execution_count": null,
   "metadata": {
    "id": "3q9AhQPbilTI"
   },
   "outputs": [],
   "source": [
    "# FINE - TUNING"
   ]
  },
  {
   "cell_type": "code",
   "execution_count": 18,
   "metadata": {
    "id": "49Wznla1ilV0"
   },
   "outputs": [],
   "source": [
    "conv_base.trainable = True\n",
    "\n",
    "set_trainable = False\n",
    "for layer in conv_base.layers:\n",
    "  if layer.name == 'block5_conv1':\n",
    "    set_trainable = True\n",
    "  if set_trainable:\n",
    "    layer.trainable = True\n",
    "  else:\n",
    "    layer.trainable = False"
   ]
  },
  {
   "cell_type": "code",
   "execution_count": 19,
   "metadata": {
    "colab": {
     "base_uri": "https://localhost:8080/"
    },
    "id": "V4dZCBP3onK0",
    "outputId": "bef0c9cc-9e2e-4e0e-c637-ba3f414419c9"
   },
   "outputs": [
    {
     "name": "stderr",
     "output_type": "stream",
     "text": [
      "/usr/local/lib/python3.7/dist-packages/tensorflow/python/keras/optimizer_v2/optimizer_v2.py:375: UserWarning: The `lr` argument is deprecated, use `learning_rate` instead.\n",
      "  \"The `lr` argument is deprecated, use `learning_rate` instead.\")\n",
      "/usr/local/lib/python3.7/dist-packages/keras/engine/training.py:1915: UserWarning: `Model.fit_generator` is deprecated and will be removed in a future version. Please use `Model.fit`, which supports generators.\n",
      "  warnings.warn('`Model.fit_generator` is deprecated and '\n"
     ]
    },
    {
     "name": "stdout",
     "output_type": "stream",
     "text": [
      "Epoch 1/100\n",
      "100/100 [==============================] - 34s 327ms/step - loss: 0.0269 - acc: 0.9920 - val_loss: 0.3864 - val_acc: 0.9270\n",
      "Epoch 2/100\n",
      "100/100 [==============================] - 32s 319ms/step - loss: 0.0115 - acc: 0.9964 - val_loss: 0.4029 - val_acc: 0.9340\n",
      "Epoch 3/100\n",
      "100/100 [==============================] - 32s 320ms/step - loss: 0.0127 - acc: 0.9962 - val_loss: 0.4231 - val_acc: 0.9300\n",
      "Epoch 4/100\n",
      "100/100 [==============================] - 32s 320ms/step - loss: 0.0166 - acc: 0.9942 - val_loss: 0.4491 - val_acc: 0.9290\n",
      "Epoch 5/100\n",
      "100/100 [==============================] - 32s 318ms/step - loss: 0.0113 - acc: 0.9951 - val_loss: 0.4615 - val_acc: 0.9240\n",
      "Epoch 6/100\n",
      "100/100 [==============================] - 32s 319ms/step - loss: 0.0121 - acc: 0.9927 - val_loss: 0.4534 - val_acc: 0.9300\n",
      "Epoch 7/100\n",
      "100/100 [==============================] - 32s 319ms/step - loss: 0.0086 - acc: 0.9964 - val_loss: 0.4506 - val_acc: 0.9330\n",
      "Epoch 8/100\n",
      "100/100 [==============================] - 32s 318ms/step - loss: 0.0072 - acc: 0.9980 - val_loss: 0.4467 - val_acc: 0.9300\n",
      "Epoch 9/100\n",
      "100/100 [==============================] - 32s 318ms/step - loss: 0.0038 - acc: 0.9980 - val_loss: 0.4599 - val_acc: 0.9290\n",
      "Epoch 10/100\n",
      "100/100 [==============================] - 32s 317ms/step - loss: 0.0049 - acc: 0.9982 - val_loss: 0.5263 - val_acc: 0.9250\n",
      "Epoch 11/100\n",
      "100/100 [==============================] - 32s 318ms/step - loss: 0.0155 - acc: 0.9962 - val_loss: 0.4701 - val_acc: 0.9330\n",
      "Epoch 12/100\n",
      "100/100 [==============================] - 32s 316ms/step - loss: 0.0048 - acc: 0.9993 - val_loss: 0.5459 - val_acc: 0.9270\n",
      "Epoch 13/100\n",
      "100/100 [==============================] - 32s 317ms/step - loss: 0.0055 - acc: 0.9975 - val_loss: 0.5594 - val_acc: 0.9310\n",
      "Epoch 14/100\n",
      "100/100 [==============================] - 32s 319ms/step - loss: 0.0076 - acc: 0.9984 - val_loss: 0.5556 - val_acc: 0.9340\n",
      "Epoch 15/100\n",
      "100/100 [==============================] - 32s 318ms/step - loss: 0.0037 - acc: 0.9995 - val_loss: 0.5475 - val_acc: 0.9300\n",
      "Epoch 16/100\n",
      "100/100 [==============================] - 32s 316ms/step - loss: 0.0038 - acc: 0.9994 - val_loss: 0.5442 - val_acc: 0.9320\n",
      "Epoch 17/100\n",
      "100/100 [==============================] - 32s 317ms/step - loss: 0.0046 - acc: 0.9984 - val_loss: 0.5740 - val_acc: 0.9320\n",
      "Epoch 18/100\n",
      "100/100 [==============================] - 31s 315ms/step - loss: 0.0050 - acc: 0.9987 - val_loss: 0.5336 - val_acc: 0.9290\n",
      "Epoch 19/100\n",
      "100/100 [==============================] - 32s 316ms/step - loss: 0.0072 - acc: 0.9983 - val_loss: 0.5915 - val_acc: 0.9240\n",
      "Epoch 20/100\n",
      "100/100 [==============================] - 32s 318ms/step - loss: 0.0033 - acc: 0.9993 - val_loss: 0.6962 - val_acc: 0.9260\n",
      "Epoch 21/100\n",
      "100/100 [==============================] - 32s 317ms/step - loss: 0.0090 - acc: 0.9955 - val_loss: 0.7092 - val_acc: 0.9180\n",
      "Epoch 22/100\n",
      "100/100 [==============================] - 32s 317ms/step - loss: 0.0030 - acc: 0.9988 - val_loss: 0.5996 - val_acc: 0.9320\n",
      "Epoch 23/100\n",
      "100/100 [==============================] - 32s 316ms/step - loss: 0.0037 - acc: 0.9991 - val_loss: 0.6684 - val_acc: 0.9280\n",
      "Epoch 24/100\n",
      "100/100 [==============================] - 32s 316ms/step - loss: 0.0050 - acc: 0.9989 - val_loss: 0.6057 - val_acc: 0.9350\n",
      "Epoch 25/100\n",
      "100/100 [==============================] - 32s 316ms/step - loss: 0.0033 - acc: 0.9991 - val_loss: 0.6201 - val_acc: 0.9250\n",
      "Epoch 26/100\n",
      "100/100 [==============================] - 32s 316ms/step - loss: 0.0089 - acc: 0.9973 - val_loss: 0.6100 - val_acc: 0.9270\n",
      "Epoch 27/100\n",
      "100/100 [==============================] - 31s 315ms/step - loss: 0.0023 - acc: 0.9989 - val_loss: 0.6631 - val_acc: 0.9340\n",
      "Epoch 28/100\n",
      "100/100 [==============================] - 32s 316ms/step - loss: 0.0051 - acc: 0.9991 - val_loss: 0.6722 - val_acc: 0.9290\n",
      "Epoch 29/100\n",
      "100/100 [==============================] - 32s 316ms/step - loss: 0.0089 - acc: 0.9965 - val_loss: 0.6606 - val_acc: 0.9330\n",
      "Epoch 30/100\n",
      "100/100 [==============================] - 32s 317ms/step - loss: 0.0059 - acc: 0.9966 - val_loss: 0.6679 - val_acc: 0.9320\n",
      "Epoch 31/100\n",
      "100/100 [==============================] - 31s 315ms/step - loss: 0.0034 - acc: 0.9986 - val_loss: 0.6766 - val_acc: 0.9310\n",
      "Epoch 32/100\n",
      "100/100 [==============================] - 32s 316ms/step - loss: 0.0038 - acc: 0.9986 - val_loss: 0.6927 - val_acc: 0.9210\n",
      "Epoch 33/100\n",
      "100/100 [==============================] - 31s 315ms/step - loss: 0.0035 - acc: 0.9995 - val_loss: 0.6216 - val_acc: 0.9310\n",
      "Epoch 34/100\n",
      "100/100 [==============================] - 31s 315ms/step - loss: 6.7350e-04 - acc: 0.9999 - val_loss: 0.7243 - val_acc: 0.9290\n",
      "Epoch 35/100\n",
      "100/100 [==============================] - 31s 315ms/step - loss: 0.0060 - acc: 0.9996 - val_loss: 0.7459 - val_acc: 0.9320\n",
      "Epoch 36/100\n",
      "100/100 [==============================] - 31s 314ms/step - loss: 0.0020 - acc: 0.9989 - val_loss: 0.6884 - val_acc: 0.9320\n",
      "Epoch 37/100\n",
      "100/100 [==============================] - 32s 316ms/step - loss: 0.0010 - acc: 0.9993 - val_loss: 0.7336 - val_acc: 0.9330\n",
      "Epoch 38/100\n",
      "100/100 [==============================] - 31s 314ms/step - loss: 0.0040 - acc: 0.9983 - val_loss: 0.7485 - val_acc: 0.9270\n",
      "Epoch 39/100\n",
      "100/100 [==============================] - 31s 314ms/step - loss: 0.0047 - acc: 0.9981 - val_loss: 0.7419 - val_acc: 0.9240\n",
      "Epoch 40/100\n",
      "100/100 [==============================] - 32s 317ms/step - loss: 0.0050 - acc: 0.9983 - val_loss: 0.7852 - val_acc: 0.9210\n",
      "Epoch 41/100\n",
      "100/100 [==============================] - 31s 314ms/step - loss: 0.0045 - acc: 0.9990 - val_loss: 0.6632 - val_acc: 0.9290\n",
      "Epoch 42/100\n",
      "100/100 [==============================] - 31s 315ms/step - loss: 0.0078 - acc: 0.9973 - val_loss: 0.9426 - val_acc: 0.9080\n",
      "Epoch 43/100\n",
      "100/100 [==============================] - 31s 315ms/step - loss: 0.0018 - acc: 0.9998 - val_loss: 0.7057 - val_acc: 0.9300\n",
      "Epoch 44/100\n",
      "100/100 [==============================] - 31s 315ms/step - loss: 3.3789e-04 - acc: 0.9998 - val_loss: 0.7523 - val_acc: 0.9310\n",
      "Epoch 45/100\n",
      "100/100 [==============================] - 32s 316ms/step - loss: 0.0011 - acc: 0.9995 - val_loss: 0.8871 - val_acc: 0.9230\n",
      "Epoch 46/100\n",
      "100/100 [==============================] - 31s 314ms/step - loss: 7.5476e-04 - acc: 0.9999 - val_loss: 0.7706 - val_acc: 0.9300\n",
      "Epoch 47/100\n",
      "100/100 [==============================] - 31s 315ms/step - loss: 0.0011 - acc: 0.9996 - val_loss: 0.9368 - val_acc: 0.9180\n",
      "Epoch 48/100\n",
      "100/100 [==============================] - 31s 315ms/step - loss: 0.0043 - acc: 0.9991 - val_loss: 0.7774 - val_acc: 0.9300\n",
      "Epoch 49/100\n",
      "100/100 [==============================] - 31s 315ms/step - loss: 0.0055 - acc: 0.9977 - val_loss: 0.7207 - val_acc: 0.9270\n",
      "Epoch 50/100\n",
      "100/100 [==============================] - 32s 317ms/step - loss: 0.0109 - acc: 0.9980 - val_loss: 0.7197 - val_acc: 0.9330\n",
      "Epoch 51/100\n",
      "100/100 [==============================] - 32s 316ms/step - loss: 0.0039 - acc: 0.9986 - val_loss: 0.8082 - val_acc: 0.9060\n",
      "Epoch 52/100\n",
      "100/100 [==============================] - 31s 315ms/step - loss: 0.0076 - acc: 0.9989 - val_loss: 0.6880 - val_acc: 0.9250\n",
      "Epoch 53/100\n",
      "100/100 [==============================] - 32s 316ms/step - loss: 4.1308e-04 - acc: 1.0000 - val_loss: 0.8043 - val_acc: 0.9300\n",
      "Epoch 54/100\n",
      "100/100 [==============================] - 31s 315ms/step - loss: 9.5870e-04 - acc: 0.9993 - val_loss: 0.7576 - val_acc: 0.9310\n",
      "Epoch 55/100\n",
      "100/100 [==============================] - 32s 317ms/step - loss: 0.0018 - acc: 0.9991 - val_loss: 0.7834 - val_acc: 0.9240\n",
      "Epoch 56/100\n",
      "100/100 [==============================] - 32s 316ms/step - loss: 0.0011 - acc: 1.0000 - val_loss: 0.7919 - val_acc: 0.9290\n",
      "Epoch 57/100\n",
      "100/100 [==============================] - 31s 314ms/step - loss: 0.0049 - acc: 0.9993 - val_loss: 0.8136 - val_acc: 0.9290\n",
      "Epoch 58/100\n",
      "100/100 [==============================] - 32s 316ms/step - loss: 0.0025 - acc: 0.9996 - val_loss: 0.8599 - val_acc: 0.9210\n",
      "Epoch 59/100\n",
      "100/100 [==============================] - 31s 315ms/step - loss: 0.0019 - acc: 0.9996 - val_loss: 0.6980 - val_acc: 0.9280\n",
      "Epoch 60/100\n",
      "100/100 [==============================] - 31s 315ms/step - loss: 0.0027 - acc: 0.9993 - val_loss: 0.9487 - val_acc: 0.9160\n",
      "Epoch 61/100\n",
      "100/100 [==============================] - 31s 314ms/step - loss: 0.0011 - acc: 1.0000 - val_loss: 0.7445 - val_acc: 0.9310\n",
      "Epoch 62/100\n",
      "100/100 [==============================] - 31s 315ms/step - loss: 0.0026 - acc: 0.9985 - val_loss: 0.7976 - val_acc: 0.9310\n",
      "Epoch 63/100\n",
      "100/100 [==============================] - 31s 315ms/step - loss: 0.0013 - acc: 0.9994 - val_loss: 0.7935 - val_acc: 0.9300\n",
      "Epoch 64/100\n",
      "100/100 [==============================] - 32s 317ms/step - loss: 0.0015 - acc: 0.9996 - val_loss: 0.7692 - val_acc: 0.9310\n",
      "Epoch 65/100\n",
      "100/100 [==============================] - 31s 315ms/step - loss: 0.0059 - acc: 0.9967 - val_loss: 0.7599 - val_acc: 0.9270\n",
      "Epoch 66/100\n",
      "100/100 [==============================] - 31s 314ms/step - loss: 0.0066 - acc: 0.9973 - val_loss: 0.8306 - val_acc: 0.9240\n",
      "Epoch 67/100\n",
      "100/100 [==============================] - 31s 314ms/step - loss: 0.0044 - acc: 0.9984 - val_loss: 0.7889 - val_acc: 0.9300\n",
      "Epoch 68/100\n",
      "100/100 [==============================] - 31s 315ms/step - loss: 7.5320e-04 - acc: 0.9994 - val_loss: 0.7511 - val_acc: 0.9320\n",
      "Epoch 69/100\n",
      "100/100 [==============================] - 31s 314ms/step - loss: 0.0040 - acc: 0.9983 - val_loss: 0.8077 - val_acc: 0.9280\n",
      "Epoch 70/100\n",
      "100/100 [==============================] - 32s 318ms/step - loss: 4.1638e-04 - acc: 1.0000 - val_loss: 0.9213 - val_acc: 0.9230\n",
      "Epoch 71/100\n",
      "100/100 [==============================] - 32s 316ms/step - loss: 7.6398e-04 - acc: 1.0000 - val_loss: 0.8792 - val_acc: 0.9250\n",
      "Epoch 72/100\n",
      "100/100 [==============================] - 32s 316ms/step - loss: 0.0018 - acc: 0.9996 - val_loss: 0.7685 - val_acc: 0.9340\n",
      "Epoch 73/100\n",
      "100/100 [==============================] - 32s 315ms/step - loss: 0.0014 - acc: 0.9994 - val_loss: 0.7578 - val_acc: 0.9300\n",
      "Epoch 74/100\n",
      "100/100 [==============================] - 32s 317ms/step - loss: 5.4040e-04 - acc: 0.9999 - val_loss: 0.9344 - val_acc: 0.9260\n",
      "Epoch 75/100\n",
      "100/100 [==============================] - 31s 315ms/step - loss: 0.0035 - acc: 0.9992 - val_loss: 0.8544 - val_acc: 0.9210\n",
      "Epoch 76/100\n",
      "100/100 [==============================] - 31s 314ms/step - loss: 0.0026 - acc: 0.9988 - val_loss: 0.8638 - val_acc: 0.9240\n",
      "Epoch 77/100\n",
      "100/100 [==============================] - 31s 313ms/step - loss: 7.1630e-04 - acc: 0.9996 - val_loss: 0.9112 - val_acc: 0.9270\n",
      "Epoch 78/100\n",
      "100/100 [==============================] - 32s 317ms/step - loss: 0.0042 - acc: 0.9990 - val_loss: 0.8273 - val_acc: 0.9310\n",
      "Epoch 79/100\n",
      "100/100 [==============================] - 32s 317ms/step - loss: 0.0014 - acc: 0.9996 - val_loss: 0.8367 - val_acc: 0.9330\n",
      "Epoch 80/100\n",
      "100/100 [==============================] - 31s 315ms/step - loss: 0.0309 - acc: 0.9969 - val_loss: 0.8355 - val_acc: 0.9310\n",
      "Epoch 81/100\n",
      "100/100 [==============================] - 32s 318ms/step - loss: 0.0025 - acc: 0.9996 - val_loss: 0.8988 - val_acc: 0.9310\n",
      "Epoch 82/100\n",
      "100/100 [==============================] - 32s 318ms/step - loss: 0.0016 - acc: 0.9996 - val_loss: 0.8780 - val_acc: 0.9310\n",
      "Epoch 83/100\n",
      "100/100 [==============================] - 32s 317ms/step - loss: 0.0121 - acc: 0.9981 - val_loss: 0.8967 - val_acc: 0.9290\n",
      "Epoch 84/100\n",
      "100/100 [==============================] - 31s 315ms/step - loss: 0.0024 - acc: 0.9991 - val_loss: 0.8941 - val_acc: 0.9230\n",
      "Epoch 85/100\n",
      "100/100 [==============================] - 31s 314ms/step - loss: 0.0011 - acc: 0.9997 - val_loss: 0.8180 - val_acc: 0.9330\n",
      "Epoch 86/100\n",
      "100/100 [==============================] - 32s 315ms/step - loss: 0.0076 - acc: 0.9943 - val_loss: 0.8696 - val_acc: 0.9220\n",
      "Epoch 87/100\n",
      "100/100 [==============================] - 31s 314ms/step - loss: 1.9466e-04 - acc: 1.0000 - val_loss: 0.8409 - val_acc: 0.9260\n",
      "Epoch 88/100\n",
      "100/100 [==============================] - 32s 316ms/step - loss: 3.6227e-04 - acc: 0.9999 - val_loss: 0.9503 - val_acc: 0.9310\n",
      "Epoch 89/100\n",
      "100/100 [==============================] - 32s 316ms/step - loss: 0.0015 - acc: 0.9997 - val_loss: 0.8728 - val_acc: 0.9340\n",
      "Epoch 90/100\n",
      "100/100 [==============================] - 31s 315ms/step - loss: 3.6976e-04 - acc: 1.0000 - val_loss: 0.8693 - val_acc: 0.9300\n",
      "Epoch 91/100\n",
      "100/100 [==============================] - 32s 317ms/step - loss: 0.0066 - acc: 0.9982 - val_loss: 0.8001 - val_acc: 0.9330\n",
      "Epoch 92/100\n",
      "100/100 [==============================] - 32s 316ms/step - loss: 5.0152e-05 - acc: 1.0000 - val_loss: 0.8811 - val_acc: 0.9300\n",
      "Epoch 93/100\n",
      "100/100 [==============================] - 31s 315ms/step - loss: 0.0023 - acc: 0.9989 - val_loss: 1.0198 - val_acc: 0.9230\n",
      "Epoch 94/100\n",
      "100/100 [==============================] - 31s 313ms/step - loss: 8.0107e-04 - acc: 0.9993 - val_loss: 0.8946 - val_acc: 0.9320\n",
      "Epoch 95/100\n",
      "100/100 [==============================] - 31s 314ms/step - loss: 0.0022 - acc: 0.9991 - val_loss: 0.9914 - val_acc: 0.9320\n",
      "Epoch 96/100\n",
      "100/100 [==============================] - 31s 315ms/step - loss: 0.0075 - acc: 0.9990 - val_loss: 0.8573 - val_acc: 0.9400\n",
      "Epoch 97/100\n",
      "100/100 [==============================] - 31s 312ms/step - loss: 0.0016 - acc: 0.9993 - val_loss: 0.7890 - val_acc: 0.9350\n",
      "Epoch 98/100\n",
      "100/100 [==============================] - 31s 312ms/step - loss: 0.0018 - acc: 0.9991 - val_loss: 0.8588 - val_acc: 0.9290\n",
      "Epoch 99/100\n",
      "100/100 [==============================] - 31s 314ms/step - loss: 8.4886e-04 - acc: 0.9992 - val_loss: 0.9851 - val_acc: 0.9240\n",
      "Epoch 100/100\n",
      "100/100 [==============================] - 31s 312ms/step - loss: 0.0036 - acc: 0.9973 - val_loss: 0.8208 - val_acc: 0.9320\n"
     ]
    }
   ],
   "source": [
    "model.compile(loss='categorical_crossentropy', \n",
    "              optimizer=optimizers.RMSprop(lr=1e-5), \n",
    "              metrics=['acc'])\n",
    "\n",
    "history = model.fit_generator(\n",
    "    train_generator, \n",
    "    steps_per_epoch=100, \n",
    "    epochs=100, \n",
    "    validation_data=validation_generator,\n",
    "    validation_steps=50)"
   ]
  },
  {
   "cell_type": "code",
   "execution_count": 21,
   "metadata": {
    "colab": {
     "base_uri": "https://localhost:8080/",
     "height": 545
    },
    "id": "HR2OOP4eonSC",
    "outputId": "82947979-fe7f-4d9e-97b7-447679ba45a2"
   },
   "outputs": [
    {
     "data": {
      "image/png": "[encoded data removed]",
      "text/plain": [
       "<Figure size 432x288 with 1 Axes>"
      ]
     },
     "metadata": {
      "needs_background": "light",
      "tags": []
     },
     "output_type": "display_data"
    },
    {
     "data": {
      "image/png": "[encoded data removed]",
      "text/plain": [
       "<Figure size 432x288 with 1 Axes>"
      ]
     },
     "metadata": {
      "needs_background": "light",
      "tags": []
     },
     "output_type": "display_data"
    }
   ],
   "source": [
    "import matplotlib.pyplot as plt\n",
    "\n",
    "acc = history.history['acc']\n",
    "val_acc = history.history['val_acc']\n",
    "loss = history.history['loss']\n",
    "val_loss = history.history['val_loss']\n",
    "\n",
    "epochs = range(1, len(acc) + 1)\n",
    "\n",
    "plt.plot(epochs, acc, 'bo', label='Training acc')\n",
    "plt.plot(epochs, val_acc, 'b', label='Validation acc')\n",
    "plt.title('Training and validation accuracy')\n",
    "plt.legend()\n",
    "\n",
    "plt.figure()\n",
    "\n",
    "plt.plot(epochs, loss, 'bo', label='Training loss')\n",
    "plt.plot(epochs, val_loss, 'b', label='Validation loss')\n",
    "plt.title('Training and validation loss')\n",
    "plt.legend()\n",
    "\n",
    "plt.show()"
   ]
  },
  {
   "cell_type": "code",
   "execution_count": 22,
   "metadata": {
    "colab": {
     "base_uri": "https://localhost:8080/"
    },
    "id": "7ZL-_LQZE7u4",
    "outputId": "a71d4485-4857-406a-b971-f82ef0f0d323"
   },
   "outputs": [
    {
     "name": "stdout",
     "output_type": "stream",
     "text": [
      "/content\n"
     ]
    }
   ],
   "source": [
    "!pwd"
   ]
  },
  {
   "cell_type": "code",
   "execution_count": 23,
   "metadata": {
    "colab": {
     "base_uri": "https://localhost:8080/"
    },
    "id": "qyD5bUzNFSky",
    "outputId": "13d41470-26d9-40d3-acff-3e3ca74a037e"
   },
   "outputs": [
    {
     "name": "stdout",
     "output_type": "stream",
     "text": [
      "/content/drive/MyDrive/repos/TFM_food_recognition\n"
     ]
    }
   ],
   "source": [
    "%cd drive/MyDrive/repos/TFM_food_recognition/"
   ]
  },
  {
   "cell_type": "code",
   "execution_count": 24,
   "metadata": {
    "id": "DbdXo9pR18E3"
   },
   "outputs": [],
   "source": [
    "model.save('fine_tuning_over_fex.h5')"
   ]
  },
  {
   "cell_type": "code",
   "execution_count": 25,
   "metadata": {
    "colab": {
     "base_uri": "https://localhost:8080/"
    },
    "id": "GpSKz-49onY4",
    "outputId": "94c7f473-43b1-4426-ca33-aa9987a81722"
   },
   "outputs": [
    {
     "name": "stdout",
     "output_type": "stream",
     "text": [
      "total 157019\n",
      "-rw------- 1 root root     54346 Jun  5 22:39 cats_and_dogs.ipynb\n",
      "-rw------- 1 root root     12238 Jun  5 23:28 clone_repository_on_drive.ipynb\n",
      "-rw------- 1 root root    118794 Jun 10 22:40 colab_Fine-Tuning_over_FEx.ipynb\n",
      "-rw------- 1 root root     56864 Jun  5 23:28 colab_vgg16_FE_noaugmen.ipynb\n",
      "-rw------- 1 root root    439474 Jun  5 22:39 croquetas_and_tortilla.ipynb\n",
      "-rw------- 1 root root      1302 Jun  5 22:39 croquetas.csv\n",
      "-rw------- 1 root root      8929 Jun  5 22:39 data_preparation.ipynb\n",
      "-rw------- 1 root root 104040384 Jun 10 22:40 fine_tuning_over_fex.h5\n",
      "-rw------- 1 root root    249977 Jun  5 22:39 flickr_scrap.ipynb\n",
      "-rw------- 1 root root  27696936 Jun  5 22:39 multi_class_4food_augment.h5\n",
      "-rw------- 1 root root  27695888 Jun  5 22:39 multi_class_4food.h5\n",
      "-rw------- 1 root root    136235 Jun  5 22:39 multi_classification.ipynb\n",
      "-rw------- 1 root root     13661 Jun  5 22:39 multi_class_more_layers.ipynb\n",
      "-rw------- 1 root root    141280 Jun  5 22:39 prueba_de_prediccion_por_imagen.ipynb\n",
      "-rw------- 1 root root     10540 Jun  5 23:38 pull_and_push_from_colab.ipynb\n",
      "-rw------- 1 root root        22 Jun  5 22:39 README.md\n",
      "-rw------- 1 root root     47926 Jun  5 22:39 VGG16_feature_extraction_no_augmen.ipynb\n",
      "-rw------- 1 root root     57449 Jun  7 23:12 VGG16_feature_extraction_WITH_data_augment.ipynb\n"
     ]
    }
   ],
   "source": [
    "!ls -l"
   ]
  },
  {
   "cell_type": "code",
   "execution_count": 26,
   "metadata": {
    "colab": {
     "base_uri": "https://localhost:8080/"
    },
    "id": "oxwUlu84iaJt",
    "outputId": "db07805f-3b71-4e65-8257-e62355ec926c"
   },
   "outputs": [
    {
     "name": "stdout",
     "output_type": "stream",
     "text": [
      "On branch main\n",
      "Your branch is ahead of 'origin/main' by 1 commit.\n",
      "  (use \"git push\" to publish your local commits)\n",
      "\n",
      "Changes not staged for commit:\n",
      "  (use \"git add <file>...\" to update what will be committed)\n",
      "  (use \"git checkout -- <file>...\" to discard changes in working directory)\n",
      "\n",
      "\t\u001b[31mmodified:   pull_and_push_from_colab.ipynb\u001b[m\n",
      "\n",
      "Untracked files:\n",
      "  (use \"git add <file>...\" to include in what will be committed)\n",
      "\n",
      "\t\u001b[31mVGG16_feature_extraction_WITH_data_augment.ipynb\u001b[m\n",
      "\t\u001b[31mcolab_Fine-Tuning_over_FEx.ipynb\u001b[m\n",
      "\t\u001b[31mfine_tuning_over_fex.h5\u001b[m\n",
      "\n",
      "no changes added to commit (use \"git add\" and/or \"git commit -a\")\n"
     ]
    }
   ],
   "source": [
    "!git status"
   ]
  },
  {
   "cell_type": "code",
   "execution_count": 27,
   "metadata": {
    "colab": {
     "base_uri": "https://localhost:8080/"
    },
    "id": "r5fHEVFyGJLO",
    "outputId": "047c3ce4-18c5-4600-9d23-9875502cdf13"
   },
   "outputs": [
    {
     "name": "stdout",
     "output_type": "stream",
     "text": [
      "remote: Enumerating objects: 7, done.\u001b[K\n",
      "remote: Counting objects:  14% (1/7)\u001b[K\r",
      "remote: Counting objects:  28% (2/7)\u001b[K\r",
      "remote: Counting objects:  42% (3/7)\u001b[K\r",
      "remote: Counting objects:  57% (4/7)\u001b[K\r",
      "remote: Counting objects:  71% (5/7)\u001b[K\r",
      "remote: Counting objects:  85% (6/7)\u001b[K\r",
      "remote: Counting objects: 100% (7/7)\u001b[K\r",
      "remote: Counting objects: 100% (7/7), done.\u001b[K\n",
      "remote: Compressing objects:  16% (1/6)\u001b[K\r",
      "remote: Compressing objects:  33% (2/6)\u001b[K\r",
      "remote: Compressing objects:  50% (3/6)\u001b[K\r",
      "remote: Compressing objects:  66% (4/6)\u001b[K\r",
      "remote: Compressing objects:  83% (5/6)\u001b[K\r",
      "remote: Compressing objects: 100% (6/6)\u001b[K\r",
      "remote: Compressing objects: 100% (6/6), done.\u001b[K\n",
      "Unpacking objects:  16% (1/6)   \r",
      "Unpacking objects:  33% (2/6)   \r",
      "Unpacking objects:  50% (3/6)   \r",
      "Unpacking objects:  66% (4/6)   \r",
      "remote: Total 6 (delta 2), reused 0 (delta 0), pack-reused 0\u001b[K\n",
      "Unpacking objects:  83% (5/6)   \r",
      "Unpacking objects: 100% (6/6)   \r",
      "Unpacking objects: 100% (6/6), done.\n",
      "From https://github.com/utxu/TFM_food_recognition\n",
      "   9901167..95e7e49  main       -> origin/main\n",
      "Updating 1ff1ddd..95e7e49\n",
      "error: The following untracked working tree files would be overwritten by merge:\n",
      "\tVGG16_feature_extraction_WITH_data_augment.ipynb\n",
      "Please move or remove them before you merge.\n",
      "Aborting\n"
     ]
    }
   ],
   "source": [
    "!git pull"
   ]
  }
 ],
 "metadata": {
  "accelerator": "GPU",
  "colab": {
   "authorship_tag": "ABX9TyPOywux8289vvIj6p+ZgZZ3",
   "include_colab_link": true,
   "name": "colab_Fine-Tuning_over_FEx.ipynb",
   "provenance": []
  },
  "kernelspec": {
   "display_name": "Python 3",
   "language": "python",
   "name": "python3"
  },
  "language_info": {
   "codemirror_mode": {
    "name": "ipython",
    "version": 3
   },
   "file_extension": ".py",
   "mimetype": "text/x-python",
   "name": "python",
   "nbconvert_exporter": "python",
   "pygments_lexer": "ipython3",
   "version": "3.7.1"
  }
 },
 "nbformat": 4,
 "nbformat_minor": 1
}
