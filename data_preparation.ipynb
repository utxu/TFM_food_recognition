{
 "cells": [
  {
   "cell_type": "code",
   "execution_count": 1,
   "metadata": {},
   "outputs": [],
   "source": [
    "import os, shutil"
   ]
  },
  {
   "cell_type": "code",
   "execution_count": 2,
   "metadata": {},
   "outputs": [],
   "source": [
    "root_dir = '/home/dsc/tfm_data'"
   ]
  },
  {
   "cell_type": "code",
   "execution_count": 22,
   "metadata": {},
   "outputs": [],
   "source": [
    "original_tortilla_dir = os.path.join(root_dir, 'tortilla_de_patata')\n",
    "original_croquetas_dir = os.path.join(root_dir, 'croquetas')\n",
    "original_paella_dir = os.path.join(root_dir, 'paella')\n",
    "original_bravas_dir = os.path.join(root_dir, 'patatas bravas')"
   ]
  },
  {
   "cell_type": "code",
   "execution_count": 4,
   "metadata": {},
   "outputs": [
    {
     "name": "stdout",
     "output_type": "stream",
     "text": [
      "/home/dsc/TFM_food_recognition\r\n"
     ]
    }
   ],
   "source": [
    "!pwd"
   ]
  },
  {
   "cell_type": "code",
   "execution_count": 5,
   "metadata": {},
   "outputs": [],
   "source": [
    "base_dir = '/home/dsc/tfm_data/spanish_food_images'\n",
    "os.mkdir(base_dir)"
   ]
  },
  {
   "cell_type": "markdown",
   "metadata": {},
   "source": [
    "Creamos los directorios de training, validation y test:"
   ]
  },
  {
   "cell_type": "code",
   "execution_count": 6,
   "metadata": {},
   "outputs": [],
   "source": [
    "train_dir = os.path.join(base_dir, 'train')\n",
    "os.mkdir(train_dir)\n",
    "validation_dir = os.path.join(base_dir, 'validation')\n",
    "os.mkdir(validation_dir)\n",
    "test_dir = os.path.join(base_dir, 'test')\n",
    "os.mkdir(test_dir)"
   ]
  },
  {
   "cell_type": "markdown",
   "metadata": {},
   "source": [
    "Creamos las carpetas de train, validation y test de cada plato:"
   ]
  },
  {
   "cell_type": "code",
   "execution_count": 7,
   "metadata": {},
   "outputs": [],
   "source": [
    "train_tortilla_dir = os.path.join(train_dir, 'tortilla')\n",
    "os.mkdir(train_tortilla_dir)\n",
    "train_croquetas_dir = os.path.join(train_dir, 'croquetas')\n",
    "os.mkdir(train_croquetas_dir)\n",
    "train_paella_dir = os.path.join(train_dir, 'paella')\n",
    "os.mkdir(train_paella_dir)\n",
    "train_bravas_dir = os.path.join(train_dir, 'bravas')\n",
    "os.mkdir(train_bravas_dir)"
   ]
  },
  {
   "cell_type": "code",
   "execution_count": 8,
   "metadata": {},
   "outputs": [],
   "source": [
    "validation_tortilla_dir = os.path.join(validation_dir, 'tortilla')\n",
    "os.mkdir(validation_tortilla_dir)\n",
    "validation_croquetas_dir = os.path.join(validation_dir, 'croquetas')\n",
    "os.mkdir(validation_croquetas_dir)\n",
    "validation_paella_dir = os.path.join(validation_dir, 'paella')\n",
    "os.mkdir(validation_paella_dir)\n",
    "validation_bravas_dir = os.path.join(validation_dir, 'bravas')\n",
    "os.makdir(validation_bravas_dir)"
   ]
  },
  {
   "cell_type": "code",
   "execution_count": 11,
   "metadata": {},
   "outputs": [],
   "source": [
    "test_tortilla_dir = os.path.join(test_dir, 'tortilla')\n",
    "os.mkdir(test_tortilla_dir)\n",
    "test_croquetas_dir = os.path.join(test_dir, 'croquetas')\n",
    "os.mkdir(test_croquetas_dir)\n",
    "test_paella_dir = os.path.join(test_dir, 'paella')\n",
    "os.mkdir(test_paella_dir)\n",
    "test_bravas_dir = os.path.join(test_dir, 'bravas')\n",
    "os.mkdir(test_bravas_dir)"
   ]
  },
  {
   "cell_type": "markdown",
   "metadata": {},
   "source": [
    "Vamos a rellenar los directorios creados anteriormente con las fotos de los platos. Para el caso de las croquetas, vamos a seleccionar un total de 1000 fotos, de las cuales 500 fotos serán para el train, 250 para el validation y 250 para el test."
   ]
  },
  {
   "cell_type": "code",
   "execution_count": 12,
   "metadata": {},
   "outputs": [],
   "source": [
    "# Fotos de train:\n",
    "fotos = os.listdir(original_croquetas_dir)[0:500]\n",
    "for foto in fotos:\n",
    "    src = os.path.join(original_croquetas_dir, foto)\n",
    "    dst = os.path.join(train_croquetas_dir, foto)\n",
    "    shutil.copyfile(src, dst)"
   ]
  },
  {
   "cell_type": "code",
   "execution_count": 13,
   "metadata": {},
   "outputs": [],
   "source": [
    "# Fotos de validation:\n",
    "fotos = os.listdir(original_croquetas_dir)[500:750]\n",
    "for foto in fotos:\n",
    "    src = os.path.join(original_croquetas_dir, foto)\n",
    "    dst = os.path.join(validation_croquetas_dir, foto)\n",
    "    shutil.copyfile(src, dst)"
   ]
  },
  {
   "cell_type": "code",
   "execution_count": 14,
   "metadata": {},
   "outputs": [],
   "source": [
    "# Fotos de test:\n",
    "fotos = os.listdir(original_croquetas_dir)[750:1000]\n",
    "for foto in fotos:\n",
    "    src = os.path.join(original_croquetas_dir, foto)\n",
    "    dst = os.path.join(test_croquetas_dir, foto)\n",
    "    shutil.copyfile(src, dst)"
   ]
  },
  {
   "cell_type": "code",
   "execution_count": 15,
   "metadata": {},
   "outputs": [],
   "source": [
    "# Fotos de train:\n",
    "fotos = os.listdir(original_tortilla_dir)[0:500]\n",
    "for foto in fotos:\n",
    "    src = os.path.join(original_tortilla_dir, foto)\n",
    "    dst = os.path.join(train_tortilla_dir, foto)\n",
    "    shutil.copyfile(src, dst)"
   ]
  },
  {
   "cell_type": "code",
   "execution_count": 16,
   "metadata": {},
   "outputs": [],
   "source": [
    "# Fotos de validation:\n",
    "fotos = os.listdir(original_tortilla_dir)[500:750]\n",
    "for foto in fotos:\n",
    "    src = os.path.join(original_tortilla_dir, foto)\n",
    "    dst = os.path.join(validation_tortilla_dir, foto)\n",
    "    shutil.copyfile(src, dst)"
   ]
  },
  {
   "cell_type": "code",
   "execution_count": 17,
   "metadata": {},
   "outputs": [],
   "source": [
    "# Fotos de test:\n",
    "fotos = os.listdir(original_tortilla_dir)[750:1000]\n",
    "for foto in fotos:\n",
    "    src = os.path.join(original_tortilla_dir, foto)\n",
    "    dst = os.path.join(test_tortilla_dir, foto)\n",
    "    shutil.copyfile(src, dst)"
   ]
  },
  {
   "cell_type": "code",
   "execution_count": 18,
   "metadata": {},
   "outputs": [],
   "source": [
    "# Fotos de train:\n",
    "fotos = os.listdir(original_paella_dir)[0:500]\n",
    "for foto in fotos:\n",
    "    src = os.path.join(original_paella_dir, foto)\n",
    "    dst = os.path.join(train_paella_dir, foto)\n",
    "    shutil.copyfile(src, dst)"
   ]
  },
  {
   "cell_type": "code",
   "execution_count": 19,
   "metadata": {},
   "outputs": [],
   "source": [
    "# Fotos de validation:\n",
    "fotos = os.listdir(original_paella_dir)[500:750]\n",
    "for foto in fotos:\n",
    "    src = os.path.join(original_paella_dir, foto)\n",
    "    dst = os.path.join(validation_paella_dir, foto)\n",
    "    shutil.copyfile(src, dst)"
   ]
  },
  {
   "cell_type": "code",
   "execution_count": 20,
   "metadata": {},
   "outputs": [],
   "source": [
    "# Fotos de test:\n",
    "fotos = os.listdir(original_paella_dir)[750:1000]\n",
    "for foto in fotos:\n",
    "    src = os.path.join(original_paella_dir, foto)\n",
    "    dst = os.path.join(test_paella_dir, foto)\n",
    "    shutil.copyfile(src, dst)"
   ]
  },
  {
   "cell_type": "code",
   "execution_count": 23,
   "metadata": {},
   "outputs": [],
   "source": [
    "# Fotos de train:\n",
    "fotos = os.listdir(original_bravas_dir)[0:500]\n",
    "for foto in fotos:\n",
    "    src = os.path.join(original_bravas_dir, foto)\n",
    "    dst = os.path.join(train_bravas_dir, foto)\n",
    "    shutil.copyfile(src, dst)"
   ]
  },
  {
   "cell_type": "code",
   "execution_count": 24,
   "metadata": {},
   "outputs": [],
   "source": [
    "# Fotos de validation:\n",
    "fotos = os.listdir(original_bravas_dir)[500:750]\n",
    "for foto in fotos:\n",
    "    src = os.path.join(original_bravas_dir, foto)\n",
    "    dst = os.path.join(validation_bravas_dir, foto)\n",
    "    shutil.copyfile(src, dst)"
   ]
  },
  {
   "cell_type": "code",
   "execution_count": 25,
   "metadata": {},
   "outputs": [],
   "source": [
    "# Fotos de test:\n",
    "fotos = os.listdir(original_bravas_dir)[750:1000]\n",
    "for foto in fotos:\n",
    "    src = os.path.join(original_bravas_dir, foto)\n",
    "    dst = os.path.join(test_bravas_dir, foto)\n",
    "    shutil.copyfile(src, dst)"
   ]
  },
  {
   "cell_type": "code",
   "execution_count": null,
   "metadata": {},
   "outputs": [],
   "source": []
  }
 ],
 "metadata": {
  "kernelspec": {
   "display_name": "Python 3",
   "language": "python",
   "name": "python3"
  },
  "language_info": {
   "codemirror_mode": {
    "name": "ipython",
    "version": 3
   },
   "file_extension": ".py",
   "mimetype": "text/x-python",
   "name": "python",
   "nbconvert_exporter": "python",
   "pygments_lexer": "ipython3",
   "version": "3.7.1"
  }
 },
 "nbformat": 4,
 "nbformat_minor": 2
}
