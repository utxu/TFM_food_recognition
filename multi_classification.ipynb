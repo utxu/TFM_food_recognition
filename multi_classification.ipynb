{
 "cells": [
  {
   "cell_type": "code",
   "execution_count": 1,
   "metadata": {},
   "outputs": [],
   "source": [
    "from keras import layers\n",
    "from keras import models\n",
    "import os"
   ]
  },
  {
   "cell_type": "code",
   "execution_count": 2,
   "metadata": {},
   "outputs": [],
   "source": [
    "model = models.Sequential()\n",
    "model.add(layers.Conv2D(32, (3,3), activation='relu', input_shape=(150, 150, 3)))\n",
    "model.add(layers.MaxPooling2D((2,2)))\n",
    "model.add(layers.Conv2D(64, (3,3), activation='relu'))\n",
    "model.add(layers.MaxPooling2D((2,2)))\n",
    "model.add(layers.Conv2D(128, (3,3), activation='relu'))\n",
    "model.add(layers.MaxPooling2D((2,2)))\n",
    "model.add(layers.Conv2D(128, (3,3), activation='relu'))\n",
    "model.add(layers.MaxPooling2D((2,2)))\n",
    "model.add(layers.Flatten())\n",
    "model.add(layers.Dense(512, activation='relu'))\n",
    "model.add(layers.Dense(4, activation='softmax'))"
   ]
  },
  {
   "cell_type": "code",
   "execution_count": 3,
   "metadata": {},
   "outputs": [
    {
     "name": "stdout",
     "output_type": "stream",
     "text": [
      "Model: \"sequential\"\n",
      "_________________________________________________________________\n",
      "Layer (type)                 Output Shape              Param #   \n",
      "=================================================================\n",
      "conv2d (Conv2D)              (None, 148, 148, 32)      896       \n",
      "_________________________________________________________________\n",
      "max_pooling2d (MaxPooling2D) (None, 74, 74, 32)        0         \n",
      "_________________________________________________________________\n",
      "conv2d_1 (Conv2D)            (None, 72, 72, 64)        18496     \n",
      "_________________________________________________________________\n",
      "max_pooling2d_1 (MaxPooling2 (None, 36, 36, 64)        0         \n",
      "_________________________________________________________________\n",
      "conv2d_2 (Conv2D)            (None, 34, 34, 128)       73856     \n",
      "_________________________________________________________________\n",
      "max_pooling2d_2 (MaxPooling2 (None, 17, 17, 128)       0         \n",
      "_________________________________________________________________\n",
      "conv2d_3 (Conv2D)            (None, 15, 15, 128)       147584    \n",
      "_________________________________________________________________\n",
      "max_pooling2d_3 (MaxPooling2 (None, 7, 7, 128)         0         \n",
      "_________________________________________________________________\n",
      "flatten (Flatten)            (None, 6272)              0         \n",
      "_________________________________________________________________\n",
      "dense (Dense)                (None, 512)               3211776   \n",
      "_________________________________________________________________\n",
      "dense_1 (Dense)              (None, 4)                 2052      \n",
      "=================================================================\n",
      "Total params: 3,454,660\n",
      "Trainable params: 3,454,660\n",
      "Non-trainable params: 0\n",
      "_________________________________________________________________\n"
     ]
    }
   ],
   "source": [
    "model.summary()"
   ]
  },
  {
   "cell_type": "markdown",
   "metadata": {},
   "source": [
    "Configuramos el modelo para el training;"
   ]
  },
  {
   "cell_type": "code",
   "execution_count": 4,
   "metadata": {},
   "outputs": [],
   "source": [
    "from keras import optimizers\n",
    "model.compile(loss='categorical_crossentropy', optimizer=optimizers.RMSprop(lr=1e-4), metrics=['acc'])"
   ]
  },
  {
   "cell_type": "markdown",
   "metadata": {},
   "source": [
    "Using <code>ImageDataGenerator</code> para leer las imágeenes de los directorios:"
   ]
  },
  {
   "cell_type": "code",
   "execution_count": 5,
   "metadata": {},
   "outputs": [],
   "source": [
    "from keras.preprocessing.image import ImageDataGenerator\n",
    "train_datagen = ImageDataGenerator(rescale=1./255) # reescalar las imagenes por 1/255\n",
    "test_datagen = ImageDataGenerator(rescale=1./255)"
   ]
  },
  {
   "cell_type": "code",
   "execution_count": 6,
   "metadata": {},
   "outputs": [],
   "source": [
    "base_dir = '/home/dsc/tfm_data/spanish_food_images'\n",
    "train_dir = os.path.join(base_dir, 'train')\n",
    "validation_dir = os.path.join(base_dir, 'validation')\n",
    "test_dir = os.path.join(base_dir, 'test')"
   ]
  },
  {
   "cell_type": "code",
   "execution_count": 7,
   "metadata": {},
   "outputs": [
    {
     "data": {
      "text/plain": [
       "'/home/dsc/tfm_data/spanish_food_images/train'"
      ]
     },
     "execution_count": 7,
     "metadata": {},
     "output_type": "execute_result"
    }
   ],
   "source": [
    "train_dir"
   ]
  },
  {
   "cell_type": "code",
   "execution_count": 8,
   "metadata": {},
   "outputs": [
    {
     "name": "stdout",
     "output_type": "stream",
     "text": [
      "Found 2000 images belonging to 4 classes.\n",
      "Found 1000 images belonging to 4 classes.\n"
     ]
    }
   ],
   "source": [
    "train_generator =train_datagen.flow_from_directory(\n",
    "        train_dir, # directorio objetivo\n",
    "        target_size=(150,150), # rescalamos las imagenes a 150 x 150\n",
    "        batch_size=20,\n",
    "        class_mode='categorical' # hemos usado binary_crossentropy, por lo que necesitamos etiquetas binary\n",
    ")\n",
    "\n",
    "validation_generator = test_datagen.flow_from_directory(\n",
    "        validation_dir,\n",
    "        target_size=(150,150), \n",
    "        batch_size=20,\n",
    "        class_mode='categorical'\n",
    ")\n"
   ]
  },
  {
   "cell_type": "code",
   "execution_count": 9,
   "metadata": {},
   "outputs": [
    {
     "name": "stdout",
     "output_type": "stream",
     "text": [
      "data_batch shape: (20, 150, 150, 3)\n",
      "labels batch shape: (20, 4)\n"
     ]
    }
   ],
   "source": [
    "for data_batch, labels_batch in train_generator:\n",
    "    print('data_batch shape:', data_batch.shape)\n",
    "    print('labels batch shape:', labels_batch.shape)\n",
    "    break"
   ]
  },
  {
   "cell_type": "markdown",
   "metadata": {},
   "source": [
    "Visualizamos las etiquetas asignadas a cada plato:"
   ]
  },
  {
   "cell_type": "code",
   "execution_count": 10,
   "metadata": {},
   "outputs": [
    {
     "data": {
      "text/plain": [
       "{'bravas': 0, 'croquetas': 1, 'paella': 2, 'tortilla': 3}"
      ]
     },
     "execution_count": 10,
     "metadata": {},
     "output_type": "execute_result"
    }
   ],
   "source": [
    "train_generator.class_indices"
   ]
  },
  {
   "cell_type": "code",
   "execution_count": 11,
   "metadata": {
    "scrolled": true
   },
   "outputs": [
    {
     "name": "stderr",
     "output_type": "stream",
     "text": [
      "/home/dsc/anaconda3/lib/python3.7/site-packages/tensorflow/python/keras/engine/training.py:1844: UserWarning: `Model.fit_generator` is deprecated and will be removed in a future version. Please use `Model.fit`, which supports generators.\n",
      "  warnings.warn('`Model.fit_generator` is deprecated and '\n"
     ]
    },
    {
     "name": "stdout",
     "output_type": "stream",
     "text": [
      "Epoch 1/30\n",
      "50/50 [==============================] - 30s 572ms/step - loss: 1.3848 - acc: 0.3129 - val_loss: 1.1737 - val_acc: 0.5020\n",
      "Epoch 2/30\n",
      "50/50 [==============================] - 27s 533ms/step - loss: 1.2125 - acc: 0.4502 - val_loss: 1.0980 - val_acc: 0.5180\n",
      "Epoch 3/30\n",
      "50/50 [==============================] - 32s 634ms/step - loss: 1.0832 - acc: 0.5331 - val_loss: 0.9586 - val_acc: 0.5760\n",
      "Epoch 4/30\n",
      "50/50 [==============================] - 31s 610ms/step - loss: 0.9634 - acc: 0.5711 - val_loss: 0.9080 - val_acc: 0.6160\n",
      "Epoch 5/30\n",
      "50/50 [==============================] - 31s 618ms/step - loss: 0.8894 - acc: 0.6077 - val_loss: 0.9082 - val_acc: 0.5900\n",
      "Epoch 6/30\n",
      "50/50 [==============================] - 31s 623ms/step - loss: 0.9082 - acc: 0.6062 - val_loss: 0.9298 - val_acc: 0.6040\n",
      "Epoch 7/30\n",
      "50/50 [==============================] - 30s 604ms/step - loss: 0.7915 - acc: 0.6619 - val_loss: 0.8667 - val_acc: 0.6300\n",
      "Epoch 8/30\n",
      "50/50 [==============================] - 31s 613ms/step - loss: 0.7759 - acc: 0.6615 - val_loss: 0.8761 - val_acc: 0.5820\n",
      "Epoch 9/30\n",
      "50/50 [==============================] - 30s 606ms/step - loss: 0.7925 - acc: 0.6634 - val_loss: 0.7871 - val_acc: 0.6840\n",
      "Epoch 10/30\n",
      "50/50 [==============================] - 31s 622ms/step - loss: 0.7538 - acc: 0.6812 - val_loss: 0.9278 - val_acc: 0.6240\n",
      "Epoch 11/30\n",
      "50/50 [==============================] - 30s 602ms/step - loss: 0.7758 - acc: 0.6799 - val_loss: 0.8751 - val_acc: 0.6360\n",
      "Epoch 12/30\n",
      "50/50 [==============================] - 30s 590ms/step - loss: 0.7482 - acc: 0.6920 - val_loss: 0.9501 - val_acc: 0.5960\n",
      "Epoch 13/30\n",
      "50/50 [==============================] - 31s 617ms/step - loss: 0.7265 - acc: 0.7090 - val_loss: 0.8737 - val_acc: 0.6540\n",
      "Epoch 14/30\n",
      "50/50 [==============================] - 30s 597ms/step - loss: 0.6861 - acc: 0.7247 - val_loss: 0.8995 - val_acc: 0.6180\n",
      "Epoch 15/30\n",
      "50/50 [==============================] - 30s 590ms/step - loss: 0.6460 - acc: 0.7401 - val_loss: 0.8296 - val_acc: 0.6600\n",
      "Epoch 16/30\n",
      "50/50 [==============================] - 30s 603ms/step - loss: 0.6079 - acc: 0.7611 - val_loss: 0.7676 - val_acc: 0.6940\n",
      "Epoch 17/30\n",
      "50/50 [==============================] - 30s 602ms/step - loss: 0.6239 - acc: 0.7461 - val_loss: 0.8307 - val_acc: 0.6560\n",
      "Epoch 18/30\n",
      "50/50 [==============================] - 30s 595ms/step - loss: 0.5629 - acc: 0.7723 - val_loss: 0.7973 - val_acc: 0.6640\n",
      "Epoch 19/30\n",
      "50/50 [==============================] - 30s 601ms/step - loss: 0.5644 - acc: 0.7921 - val_loss: 0.8253 - val_acc: 0.6520\n",
      "Epoch 20/30\n",
      "50/50 [==============================] - 30s 596ms/step - loss: 0.6132 - acc: 0.7694 - val_loss: 0.6886 - val_acc: 0.7260\n",
      "Epoch 21/30\n",
      "50/50 [==============================] - 30s 597ms/step - loss: 0.5545 - acc: 0.7888 - val_loss: 0.8909 - val_acc: 0.6280\n",
      "Epoch 22/30\n",
      "50/50 [==============================] - 30s 603ms/step - loss: 0.5041 - acc: 0.8200 - val_loss: 0.8404 - val_acc: 0.6780\n",
      "Epoch 23/30\n",
      "50/50 [==============================] - 30s 598ms/step - loss: 0.5251 - acc: 0.7769 - val_loss: 0.8384 - val_acc: 0.6940\n",
      "Epoch 24/30\n",
      "50/50 [==============================] - 30s 590ms/step - loss: 0.4714 - acc: 0.8175 - val_loss: 0.8190 - val_acc: 0.6820\n",
      "Epoch 25/30\n",
      "50/50 [==============================] - 30s 598ms/step - loss: 0.5182 - acc: 0.8072 - val_loss: 1.1197 - val_acc: 0.6020\n",
      "Epoch 26/30\n",
      "50/50 [==============================] - 30s 601ms/step - loss: 0.4641 - acc: 0.8082 - val_loss: 1.0543 - val_acc: 0.6040\n",
      "Epoch 27/30\n",
      "50/50 [==============================] - 30s 595ms/step - loss: 0.4724 - acc: 0.8253 - val_loss: 0.6965 - val_acc: 0.7280\n",
      "Epoch 28/30\n",
      "50/50 [==============================] - 30s 600ms/step - loss: 0.4098 - acc: 0.8414 - val_loss: 0.7798 - val_acc: 0.6940\n",
      "Epoch 29/30\n",
      "50/50 [==============================] - 30s 600ms/step - loss: 0.3929 - acc: 0.8479 - val_loss: 0.8223 - val_acc: 0.6780\n",
      "Epoch 30/30\n",
      "50/50 [==============================] - 30s 595ms/step - loss: 0.3578 - acc: 0.8670 - val_loss: 0.8679 - val_acc: 0.6680\n"
     ]
    }
   ],
   "source": [
    "history = model.fit_generator(\n",
    "    train_generator, \n",
    "    steps_per_epoch=50,\n",
    "    epochs=30,\n",
    "    validation_data=validation_generator, \n",
    "    validation_steps=25)"
   ]
  },
  {
   "cell_type": "code",
   "execution_count": 12,
   "metadata": {},
   "outputs": [
    {
     "name": "stdout",
     "output_type": "stream",
     "text": [
      "/home/dsc/TFM_food_recognition\r\n"
     ]
    }
   ],
   "source": [
    "!pwd"
   ]
  },
  {
   "cell_type": "code",
   "execution_count": 13,
   "metadata": {},
   "outputs": [],
   "source": [
    "model.save('multi_class_4food.h5')"
   ]
  },
  {
   "cell_type": "code",
   "execution_count": 14,
   "metadata": {},
   "outputs": [],
   "source": [
    "import matplotlib.pyplot as plt"
   ]
  },
  {
   "cell_type": "code",
   "execution_count": 15,
   "metadata": {},
   "outputs": [
    {
     "data": {
      "image/png": "[encoded data removed]",
      "text/plain": [
       "<Figure size 432x288 with 1 Axes>"
      ]
     },
     "metadata": {
      "needs_background": "light"
     },
     "output_type": "display_data"
    },
    {
     "data": {
      "image/png": "[encoded data removed]",
      "text/plain": [
       "<Figure size 432x288 with 1 Axes>"
      ]
     },
     "metadata": {
      "needs_background": "light"
     },
     "output_type": "display_data"
    }
   ],
   "source": [
    "acc = history.history['acc']\n",
    "val_acc = history.history['val_acc']\n",
    "loss = history.history['loss']\n",
    "val_loss = history.history['val_loss']\n",
    "\n",
    "epochs = range(1, len(acc) + 1)\n",
    "\n",
    "plt.plot(epochs, acc, 'bo', label='Training acc')\n",
    "plt.plot(epochs, val_acc, 'b', label='Validation acc')\n",
    "plt.title('Training and validation accuracy')\n",
    "plt.legend()\n",
    "\n",
    "plt.figure()\n",
    "\n",
    "plt.plot(epochs, loss, 'bo', label='Training loss')\n",
    "plt.plot(epochs, val_loss, 'b', label='Validation loss')\n",
    "plt.title('Training and validation loss')\n",
    "plt.legend()\n",
    "\n",
    "plt.show()"
   ]
  },
  {
   "cell_type": "code",
   "execution_count": 16,
   "metadata": {},
   "outputs": [
    {
     "data": {
      "text/plain": [
       "[0.5019999742507935,\n",
       " 0.5180000066757202,\n",
       " 0.5759999752044678,\n",
       " 0.6159999966621399,\n",
       " 0.5899999737739563,\n",
       " 0.6039999723434448,\n",
       " 0.6299999952316284,\n",
       " 0.5820000171661377,\n",
       " 0.6840000152587891,\n",
       " 0.6240000128746033,\n",
       " 0.6359999775886536,\n",
       " 0.5960000157356262,\n",
       " 0.6539999842643738,\n",
       " 0.6179999709129333,\n",
       " 0.6600000262260437,\n",
       " 0.6940000057220459,\n",
       " 0.656000018119812,\n",
       " 0.6639999747276306,\n",
       " 0.6520000100135803,\n",
       " 0.7260000109672546,\n",
       " 0.628000020980835,\n",
       " 0.6779999732971191,\n",
       " 0.6940000057220459,\n",
       " 0.6819999814033508,\n",
       " 0.6019999980926514,\n",
       " 0.6039999723434448,\n",
       " 0.7279999852180481,\n",
       " 0.6940000057220459,\n",
       " 0.6779999732971191,\n",
       " 0.6679999828338623]"
      ]
     },
     "execution_count": 16,
     "metadata": {},
     "output_type": "execute_result"
    }
   ],
   "source": [
    "val_acc"
   ]
  },
  {
   "cell_type": "markdown",
   "metadata": {},
   "source": [
    "### Data Augmentation: "
   ]
  },
  {
   "cell_type": "code",
   "execution_count": 17,
   "metadata": {},
   "outputs": [],
   "source": [
    "datagen = ImageDataGenerator(rotation_range=40,\n",
    "                             width_shift_range=0.2,\n",
    "                             height_shift_range=0.2,\n",
    "                             shear_range=0.2,\n",
    "                             zoom_range=0.2,\n",
    "                             horizontal_flip=True,\n",
    "                             fill_mode='nearest')"
   ]
  },
  {
   "cell_type": "code",
   "execution_count": 19,
   "metadata": {},
   "outputs": [
    {
     "name": "stdout",
     "output_type": "stream",
     "text": [
      "Model: \"sequential_2\"\n",
      "_________________________________________________________________\n",
      "Layer (type)                 Output Shape              Param #   \n",
      "=================================================================\n",
      "conv2d_8 (Conv2D)            (None, 148, 148, 32)      896       \n",
      "_________________________________________________________________\n",
      "max_pooling2d_8 (MaxPooling2 (None, 74, 74, 32)        0         \n",
      "_________________________________________________________________\n",
      "conv2d_9 (Conv2D)            (None, 72, 72, 64)        18496     \n",
      "_________________________________________________________________\n",
      "max_pooling2d_9 (MaxPooling2 (None, 36, 36, 64)        0         \n",
      "_________________________________________________________________\n",
      "conv2d_10 (Conv2D)           (None, 34, 34, 128)       73856     \n",
      "_________________________________________________________________\n",
      "max_pooling2d_10 (MaxPooling (None, 17, 17, 128)       0         \n",
      "_________________________________________________________________\n",
      "conv2d_11 (Conv2D)           (None, 15, 15, 128)       147584    \n",
      "_________________________________________________________________\n",
      "max_pooling2d_11 (MaxPooling (None, 7, 7, 128)         0         \n",
      "_________________________________________________________________\n",
      "flatten_2 (Flatten)          (None, 6272)              0         \n",
      "_________________________________________________________________\n",
      "dropout_1 (Dropout)          (None, 6272)              0         \n",
      "_________________________________________________________________\n",
      "dense_4 (Dense)              (None, 512)               3211776   \n",
      "_________________________________________________________________\n",
      "dense_5 (Dense)              (None, 4)                 2052      \n",
      "=================================================================\n",
      "Total params: 3,454,660\n",
      "Trainable params: 3,454,660\n",
      "Non-trainable params: 0\n",
      "_________________________________________________________________\n"
     ]
    }
   ],
   "source": [
    "from keras import optimizers\n",
    "model = models.Sequential()\n",
    "model.add(layers.Conv2D(32, (3, 3), activation = 'relu', input_shape=(150, 150, 3)))\n",
    "model.add(layers.MaxPooling2D((2,2)))\n",
    "model.add(layers.Conv2D(64, (3, 3), activation='relu'))\n",
    "model.add(layers.MaxPooling2D((2, 2)))\n",
    "model.add(layers.Conv2D(128, (3, 3), activation='relu'))\n",
    "model.add(layers.MaxPooling2D((2, 2)))\n",
    "model.add(layers.Conv2D(128, (3, 3), activation='relu'))\n",
    "model.add(layers.MaxPooling2D((2, 2)))\n",
    "model.add(layers.Flatten())\n",
    "model.add(layers.Dropout(0.5))\n",
    "model.add(layers.Dense(512, activation='relu'))\n",
    "model.add(layers.Dense(4, activation='softmax'))\n",
    "\n",
    "model.compile(loss='categorical_crossentropy',\n",
    "              optimizer=optimizers.RMSprop(lr=1e-4),\n",
    "              metrics=['acc'])\n",
    "\n",
    "model.summary()"
   ]
  },
  {
   "cell_type": "code",
   "execution_count": 20,
   "metadata": {},
   "outputs": [],
   "source": [
    "train_datagen = ImageDataGenerator(rescale=1./255,\n",
    "                                   rotation_range=40,\n",
    "                                   width_shift_range=0.2,\n",
    "                                   height_shift_range=0.2,\n",
    "                                   shear_range=0.2,\n",
    "                                   zoom_range=0.2,\n",
    "                                   horizontal_flip=True)"
   ]
  },
  {
   "cell_type": "code",
   "execution_count": 21,
   "metadata": {},
   "outputs": [],
   "source": [
    "# Validation data no se realiza la transoformación de las imágenes:\n",
    "test_datagen = ImageDataGenerator(rescale=1./255)"
   ]
  },
  {
   "cell_type": "code",
   "execution_count": 22,
   "metadata": {},
   "outputs": [
    {
     "name": "stdout",
     "output_type": "stream",
     "text": [
      "Found 2000 images belonging to 4 classes.\n"
     ]
    }
   ],
   "source": [
    "train_generator = train_datagen.flow_from_directory(train_dir,\n",
    "                                                    target_size=(150, 150),\n",
    "                                                    batch_size=20,\n",
    "                                                    class_mode='categorical')"
   ]
  },
  {
   "cell_type": "code",
   "execution_count": 23,
   "metadata": {},
   "outputs": [
    {
     "name": "stdout",
     "output_type": "stream",
     "text": [
      "Found 1000 images belonging to 4 classes.\n"
     ]
    }
   ],
   "source": [
    "validation_generator = test_datagen.flow_from_directory(validation_dir,\n",
    "                                                        target_size=(150, 150),\n",
    "                                                        batch_size=20,\n",
    "                                                        class_mode='categorical')"
   ]
  },
  {
   "cell_type": "code",
   "execution_count": 24,
   "metadata": {},
   "outputs": [
    {
     "name": "stderr",
     "output_type": "stream",
     "text": [
      "/home/dsc/anaconda3/lib/python3.7/site-packages/tensorflow/python/keras/engine/training.py:1844: UserWarning: `Model.fit_generator` is deprecated and will be removed in a future version. Please use `Model.fit`, which supports generators.\n",
      "  warnings.warn('`Model.fit_generator` is deprecated and '\n"
     ]
    },
    {
     "name": "stdout",
     "output_type": "stream",
     "text": [
      "Epoch 1/100\n",
      "50/50 [==============================] - 28s 557ms/step - loss: 1.3830 - acc: 0.2842 - val_loss: 1.2529 - val_acc: 0.4780\n",
      "Epoch 2/100\n",
      "50/50 [==============================] - 28s 560ms/step - loss: 1.2917 - acc: 0.3772 - val_loss: 1.0944 - val_acc: 0.5180\n",
      "Epoch 3/100\n",
      "50/50 [==============================] - 28s 558ms/step - loss: 1.1699 - acc: 0.4652 - val_loss: 1.0361 - val_acc: 0.5280\n",
      "Epoch 4/100\n",
      "50/50 [==============================] - 31s 622ms/step - loss: 1.0207 - acc: 0.5721 - val_loss: 1.7413 - val_acc: 0.3080\n",
      "Epoch 5/100\n",
      "50/50 [==============================] - 32s 640ms/step - loss: 1.0710 - acc: 0.5143 - val_loss: 1.1043 - val_acc: 0.5200\n",
      "Epoch 6/100\n",
      "50/50 [==============================] - 32s 633ms/step - loss: 1.0122 - acc: 0.5272 - val_loss: 0.9363 - val_acc: 0.6000\n",
      "Epoch 7/100\n",
      "50/50 [==============================] - 32s 629ms/step - loss: 0.9957 - acc: 0.5757 - val_loss: 0.9872 - val_acc: 0.5860\n",
      "Epoch 8/100\n",
      "50/50 [==============================] - 32s 640ms/step - loss: 1.0076 - acc: 0.5900 - val_loss: 1.1048 - val_acc: 0.5400\n",
      "Epoch 9/100\n",
      "50/50 [==============================] - 31s 627ms/step - loss: 0.9851 - acc: 0.5674 - val_loss: 1.0919 - val_acc: 0.5580\n",
      "Epoch 10/100\n",
      "50/50 [==============================] - 31s 624ms/step - loss: 0.9473 - acc: 0.5851 - val_loss: 0.9201 - val_acc: 0.6040\n",
      "Epoch 11/100\n",
      "50/50 [==============================] - 31s 625ms/step - loss: 0.9741 - acc: 0.5735 - val_loss: 0.8742 - val_acc: 0.6520\n",
      "Epoch 12/100\n",
      "50/50 [==============================] - 31s 626ms/step - loss: 0.9397 - acc: 0.5698 - val_loss: 1.0884 - val_acc: 0.5980\n",
      "Epoch 13/100\n",
      "50/50 [==============================] - 32s 632ms/step - loss: 0.9485 - acc: 0.5760 - val_loss: 1.0001 - val_acc: 0.6340\n",
      "Epoch 14/100\n",
      "50/50 [==============================] - 32s 641ms/step - loss: 0.9154 - acc: 0.6025 - val_loss: 0.8813 - val_acc: 0.6660\n",
      "Epoch 15/100\n",
      "50/50 [==============================] - 32s 632ms/step - loss: 0.9412 - acc: 0.6136 - val_loss: 0.9904 - val_acc: 0.5860\n",
      "Epoch 16/100\n",
      "50/50 [==============================] - 32s 639ms/step - loss: 0.9041 - acc: 0.6156 - val_loss: 1.1167 - val_acc: 0.5540\n",
      "Epoch 17/100\n",
      "50/50 [==============================] - 32s 640ms/step - loss: 0.8829 - acc: 0.6411 - val_loss: 0.8767 - val_acc: 0.6640\n",
      "Epoch 18/100\n",
      "50/50 [==============================] - 31s 626ms/step - loss: 0.8833 - acc: 0.6227 - val_loss: 1.3760 - val_acc: 0.4960\n",
      "Epoch 19/100\n",
      "50/50 [==============================] - 35s 699ms/step - loss: 0.8117 - acc: 0.6684 - val_loss: 1.2070 - val_acc: 0.5300\n",
      "Epoch 20/100\n",
      "50/50 [==============================] - 32s 631ms/step - loss: 0.8367 - acc: 0.6866 - val_loss: 1.0738 - val_acc: 0.5820\n",
      "Epoch 21/100\n",
      "50/50 [==============================] - 32s 648ms/step - loss: 0.8375 - acc: 0.6587 - val_loss: 0.9163 - val_acc: 0.6440\n",
      "Epoch 22/100\n",
      "50/50 [==============================] - 32s 634ms/step - loss: 0.8261 - acc: 0.6521 - val_loss: 1.0124 - val_acc: 0.5900\n",
      "Epoch 23/100\n",
      "50/50 [==============================] - 32s 636ms/step - loss: 0.8141 - acc: 0.6700 - val_loss: 1.2576 - val_acc: 0.5300\n",
      "Epoch 24/100\n",
      "50/50 [==============================] - 32s 636ms/step - loss: 0.7506 - acc: 0.6839 - val_loss: 0.9725 - val_acc: 0.6260\n",
      "Epoch 25/100\n",
      "50/50 [==============================] - 32s 632ms/step - loss: 0.8097 - acc: 0.6515 - val_loss: 0.9746 - val_acc: 0.6240\n",
      "Epoch 26/100\n",
      "50/50 [==============================] - 32s 631ms/step - loss: 0.8289 - acc: 0.6589 - val_loss: 1.3265 - val_acc: 0.5280\n",
      "Epoch 27/100\n",
      "50/50 [==============================] - 32s 633ms/step - loss: 0.8054 - acc: 0.6514 - val_loss: 0.8656 - val_acc: 0.6720\n",
      "Epoch 28/100\n",
      "50/50 [==============================] - 32s 649ms/step - loss: 0.8234 - acc: 0.6769 - val_loss: 0.7923 - val_acc: 0.6880\n",
      "Epoch 29/100\n",
      "50/50 [==============================] - 32s 638ms/step - loss: 0.7806 - acc: 0.6834 - val_loss: 0.9573 - val_acc: 0.5960\n",
      "Epoch 30/100\n",
      "50/50 [==============================] - 32s 637ms/step - loss: 0.7427 - acc: 0.6916 - val_loss: 1.4907 - val_acc: 0.4640\n",
      "Epoch 31/100\n",
      "50/50 [==============================] - 32s 633ms/step - loss: 0.7592 - acc: 0.6955 - val_loss: 0.7615 - val_acc: 0.7000\n",
      "Epoch 32/100\n",
      "50/50 [==============================] - 32s 636ms/step - loss: 0.8119 - acc: 0.6650 - val_loss: 0.9343 - val_acc: 0.6240\n",
      "Epoch 33/100\n",
      "50/50 [==============================] - 32s 639ms/step - loss: 0.8543 - acc: 0.6472 - val_loss: 0.8315 - val_acc: 0.6720\n",
      "Epoch 34/100\n",
      "50/50 [==============================] - 32s 636ms/step - loss: 0.7147 - acc: 0.7334 - val_loss: 0.8256 - val_acc: 0.6580\n",
      "Epoch 35/100\n",
      "50/50 [==============================] - 32s 641ms/step - loss: 0.7267 - acc: 0.7050 - val_loss: 0.7811 - val_acc: 0.6780\n",
      "Epoch 36/100\n",
      "50/50 [==============================] - 32s 637ms/step - loss: 0.6806 - acc: 0.7367 - val_loss: 0.8936 - val_acc: 0.6620\n",
      "Epoch 37/100\n",
      "50/50 [==============================] - 33s 662ms/step - loss: 0.6892 - acc: 0.7245 - val_loss: 0.8996 - val_acc: 0.6640\n",
      "Epoch 38/100\n",
      "50/50 [==============================] - 32s 634ms/step - loss: 0.7062 - acc: 0.7279 - val_loss: 0.8678 - val_acc: 0.6200\n",
      "Epoch 39/100\n",
      "50/50 [==============================] - 32s 630ms/step - loss: 0.6988 - acc: 0.7375 - val_loss: 0.8600 - val_acc: 0.6660\n",
      "Epoch 40/100\n",
      "50/50 [==============================] - 32s 637ms/step - loss: 0.6969 - acc: 0.7384 - val_loss: 0.9321 - val_acc: 0.6340\n",
      "Epoch 41/100\n",
      "50/50 [==============================] - 32s 634ms/step - loss: 0.6567 - acc: 0.7255 - val_loss: 0.9462 - val_acc: 0.6320\n",
      "Epoch 42/100\n",
      "50/50 [==============================] - 32s 637ms/step - loss: 0.7362 - acc: 0.7018 - val_loss: 0.8005 - val_acc: 0.6500\n",
      "Epoch 43/100\n",
      "50/50 [==============================] - 32s 630ms/step - loss: 0.6525 - acc: 0.7598 - val_loss: 0.7339 - val_acc: 0.7240\n",
      "Epoch 44/100\n",
      "50/50 [==============================] - 32s 637ms/step - loss: 0.7102 - acc: 0.7042 - val_loss: 0.9894 - val_acc: 0.6180\n",
      "Epoch 45/100\n",
      "50/50 [==============================] - 32s 630ms/step - loss: 0.7440 - acc: 0.7137 - val_loss: 0.8910 - val_acc: 0.6900\n",
      "Epoch 46/100\n",
      "50/50 [==============================] - 32s 632ms/step - loss: 0.6943 - acc: 0.7390 - val_loss: 0.7301 - val_acc: 0.6820\n",
      "Epoch 47/100\n",
      "50/50 [==============================] - 32s 633ms/step - loss: 0.6345 - acc: 0.7573 - val_loss: 1.3147 - val_acc: 0.5540\n",
      "Epoch 48/100\n",
      "50/50 [==============================] - 32s 629ms/step - loss: 0.6726 - acc: 0.7232 - val_loss: 0.6535 - val_acc: 0.7400\n",
      "Epoch 49/100\n",
      "50/50 [==============================] - 32s 637ms/step - loss: 0.6637 - acc: 0.7363 - val_loss: 0.7614 - val_acc: 0.6920\n",
      "Epoch 50/100\n",
      "50/50 [==============================] - 33s 653ms/step - loss: 0.7195 - acc: 0.7165 - val_loss: 0.7162 - val_acc: 0.7280\n",
      "Epoch 51/100\n",
      "50/50 [==============================] - 32s 637ms/step - loss: 0.7200 - acc: 0.7034 - val_loss: 0.7498 - val_acc: 0.6840\n",
      "Epoch 52/100\n",
      "50/50 [==============================] - 32s 634ms/step - loss: 0.6636 - acc: 0.7502 - val_loss: 1.0459 - val_acc: 0.6240\n",
      "Epoch 53/100\n",
      "50/50 [==============================] - 33s 661ms/step - loss: 0.7285 - acc: 0.7082 - val_loss: 0.8207 - val_acc: 0.6860\n",
      "Epoch 54/100\n",
      "50/50 [==============================] - 32s 648ms/step - loss: 0.6942 - acc: 0.7285 - val_loss: 0.7061 - val_acc: 0.7260\n",
      "Epoch 55/100\n",
      "50/50 [==============================] - 32s 636ms/step - loss: 0.6883 - acc: 0.7153 - val_loss: 0.8117 - val_acc: 0.7000\n",
      "Epoch 56/100\n",
      "50/50 [==============================] - 32s 644ms/step - loss: 0.6653 - acc: 0.7560 - val_loss: 0.7651 - val_acc: 0.7080\n",
      "Epoch 57/100\n",
      "50/50 [==============================] - 32s 638ms/step - loss: 0.6586 - acc: 0.7582 - val_loss: 0.7273 - val_acc: 0.6980\n",
      "Epoch 58/100\n",
      "50/50 [==============================] - 32s 646ms/step - loss: 0.6414 - acc: 0.7485 - val_loss: 0.9536 - val_acc: 0.6600\n",
      "Epoch 59/100\n",
      "50/50 [==============================] - 32s 639ms/step - loss: 0.6215 - acc: 0.7332 - val_loss: 0.6653 - val_acc: 0.7420\n",
      "Epoch 60/100\n",
      "50/50 [==============================] - 32s 638ms/step - loss: 0.6391 - acc: 0.7478 - val_loss: 0.9291 - val_acc: 0.6480\n",
      "Epoch 61/100\n",
      "50/50 [==============================] - 32s 640ms/step - loss: 0.6330 - acc: 0.7666 - val_loss: 0.7190 - val_acc: 0.7220\n"
     ]
    },
    {
     "name": "stdout",
     "output_type": "stream",
     "text": [
      "Epoch 62/100\n",
      "50/50 [==============================] - 32s 633ms/step - loss: 0.6231 - acc: 0.7589 - val_loss: 0.8454 - val_acc: 0.6840\n",
      "Epoch 63/100\n",
      "50/50 [==============================] - 32s 632ms/step - loss: 0.6129 - acc: 0.7398 - val_loss: 0.9054 - val_acc: 0.6700\n",
      "Epoch 64/100\n",
      "50/50 [==============================] - 32s 642ms/step - loss: 0.6593 - acc: 0.7289 - val_loss: 0.7422 - val_acc: 0.7380\n",
      "Epoch 65/100\n",
      "50/50 [==============================] - 32s 637ms/step - loss: 0.5286 - acc: 0.7980 - val_loss: 0.5578 - val_acc: 0.7680\n",
      "Epoch 66/100\n",
      "50/50 [==============================] - 32s 634ms/step - loss: 0.6304 - acc: 0.7657 - val_loss: 0.6384 - val_acc: 0.7520\n",
      "Epoch 67/100\n",
      "50/50 [==============================] - 32s 634ms/step - loss: 0.5900 - acc: 0.7872 - val_loss: 0.6816 - val_acc: 0.7300\n",
      "Epoch 68/100\n",
      "50/50 [==============================] - 32s 636ms/step - loss: 0.6049 - acc: 0.7791 - val_loss: 0.5761 - val_acc: 0.7840\n",
      "Epoch 69/100\n",
      "50/50 [==============================] - 34s 676ms/step - loss: 0.6815 - acc: 0.7415 - val_loss: 0.5993 - val_acc: 0.7560\n",
      "Epoch 70/100\n",
      "50/50 [==============================] - 33s 656ms/step - loss: 0.6205 - acc: 0.7414 - val_loss: 0.9044 - val_acc: 0.6660\n",
      "Epoch 71/100\n",
      "50/50 [==============================] - 33s 649ms/step - loss: 0.6110 - acc: 0.7510 - val_loss: 0.8066 - val_acc: 0.6880\n",
      "Epoch 72/100\n",
      "50/50 [==============================] - 32s 637ms/step - loss: 0.6231 - acc: 0.7613 - val_loss: 0.7118 - val_acc: 0.7200\n",
      "Epoch 73/100\n",
      "50/50 [==============================] - 33s 659ms/step - loss: 0.6065 - acc: 0.7617 - val_loss: 0.7274 - val_acc: 0.7280\n",
      "Epoch 74/100\n",
      "50/50 [==============================] - 32s 641ms/step - loss: 0.5848 - acc: 0.7694 - val_loss: 0.6233 - val_acc: 0.7400\n",
      "Epoch 75/100\n",
      "50/50 [==============================] - 32s 646ms/step - loss: 0.5869 - acc: 0.7841 - val_loss: 1.1731 - val_acc: 0.6160\n",
      "Epoch 76/100\n",
      "50/50 [==============================] - 32s 635ms/step - loss: 0.5869 - acc: 0.7713 - val_loss: 0.8223 - val_acc: 0.6900\n",
      "Epoch 77/100\n",
      "50/50 [==============================] - 32s 648ms/step - loss: 0.5725 - acc: 0.7770 - val_loss: 1.1620 - val_acc: 0.6120\n",
      "Epoch 78/100\n",
      "50/50 [==============================] - 32s 645ms/step - loss: 0.5642 - acc: 0.7721 - val_loss: 0.7462 - val_acc: 0.6920\n",
      "Epoch 79/100\n",
      "50/50 [==============================] - 32s 645ms/step - loss: 0.6116 - acc: 0.7516 - val_loss: 0.6647 - val_acc: 0.7540\n",
      "Epoch 80/100\n",
      "50/50 [==============================] - 32s 647ms/step - loss: 0.5219 - acc: 0.7900 - val_loss: 0.8037 - val_acc: 0.7080\n",
      "Epoch 81/100\n",
      "50/50 [==============================] - 32s 643ms/step - loss: 0.5587 - acc: 0.7872 - val_loss: 0.6056 - val_acc: 0.7700\n",
      "Epoch 82/100\n",
      "50/50 [==============================] - 34s 674ms/step - loss: 0.5532 - acc: 0.7863 - val_loss: 0.5988 - val_acc: 0.7580\n",
      "Epoch 83/100\n",
      "50/50 [==============================] - 33s 664ms/step - loss: 0.6021 - acc: 0.7499 - val_loss: 0.9221 - val_acc: 0.6600\n",
      "Epoch 84/100\n",
      "50/50 [==============================] - 35s 703ms/step - loss: 0.5749 - acc: 0.7952 - val_loss: 0.7941 - val_acc: 0.7280\n",
      "Epoch 85/100\n",
      "50/50 [==============================] - 35s 694ms/step - loss: 0.5436 - acc: 0.8013 - val_loss: 0.6467 - val_acc: 0.7600\n",
      "Epoch 86/100\n",
      "50/50 [==============================] - 34s 680ms/step - loss: 0.5294 - acc: 0.7898 - val_loss: 0.6986 - val_acc: 0.7340\n",
      "Epoch 87/100\n",
      "50/50 [==============================] - 33s 654ms/step - loss: 0.4851 - acc: 0.8310 - val_loss: 0.9121 - val_acc: 0.6860\n",
      "Epoch 88/100\n",
      "50/50 [==============================] - 33s 656ms/step - loss: 0.5821 - acc: 0.7768 - val_loss: 0.7791 - val_acc: 0.7120\n",
      "Epoch 89/100\n",
      "50/50 [==============================] - 32s 639ms/step - loss: 0.5553 - acc: 0.7978 - val_loss: 0.5902 - val_acc: 0.7660\n",
      "Epoch 90/100\n",
      "50/50 [==============================] - 32s 637ms/step - loss: 0.5664 - acc: 0.7814 - val_loss: 0.5858 - val_acc: 0.7840\n",
      "Epoch 91/100\n",
      "50/50 [==============================] - 33s 666ms/step - loss: 0.4941 - acc: 0.8119 - val_loss: 0.7557 - val_acc: 0.7300\n",
      "Epoch 92/100\n",
      "50/50 [==============================] - 33s 660ms/step - loss: 0.5506 - acc: 0.7689 - val_loss: 0.8297 - val_acc: 0.6800\n",
      "Epoch 93/100\n",
      "50/50 [==============================] - 33s 661ms/step - loss: 0.5897 - acc: 0.7592 - val_loss: 0.6205 - val_acc: 0.7460\n",
      "Epoch 94/100\n",
      "50/50 [==============================] - 34s 686ms/step - loss: 0.5443 - acc: 0.8045 - val_loss: 0.8023 - val_acc: 0.6940\n",
      "Epoch 95/100\n",
      "50/50 [==============================] - 38s 755ms/step - loss: 0.5673 - acc: 0.7816 - val_loss: 1.0370 - val_acc: 0.6460\n",
      "Epoch 96/100\n",
      "50/50 [==============================] - 34s 669ms/step - loss: 0.5094 - acc: 0.8047 - val_loss: 0.6559 - val_acc: 0.7440\n",
      "Epoch 97/100\n",
      "50/50 [==============================] - 33s 655ms/step - loss: 0.4862 - acc: 0.8155 - val_loss: 0.7665 - val_acc: 0.7220\n",
      "Epoch 98/100\n",
      "50/50 [==============================] - 33s 654ms/step - loss: 0.5152 - acc: 0.8002 - val_loss: 0.5847 - val_acc: 0.7820\n",
      "Epoch 99/100\n",
      "50/50 [==============================] - 33s 650ms/step - loss: 0.5104 - acc: 0.8084 - val_loss: 0.7633 - val_acc: 0.6740\n",
      "Epoch 100/100\n",
      "50/50 [==============================] - 32s 635ms/step - loss: 0.5190 - acc: 0.7879 - val_loss: 0.6091 - val_acc: 0.7860\n"
     ]
    }
   ],
   "source": [
    "history = model.fit_generator(train_generator,\n",
    "                              steps_per_epoch=50,\n",
    "                              epochs=100,\n",
    "                              validation_data=validation_generator,\n",
    "                              validation_steps=25)"
   ]
  },
  {
   "cell_type": "code",
   "execution_count": 25,
   "metadata": {},
   "outputs": [
    {
     "data": {
      "image/png": "[encoded data removed]",
      "text/plain": [
       "<Figure size 432x288 with 1 Axes>"
      ]
     },
     "metadata": {
      "needs_background": "light"
     },
     "output_type": "display_data"
    },
    {
     "data": {
      "image/png": "[encoded data removed]",
      "text/plain": [
       "<Figure size 432x288 with 1 Axes>"
      ]
     },
     "metadata": {
      "needs_background": "light"
     },
     "output_type": "display_data"
    }
   ],
   "source": [
    "acc = history.history['acc']\n",
    "val_acc = history.history['val_acc']\n",
    "loss = history.history['loss']\n",
    "val_loss = history.history['val_loss']\n",
    "\n",
    "epochs = range(1, len(acc) + 1)\n",
    "\n",
    "plt.plot(epochs, acc, 'bo', label='Training acc')\n",
    "plt.plot(epochs, val_acc, 'b', label='Validation acc')\n",
    "plt.title('Training and validation accuracy')\n",
    "plt.legend()\n",
    "\n",
    "plt.figure()\n",
    "\n",
    "plt.plot(epochs, loss, 'bo', label='Training loss')\n",
    "plt.plot(epochs, val_loss, 'b', label='Validation loss')\n",
    "plt.title('Training and validation loss')\n",
    "plt.legend()\n",
    "\n",
    "plt.show()"
   ]
  },
  {
   "cell_type": "code",
   "execution_count": 26,
   "metadata": {},
   "outputs": [],
   "source": [
    "model.save('multi_class_4food_augment.h5')"
   ]
  },
  {
   "cell_type": "code",
   "execution_count": null,
   "metadata": {},
   "outputs": [],
   "source": []
  },
  {
   "cell_type": "code",
   "execution_count": null,
   "metadata": {},
   "outputs": [],
   "source": []
  },
  {
   "cell_type": "code",
   "execution_count": 32,
   "metadata": {},
   "outputs": [
    {
     "ename": "NameError",
     "evalue": "name 'classifier' is not defined",
     "output_type": "error",
     "traceback": [
      "\u001b[0;31m---------------------------------------------------------------------------\u001b[0m",
      "\u001b[0;31mNameError\u001b[0m                                 Traceback (most recent call last)",
      "\u001b[0;32m<ipython-input-32-b047b2cfcf4f>\u001b[0m in \u001b[0;36m<module>\u001b[0;34m\u001b[0m\n\u001b[0;32m----> 1\u001b[0;31m \u001b[0mY_pred\u001b[0m \u001b[0;34m=\u001b[0m \u001b[0mclassifier\u001b[0m\u001b[0;34m.\u001b[0m\u001b[0mpredict_generator\u001b[0m\u001b[0;34m(\u001b[0m\u001b[0mvalidation_generator\u001b[0m\u001b[0;34m,\u001b[0m \u001b[0;36m1000\u001b[0m \u001b[0;34m//\u001b[0m \u001b[0;36m20\u001b[0m\u001b[0;34m+\u001b[0m\u001b[0;36m1\u001b[0m\u001b[0;34m)\u001b[0m\u001b[0;34m\u001b[0m\u001b[0;34m\u001b[0m\u001b[0m\n\u001b[0m\u001b[1;32m      2\u001b[0m \u001b[0my_pred\u001b[0m \u001b[0;34m=\u001b[0m \u001b[0mnp\u001b[0m\u001b[0;34m.\u001b[0m\u001b[0margmax\u001b[0m\u001b[0;34m(\u001b[0m\u001b[0mY_pred\u001b[0m\u001b[0;34m,\u001b[0m \u001b[0maxis\u001b[0m\u001b[0;34m=\u001b[0m\u001b[0;36m1\u001b[0m\u001b[0;34m)\u001b[0m\u001b[0;34m\u001b[0m\u001b[0;34m\u001b[0m\u001b[0m\n\u001b[1;32m      3\u001b[0m \u001b[0mprint\u001b[0m\u001b[0;34m(\u001b[0m\u001b[0;34m'Confusion Matrix'\u001b[0m\u001b[0;34m)\u001b[0m\u001b[0;34m\u001b[0m\u001b[0;34m\u001b[0m\u001b[0m\n\u001b[1;32m      4\u001b[0m \u001b[0mmatrix\u001b[0m \u001b[0;34m=\u001b[0m \u001b[0mcm\u001b[0m\u001b[0;34m(\u001b[0m\u001b[0mvalidation_generator\u001b[0m\u001b[0;34m.\u001b[0m\u001b[0mclasses\u001b[0m\u001b[0;34m,\u001b[0m \u001b[0my_pred\u001b[0m\u001b[0;34m)\u001b[0m\u001b[0;34m\u001b[0m\u001b[0;34m\u001b[0m\u001b[0m\n\u001b[1;32m      5\u001b[0m \u001b[0mprint\u001b[0m\u001b[0;34m(\u001b[0m\u001b[0mmatrix\u001b[0m\u001b[0;34m)\u001b[0m\u001b[0;34m\u001b[0m\u001b[0;34m\u001b[0m\u001b[0m\n",
      "\u001b[0;31mNameError\u001b[0m: name 'classifier' is not defined"
     ]
    }
   ],
   "source": [
    "Y_pred = classifier.predict_generator(validation_generator, 1000 // 20+1)\n",
    "y_pred = np.argmax(Y_pred, axis=1)\n",
    "print('Confusion Matrix')\n",
    "matrix = cm(validation_generator.classes, y_pred)\n",
    "print(matrix)\n",
    "print('Classification Report')\n",
    "\n",
    "#print(cr(training_set.classes, y_pred))"
   ]
  },
  {
   "cell_type": "code",
   "execution_count": null,
   "metadata": {},
   "outputs": [],
   "source": []
  },
  {
   "cell_type": "code",
   "execution_count": null,
   "metadata": {},
   "outputs": [],
   "source": []
  }
 ],
 "metadata": {
  "kernelspec": {
   "display_name": "Python 3",
   "language": "python",
   "name": "python3"
  },
  "language_info": {
   "codemirror_mode": {
    "name": "ipython",
    "version": 3
   },
   "file_extension": ".py",
   "mimetype": "text/x-python",
   "name": "python",
   "nbconvert_exporter": "python",
   "pygments_lexer": "ipython3",
   "version": "3.7.1"
  }
 },
 "nbformat": 4,
 "nbformat_minor": 2
}
