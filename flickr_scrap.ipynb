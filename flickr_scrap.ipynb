{
 "cells": [
  {
   "cell_type": "code",
   "execution_count": 1,
   "metadata": {},
   "outputs": [],
   "source": [
    "from flickrapi import FlickrAPI\n",
    "import pandas as pd\n",
    "import os\n",
    "\n"
   ]
  },
  {
   "cell_type": "code",
   "execution_count": 2,
   "metadata": {},
   "outputs": [],
   "source": [
    "key = '0e4e7a8ceb3f350abd0a743812365c51'\n",
    "secret = '3172a3f6ec67c50f'\n",
    "sizes = ['url_c', 'url_z', 'url_m', 'url_n', 'url_s', 'url_t']"
   ]
  },
  {
   "cell_type": "code",
   "execution_count": null,
   "metadata": {},
   "outputs": [],
   "source": []
  },
  {
   "cell_type": "code",
   "execution_count": null,
   "metadata": {},
   "outputs": [],
   "source": []
  },
  {
   "cell_type": "code",
   "execution_count": 3,
   "metadata": {},
   "outputs": [],
   "source": [
    "def get_photos(image_tag):\n",
    "    extras = ','.join(sizes)\n",
    "    flickr = FlickrAPI(key, secret)\n",
    "    photos = flickr.walk(text=image_tag,  # it will search by image title and image tags\n",
    "                            extras=extras,  # get the urls for each size we want\n",
    "                            privacy_filter=1,  # search only for public photos\n",
    "                            per_page=50,\n",
    "                            sort='relevance')  # we want what we are looking for to appear first\n",
    "    return photos"
   ]
  },
  {
   "cell_type": "code",
   "execution_count": 4,
   "metadata": {},
   "outputs": [
    {
     "data": {
      "text/plain": [
       "<generator object FlickrAPI.data_walker at 0x7f2111204ed0>"
      ]
     },
     "execution_count": 4,
     "metadata": {},
     "output_type": "execute_result"
    }
   ],
   "source": [
    "get_photos('tortilla de patata')"
   ]
  },
  {
   "cell_type": "code",
   "execution_count": 161,
   "metadata": {},
   "outputs": [],
   "source": [
    "def get_url(photo):\n",
    "    for i in range(len(sizes)):  # makes sure the loop is done in the order we want\n",
    "        url = photo.get(sizes[i])\n",
    "        #print('Encontrado el tamaño ',sizes[i])\n",
    "        if url:  # if url is None try with the next size\n",
    "            print('Encontrado el tamaño ',sizes[i])\n",
    "            return url"
   ]
  },
  {
   "cell_type": "code",
   "execution_count": null,
   "metadata": {},
   "outputs": [],
   "source": []
  },
  {
   "cell_type": "code",
   "execution_count": 171,
   "metadata": {},
   "outputs": [],
   "source": [
    "def get_urls(image_tag, folder, max):\n",
    "    \n",
    "    photos = get_photos(image_tag)\n",
    "    counter=0\n",
    "    urls=[]\n",
    "\n",
    "    for photo in photos:\n",
    "        if counter < max:\n",
    "            #counter += 1\n",
    "            #print(\"Fetching url for image number {}\".format(counter))\n",
    "            try:\n",
    "                url = get_url(photo)  # get preffered size url\n",
    "                print(url)\n",
    "                print(url.split(\"/\")[-1])\n",
    "                if os.path.isfile(os.path.join('/home/dsc/tfm_data/', folder, url.split(\"/\")[-1])):\n",
    "                    print('El archivo existe.')\n",
    "                        #continue\n",
    "                else:\n",
    "                    print('El archivo no existe')\n",
    "                    urls.append(url)\n",
    "                    counter += 1\n",
    "            except:    \n",
    "                 print(\"Url for image number {} could not be fetched\".format(count))\n",
    "            # if no url for the desired sizes then try with the next photo\n",
    "        else:\n",
    "            print(\"Done fetching urls, fetched {} urls out of {}\".format(len(urls), max))\n",
    "            break\n",
    "    print(\"Writing out the urls in the current directory\")\n",
    "    # En este punto sería leer el csv (si existe) y añadir las nuevas urls\n",
    "    #urls = pd.Series(urls)\n",
    "    urls = pd.DataFrame(urls, index=None)\n",
    "    print(urls.head())\n",
    "    urls.to_csv(image_tag + '_urls.csv')\n",
    "    print('Listo!')\n",
    "    \n",
    "\n",
    "    return urls"
   ]
  },
  {
   "cell_type": "code",
   "execution_count": 178,
   "metadata": {},
   "outputs": [],
   "source": [
    "def get_urls(image_tag, max):\n",
    "    \n",
    "    # Fijamos el cwd en el que trabajamos:\n",
    "    os.chdir('/home/dsc/TFM_food_recognition/image_urls')\n",
    "    \n",
    "    # Comprobamos si anteriormente hemos descargado imágenes con el tag del param.\n",
    "    if os.path.isfile(os.path.join('/home/dsc/TFM_food_recognition/image_urls', image_tag + '_urls.csv')):\n",
    "        print('Descargado anteriormente')\n",
    "        urls_book = pd.read_csv(image_tag + '_urls.csv')\n",
    "    \n",
    "    photos = get_photos(image_tag)\n",
    "    counter=0\n",
    "    urls=[]\n",
    "\n",
    "    for photo in photos:\n",
    "        if counter < max:\n",
    "            #counter += 1\n",
    "            #print(\"Fetching url for image number {}\".format(counter))\n",
    "            try:\n",
    "                url = get_url(photo)  # get preffered size url\n",
    "                print(url)\n",
    "                print(url.split(\"/\")[-1])\n",
    "                \n",
    "                # Si tenemos un histŕotico de las urls comprobamos si la hemos descargado:\n",
    "                if urls_book is not None:\n",
    "                    url_patron = url.split(\"/\")[-1]\n",
    "                    print(url_patron)\n",
    "                    \n",
    "                    if urls_book['urls'].str.contains(url_patron).any():\n",
    "                        print('url descargada anteriormente')\n",
    "                    else:\n",
    "                        print('url no descargada anteriormente')\n",
    "                        urls.append(url)\n",
    "                        counter += 1\n",
    "                # Si no lo tenemos, todas las urls son nuevas:\n",
    "                else:\n",
    "                    print('url descargada por primera vez')\n",
    "                    urls.append(url)\n",
    "                    counter += 1\n",
    "            except:    \n",
    "                 print(\"Url for image number {} could not be fetched\".format(counter))\n",
    "            # if no url for the desired sizes then try with the next photo\n",
    "        else:\n",
    "            print(\"Done fetching urls, fetched {} urls out of {}\".format(len(urls), max))\n",
    "            break\n",
    "    print(\"Writing out the urls in the current directory\")\n",
    "    # En este punto sería leer el csv (si existe) y añadir las nuevas urls\n",
    "    #urls = pd.Series(urls)\n",
    "    urls = pd.DataFrame(urls)\n",
    "    urls.columns = ['urls']\n",
    "    urls['download']=False\n",
    "    print(urls.head())\n",
    "    \n",
    "    if urls_book is not None:\n",
    "        urls_book.append(urls)\n",
    "        urls_book.to_csv(image_tag + '_urls.csv', index=None)\n",
    "    else:\n",
    "        urls.to_csv(image_tag + '_urls.csv', index=None)\n",
    "        print('Listo!')\n",
    "    \n",
    "\n",
    "    return urls"
   ]
  },
  {
   "cell_type": "code",
   "execution_count": 203,
   "metadata": {},
   "outputs": [],
   "source": [
    "def get_urls(image_tag, max):\n",
    "    \n",
    "    # Fijamos el cwd en el que trabajamos:\n",
    "    os.chdir('/home/dsc/TFM_food_recognition/image_urls')\n",
    "    \n",
    "    # Comprobamos si anteriormente hemos descargado imágenes con el tag del param.\n",
    "    if os.path.isfile(os.path.join('/home/dsc/TFM_food_recognition/image_urls', image_tag + '_urls.csv')):\n",
    "        print('Archivo de urls descargado anteriormente')\n",
    "        urls_book = pd.read_csv(image_tag + '_urls.csv')\n",
    "        \n",
    "    # Variable que controla la existencia previa del archivo con urls del image_tag:\n",
    "    try:\n",
    "        urls_book\n",
    "    except NameError:\n",
    "        urls_book_is = False\n",
    "    else:\n",
    "        urls_book_is = True\n",
    "    \n",
    "    photos = get_photos(image_tag)\n",
    "    counter=0\n",
    "    urls=[]\n",
    "\n",
    "    for photo in photos:\n",
    "        if counter < max:\n",
    "            #counter += 1\n",
    "            #print(\"Fetching url for image number {}\".format(counter))\n",
    "            try:\n",
    "                url = get_url(photo)  # get preffered size url\n",
    "                print(url)\n",
    "                print(url.split(\"/\")[-1])\n",
    "                \n",
    "                # Si tenemos un histŕotico de las urls comprobamos si la hemos descargado:\n",
    "                if urls_book_is: \n",
    "                    url_patron = url.split(\"/\")[-1]\n",
    "                    print(url_patron)\n",
    "                    \n",
    "                    if urls_book['urls'].str.contains(url_patron).any():\n",
    "                        print('url descargada anteriormente')\n",
    "                    else:\n",
    "                        print('url no descargada anteriormente')\n",
    "                        urls.append(url)\n",
    "                        counter += 1\n",
    "                # Si no lo tenemos, todas las urls son nuevas:\n",
    "                else:\n",
    "                    print('url descargada por primera vez')\n",
    "                    urls.append(url)\n",
    "                    counter += 1\n",
    "            except:    \n",
    "                 print(\"Url for image number {} could not be fetched\".format(counter))\n",
    "            # if no url for the desired sizes then try with the next photo\n",
    "        else:\n",
    "            print(\"Done fetching urls, fetched {} urls out of {}\".format(len(urls), max))\n",
    "            break\n",
    "    print(\"Writing out the urls in the current directory\")\n",
    "    # En este punto sería leer el csv (si existe) y añadir las nuevas urls\n",
    "    #urls = pd.Series(urls)\n",
    "    urls = pd.DataFrame(urls)\n",
    "    urls.columns = ['urls']\n",
    "    urls['download']=False\n",
    "    print(urls.head())\n",
    "    \n",
    "    if urls_book_is:\n",
    "        print('uniendo dfs')\n",
    "        urls_book = urls_book.append(urls)\n",
    "        print(len(urls_book))\n",
    "        urls_book.to_csv(image_tag + '_urls.csv', index=None)\n",
    "    else:\n",
    "        urls.to_csv(image_tag + '_urls.csv', index=None)\n",
    "        print('Listo!')\n",
    "    \n",
    "\n",
    "    return urls"
   ]
  },
  {
   "cell_type": "code",
   "execution_count": 201,
   "metadata": {},
   "outputs": [
    {
     "data": {
      "text/plain": [
       "False"
      ]
     },
     "execution_count": 201,
     "metadata": {},
     "output_type": "execute_result"
    }
   ],
   "source": [
    "try:\n",
    "    urls_book\n",
    "except NameError:\n",
    "    urls_book_is = False\n",
    "else:\n",
    "    urls_book_is = True\n",
    "urls_book_is"
   ]
  },
  {
   "cell_type": "code",
   "execution_count": 202,
   "metadata": {},
   "outputs": [
    {
     "name": "stdout",
     "output_type": "stream",
     "text": [
      "FlickrAPI\t counter\t download_images\t get_photos\t get_url\t get_urls\t image_tag\t key\t max\t \n",
      "os\t patron\t pd\t photo\t photos\t pru\t pru2\t prueba\t prueba_leido\t \n",
      "requests\t secret\t sizes\t url_buscar\t urls\t urls_book_is\t urls_exists\t \n"
     ]
    }
   ],
   "source": [
    "who\n"
   ]
  },
  {
   "cell_type": "code",
   "execution_count": 323,
   "metadata": {},
   "outputs": [
    {
     "name": "stdout",
     "output_type": "stream",
     "text": [
      "Archivo de urls descargado anteriormente\n",
      "Encontrado el tamaño  url_c\n",
      "https://live.staticflickr.com/8077/8428940257_15f6a02bfd_c.jpg\n",
      "8428940257_15f6a02bfd_c.jpg\n",
      "8428940257_15f6a02bfd_c.jpg\n",
      "url descargada anteriormente\n",
      "Encontrado el tamaño  url_c\n",
      "https://live.staticflickr.com/8658/15752325014_612de967d8_c.jpg\n",
      "15752325014_612de967d8_c.jpg\n",
      "15752325014_612de967d8_c.jpg\n",
      "url descargada anteriormente\n",
      "Encontrado el tamaño  url_c\n",
      "https://live.staticflickr.com/3357/3333547544_814640b120_c.jpg\n",
      "3333547544_814640b120_c.jpg\n",
      "3333547544_814640b120_c.jpg\n",
      "url descargada anteriormente\n",
      "Encontrado el tamaño  url_c\n",
      "https://live.staticflickr.com/8622/16348796416_771690f621_c.jpg\n",
      "16348796416_771690f621_c.jpg\n",
      "16348796416_771690f621_c.jpg\n",
      "url descargada anteriormente\n",
      "Encontrado el tamaño  url_z\n",
      "https://live.staticflickr.com/8/10560929_d57c09863b_z.jpg\n",
      "10560929_d57c09863b_z.jpg\n",
      "10560929_d57c09863b_z.jpg\n",
      "url descargada anteriormente\n",
      "Encontrado el tamaño  url_c\n",
      "https://live.staticflickr.com/6/10560925_3660939718_c.jpg\n",
      "10560925_3660939718_c.jpg\n",
      "10560925_3660939718_c.jpg\n",
      "url descargada anteriormente\n",
      "Encontrado el tamaño  url_c\n",
      "https://live.staticflickr.com/5251/5398039808_4a34434460_c.jpg\n",
      "5398039808_4a34434460_c.jpg\n",
      "5398039808_4a34434460_c.jpg\n",
      "url descargada anteriormente\n",
      "Encontrado el tamaño  url_z\n",
      "https://live.staticflickr.com/6/10560928_0ebeb97562_z.jpg\n",
      "10560928_0ebeb97562_z.jpg\n",
      "10560928_0ebeb97562_z.jpg\n",
      "url descargada anteriormente\n",
      "Encontrado el tamaño  url_c\n",
      "https://live.staticflickr.com/127/321323177_3e057a4ef6_c.jpg\n",
      "321323177_3e057a4ef6_c.jpg\n",
      "321323177_3e057a4ef6_c.jpg\n",
      "url descargada anteriormente\n",
      "Encontrado el tamaño  url_c\n",
      "https://live.staticflickr.com/8785/18276105075_edef70fc09_c.jpg\n",
      "18276105075_edef70fc09_c.jpg\n",
      "18276105075_edef70fc09_c.jpg\n",
      "url descargada anteriormente\n",
      "Encontrado el tamaño  url_m\n",
      "https://live.staticflickr.com/5/10560927_e6a8465f45.jpg\n",
      "10560927_e6a8465f45.jpg\n",
      "10560927_e6a8465f45.jpg\n",
      "url descargada anteriormente\n",
      "Encontrado el tamaño  url_n\n",
      "https://live.staticflickr.com/4/4456745_cebf9bb9c5_n.jpg\n",
      "4456745_cebf9bb9c5_n.jpg\n",
      "4456745_cebf9bb9c5_n.jpg\n",
      "url descargada anteriormente\n",
      "Encontrado el tamaño  url_c\n",
      "https://live.staticflickr.com/7574/16249282061_0b4c4c558c_c.jpg\n",
      "16249282061_0b4c4c558c_c.jpg\n",
      "16249282061_0b4c4c558c_c.jpg\n",
      "url descargada anteriormente\n",
      "Encontrado el tamaño  url_c\n",
      "https://live.staticflickr.com/4411/37197283130_68a7580fe5_c.jpg\n",
      "37197283130_68a7580fe5_c.jpg\n",
      "37197283130_68a7580fe5_c.jpg\n",
      "url descargada anteriormente\n",
      "Encontrado el tamaño  url_c\n",
      "https://live.staticflickr.com/65535/49517907256_8ea57f8bc4_c.jpg\n",
      "49517907256_8ea57f8bc4_c.jpg\n",
      "49517907256_8ea57f8bc4_c.jpg\n",
      "url descargada anteriormente\n",
      "Encontrado el tamaño  url_c\n",
      "https://live.staticflickr.com/1510/25719431120_344a54f014_c.jpg\n",
      "25719431120_344a54f014_c.jpg\n",
      "25719431120_344a54f014_c.jpg\n",
      "url descargada anteriormente\n",
      "Encontrado el tamaño  url_m\n",
      "https://live.staticflickr.com/181/417971459_41bc7dfd78.jpg\n",
      "417971459_41bc7dfd78.jpg\n",
      "417971459_41bc7dfd78.jpg\n",
      "url descargada anteriormente\n",
      "Encontrado el tamaño  url_c\n",
      "https://live.staticflickr.com/5755/23498640226_d5d133896b_c.jpg\n",
      "23498640226_d5d133896b_c.jpg\n",
      "23498640226_d5d133896b_c.jpg\n",
      "url descargada anteriormente\n",
      "Encontrado el tamaño  url_c\n",
      "https://live.staticflickr.com/7918/32863535128_fe4e04c894_c.jpg\n",
      "32863535128_fe4e04c894_c.jpg\n",
      "32863535128_fe4e04c894_c.jpg\n",
      "url descargada anteriormente\n",
      "Encontrado el tamaño  url_m\n",
      "https://live.staticflickr.com/2196/2074438110_f6e057a3ee.jpg\n",
      "2074438110_f6e057a3ee.jpg\n",
      "2074438110_f6e057a3ee.jpg\n",
      "url descargada anteriormente\n",
      "Encontrado el tamaño  url_c\n",
      "https://live.staticflickr.com/7826/46013936554_19fa59dcd4_c.jpg\n",
      "46013936554_19fa59dcd4_c.jpg\n",
      "46013936554_19fa59dcd4_c.jpg\n",
      "url descargada anteriormente\n",
      "Encontrado el tamaño  url_c\n",
      "https://live.staticflickr.com/4868/46013939314_ff76e31749_c.jpg\n",
      "46013939314_ff76e31749_c.jpg\n",
      "46013939314_ff76e31749_c.jpg\n",
      "url descargada anteriormente\n",
      "Encontrado el tamaño  url_c\n",
      "https://live.staticflickr.com/7881/31797304467_cd3d4d87a5_c.jpg\n",
      "31797304467_cd3d4d87a5_c.jpg\n",
      "31797304467_cd3d4d87a5_c.jpg\n",
      "url descargada anteriormente\n",
      "Encontrado el tamaño  url_c\n",
      "https://live.staticflickr.com/7809/46013938894_ebf2b91932_c.jpg\n",
      "46013938894_ebf2b91932_c.jpg\n",
      "46013938894_ebf2b91932_c.jpg\n",
      "url descargada anteriormente\n",
      "Encontrado el tamaño  url_c\n",
      "https://live.staticflickr.com/4915/46013939054_bc939efdce_c.jpg\n",
      "46013939054_bc939efdce_c.jpg\n",
      "46013939054_bc939efdce_c.jpg\n",
      "url descargada anteriormente\n",
      "Encontrado el tamaño  url_c\n",
      "https://live.staticflickr.com/7912/46013938974_9f4e124344_c.jpg\n",
      "46013938974_9f4e124344_c.jpg\n",
      "46013938974_9f4e124344_c.jpg\n",
      "url descargada anteriormente\n",
      "Encontrado el tamaño  url_c\n",
      "https://live.staticflickr.com/7815/31797304317_1406e130b1_c.jpg\n",
      "31797304317_1406e130b1_c.jpg\n",
      "31797304317_1406e130b1_c.jpg\n",
      "url descargada anteriormente\n",
      "Encontrado el tamaño  url_c\n",
      "https://live.staticflickr.com/5771/31299005726_7bd89e0c4f_c.jpg\n",
      "31299005726_7bd89e0c4f_c.jpg\n",
      "31299005726_7bd89e0c4f_c.jpg\n",
      "url descargada anteriormente\n",
      "Encontrado el tamaño  url_c\n",
      "https://live.staticflickr.com/5485/31219903811_a0959273be_c.jpg\n",
      "31219903811_a0959273be_c.jpg\n",
      "31219903811_a0959273be_c.jpg\n",
      "url descargada anteriormente\n",
      "Encontrado el tamaño  url_c\n",
      "https://live.staticflickr.com/5338/30512631804_a6ce730650_c.jpg\n",
      "30512631804_a6ce730650_c.jpg\n",
      "30512631804_a6ce730650_c.jpg\n",
      "url descargada anteriormente\n",
      "Encontrado el tamaño  url_c\n",
      "https://live.staticflickr.com/5489/31219906651_143f938294_c.jpg\n",
      "31219906651_143f938294_c.jpg\n",
      "31219906651_143f938294_c.jpg\n",
      "url descargada anteriormente\n",
      "Encontrado el tamaño  url_c\n",
      "https://live.staticflickr.com/5772/30966199420_376bf3dfb4_c.jpg\n",
      "30966199420_376bf3dfb4_c.jpg\n",
      "30966199420_376bf3dfb4_c.jpg\n",
      "url descargada anteriormente\n",
      "Encontrado el tamaño  url_c\n",
      "https://live.staticflickr.com/5568/30527447523_815647118a_c.jpg\n",
      "30527447523_815647118a_c.jpg\n",
      "30527447523_815647118a_c.jpg\n",
      "url descargada anteriormente\n",
      "Encontrado el tamaño  url_c\n",
      "https://live.staticflickr.com/6115/6345534572_5a71590b73_c.jpg\n",
      "6345534572_5a71590b73_c.jpg\n",
      "6345534572_5a71590b73_c.jpg\n",
      "url descargada anteriormente\n",
      "Encontrado el tamaño  url_c\n",
      "https://live.staticflickr.com/7863/32863534968_bdf696eeb2_c.jpg\n",
      "32863534968_bdf696eeb2_c.jpg\n",
      "32863534968_bdf696eeb2_c.jpg\n",
      "url descargada anteriormente\n",
      "Encontrado el tamaño  url_c\n",
      "https://live.staticflickr.com/7922/32863535158_9b452807e4_c.jpg\n",
      "32863535158_9b452807e4_c.jpg\n",
      "32863535158_9b452807e4_c.jpg\n",
      "url descargada anteriormente\n",
      "Encontrado el tamaño  url_c\n",
      "https://live.staticflickr.com/7856/46013938094_dcaf0489a8_c.jpg\n",
      "46013938094_dcaf0489a8_c.jpg\n",
      "46013938094_dcaf0489a8_c.jpg\n",
      "url descargada anteriormente\n",
      "Encontrado el tamaño  url_c\n",
      "https://live.staticflickr.com/4889/32863535188_d42125dec8_c.jpg\n",
      "32863535188_d42125dec8_c.jpg\n",
      "32863535188_d42125dec8_c.jpg\n",
      "url descargada anteriormente\n",
      "Encontrado el tamaño  url_c\n",
      "https://live.staticflickr.com/7865/46013938404_f47f591fba_c.jpg\n",
      "46013938404_f47f591fba_c.jpg\n",
      "46013938404_f47f591fba_c.jpg\n",
      "url descargada anteriormente\n",
      "Encontrado el tamaño  url_c\n",
      "https://live.staticflickr.com/4918/46013937824_858ef093e9_c.jpg\n",
      "46013937824_858ef093e9_c.jpg\n",
      "46013937824_858ef093e9_c.jpg\n",
      "url descargada anteriormente\n",
      "Encontrado el tamaño  url_c\n",
      "https://live.staticflickr.com/7800/39773546843_8643b38712_c.jpg\n",
      "39773546843_8643b38712_c.jpg\n",
      "39773546843_8643b38712_c.jpg\n",
      "url descargada anteriormente\n",
      "Encontrado el tamaño  url_c\n",
      "https://live.staticflickr.com/4829/46013938564_c87ae32da2_c.jpg\n",
      "46013938564_c87ae32da2_c.jpg\n",
      "46013938564_c87ae32da2_c.jpg\n",
      "url descargada anteriormente\n",
      "Encontrado el tamaño  url_c\n",
      "https://live.staticflickr.com/4897/46013938644_e17edbc3ea_c.jpg\n",
      "46013938644_e17edbc3ea_c.jpg\n",
      "46013938644_e17edbc3ea_c.jpg\n",
      "url descargada anteriormente\n",
      "Encontrado el tamaño  url_c\n",
      "https://live.staticflickr.com/4867/46013936094_e68af774f3_c.jpg\n",
      "46013936094_e68af774f3_c.jpg\n",
      "46013936094_e68af774f3_c.jpg\n",
      "url descargada anteriormente\n",
      "Encontrado el tamaño  url_c\n",
      "https://live.staticflickr.com/7915/46013936844_8d37f48bd1_c.jpg\n",
      "46013936844_8d37f48bd1_c.jpg\n",
      "46013936844_8d37f48bd1_c.jpg\n",
      "url descargada anteriormente\n",
      "Encontrado el tamaño  url_c\n",
      "https://live.staticflickr.com/7812/46013936274_6080d08290_c.jpg\n",
      "46013936274_6080d08290_c.jpg\n",
      "46013936274_6080d08290_c.jpg\n",
      "url descargada anteriormente\n",
      "Encontrado el tamaño  url_c\n",
      "https://live.staticflickr.com/7917/46013937504_1a94a00b58_c.jpg\n",
      "46013937504_1a94a00b58_c.jpg\n",
      "46013937504_1a94a00b58_c.jpg\n",
      "url descargada anteriormente\n",
      "Encontrado el tamaño  url_c\n",
      "https://live.staticflickr.com/7837/32863535038_e3a282d4ca_c.jpg\n",
      "32863535038_e3a282d4ca_c.jpg\n",
      "32863535038_e3a282d4ca_c.jpg\n",
      "url descargada anteriormente\n",
      "Encontrado el tamaño  url_c\n",
      "https://live.staticflickr.com/7901/46013937214_e02e69a9c9_c.jpg\n",
      "46013937214_e02e69a9c9_c.jpg\n",
      "46013937214_e02e69a9c9_c.jpg\n",
      "url descargada anteriormente\n",
      "Encontrado el tamaño  url_c\n",
      "https://live.staticflickr.com/7838/32863534998_a8f39420f8_c.jpg\n",
      "32863534998_a8f39420f8_c.jpg\n",
      "32863534998_a8f39420f8_c.jpg\n",
      "url descargada anteriormente\n"
     ]
    },
    {
     "name": "stdout",
     "output_type": "stream",
     "text": [
      "Encontrado el tamaño  url_c\n",
      "https://live.staticflickr.com/6118/6345534586_e16b5a4694_c.jpg\n",
      "6345534586_e16b5a4694_c.jpg\n",
      "6345534586_e16b5a4694_c.jpg\n",
      "url no descargada anteriormente\n",
      "Encontrado el tamaño  url_c\n",
      "https://live.staticflickr.com/1212/1428634372_632f894e4c_c.jpg\n",
      "1428634372_632f894e4c_c.jpg\n",
      "1428634372_632f894e4c_c.jpg\n",
      "url no descargada anteriormente\n",
      "Encontrado el tamaño  url_c\n",
      "https://live.staticflickr.com/4087/5190324145_d9c7fa5446_c.jpg\n",
      "5190324145_d9c7fa5446_c.jpg\n",
      "5190324145_d9c7fa5446_c.jpg\n",
      "url no descargada anteriormente\n",
      "Encontrado el tamaño  url_c\n",
      "https://live.staticflickr.com/152/433692896_2eb3fe7c77_c.jpg\n",
      "433692896_2eb3fe7c77_c.jpg\n",
      "433692896_2eb3fe7c77_c.jpg\n",
      "url no descargada anteriormente\n",
      "Encontrado el tamaño  url_c\n",
      "https://live.staticflickr.com/5140/5455330903_d2b0f63568_c.jpg\n",
      "5455330903_d2b0f63568_c.jpg\n",
      "5455330903_d2b0f63568_c.jpg\n",
      "url no descargada anteriormente\n",
      "Encontrado el tamaño  url_z\n",
      "https://live.staticflickr.com/7521/16080327106_73e73d592d_z.jpg\n",
      "16080327106_73e73d592d_z.jpg\n",
      "16080327106_73e73d592d_z.jpg\n",
      "url no descargada anteriormente\n",
      "Encontrado el tamaño  url_c\n",
      "https://live.staticflickr.com/4696/26680013478_8abd8f23a5_c.jpg\n",
      "26680013478_8abd8f23a5_c.jpg\n",
      "26680013478_8abd8f23a5_c.jpg\n",
      "url no descargada anteriormente\n",
      "Encontrado el tamaño  url_c\n",
      "https://live.staticflickr.com/4663/40508272312_3792052811_c.jpg\n",
      "40508272312_3792052811_c.jpg\n",
      "40508272312_3792052811_c.jpg\n",
      "url no descargada anteriormente\n",
      "Encontrado el tamaño  url_c\n",
      "https://live.staticflickr.com/4606/26680011428_a183b90ec8_c.jpg\n",
      "26680011428_a183b90ec8_c.jpg\n",
      "26680011428_a183b90ec8_c.jpg\n",
      "url no descargada anteriormente\n",
      "Encontrado el tamaño  url_c\n",
      "https://live.staticflickr.com/4695/40551221061_229a9b1515_c.jpg\n",
      "40551221061_229a9b1515_c.jpg\n",
      "40551221061_229a9b1515_c.jpg\n",
      "url no descargada anteriormente\n",
      "Done fetching urls, fetched 10 urls out of 10\n",
      "Writing out the urls in the current directory\n",
      "                                                urls  download\n",
      "0  https://live.staticflickr.com/6118/6345534586_...     False\n",
      "1  https://live.staticflickr.com/1212/1428634372_...     False\n",
      "2  https://live.staticflickr.com/4087/5190324145_...     False\n",
      "3  https://live.staticflickr.com/152/433692896_2e...     False\n",
      "4  https://live.staticflickr.com/5140/5455330903_...     False\n",
      "uniendo dfs\n",
      "60\n"
     ]
    }
   ],
   "source": [
    "prueba = get_urls(image_tag = 'cocido', max = 10) # 10 fotos nuevas que no tengamos"
   ]
  },
  {
   "cell_type": "code",
   "execution_count": 321,
   "metadata": {},
   "outputs": [],
   "source": [
    "import requests\n",
    "import os\n",
    "\n",
    "def download_images(urls_file, folder, ruta_destino):\n",
    "    os.chdir(\"/home/dsc/TFM_food_recognition/image_urls\")\n",
    "    \n",
    "    urls = []\n",
    "    doc = pd.read_csv(urls_file)\n",
    "    new_urls = doc[doc['download'] == False]\n",
    "    \n",
    "    for index, row in new_urls.iterrows():\n",
    "        if row['urls'].startswith('https'):\n",
    "            urls.append(row['urls'])\n",
    "    \n",
    "    if not os.path.isdir(os.path.join(ruta_destino, folder.replace(\" \", \"_\"))):\n",
    "        os.mkdir(os.path.join(ruta_destino, folder.replace(\" \", \"_\")))\n",
    "    \n",
    "    \n",
    "    for url in enumerate(urls):\n",
    "        resp=requests.get(url[1], stream=True)\n",
    "        path_to_write = os.path.join(ruta_destino, folder.replace(\" \", \"_\"),url[1].split(\"/\")[-1])\n",
    "        outfile=open(path_to_write,'wb')\n",
    "        outfile.write(resp.content)\n",
    "        outfile.close()\n",
    "        print(\"Done downloading {} of {}\".format(url[0]+1,len(urls)))\n",
    "    \n",
    "    doc.loc[doc['download']==False, 'download'] = True\n",
    "    doc.to_csv(urls_file, index=None)\n",
    "    "
   ]
  },
  {
   "cell_type": "code",
   "execution_count": 324,
   "metadata": {},
   "outputs": [
    {
     "name": "stdout",
     "output_type": "stream",
     "text": [
      "Done downloading 1 of 10\n",
      "Done downloading 2 of 10\n",
      "Done downloading 3 of 10\n",
      "Done downloading 4 of 10\n",
      "Done downloading 5 of 10\n",
      "Done downloading 6 of 10\n",
      "Done downloading 7 of 10\n",
      "Done downloading 8 of 10\n",
      "Done downloading 9 of 10\n",
      "Done downloading 10 of 10\n"
     ]
    }
   ],
   "source": [
    "download_images(urls_file=\"cocido_urls.csv\", folder= 'cocido madrilenio', ruta_destino='/home/dsc/tfm_data')"
   ]
  },
  {
   "cell_type": "code",
   "execution_count": null,
   "metadata": {},
   "outputs": [],
   "source": []
  },
  {
   "cell_type": "code",
   "execution_count": 288,
   "metadata": {
    "scrolled": false
   },
   "outputs": [
    {
     "data": {
      "text/html": [
       "<div>\n",
       "<style scoped>\n",
       "    .dataframe tbody tr th:only-of-type {\n",
       "        vertical-align: middle;\n",
       "    }\n",
       "\n",
       "    .dataframe tbody tr th {\n",
       "        vertical-align: top;\n",
       "    }\n",
       "\n",
       "    .dataframe thead th {\n",
       "        text-align: right;\n",
       "    }\n",
       "</style>\n",
       "<table border=\"1\" class=\"dataframe\">\n",
       "  <thead>\n",
       "    <tr style=\"text-align: right;\">\n",
       "      <th></th>\n",
       "      <th>urls</th>\n",
       "      <th>download</th>\n",
       "    </tr>\n",
       "  </thead>\n",
       "  <tbody>\n",
       "    <tr>\n",
       "      <th>0</th>\n",
       "      <td>https://live.staticflickr.com/8077/8428940257_...</td>\n",
       "      <td>False</td>\n",
       "    </tr>\n",
       "    <tr>\n",
       "      <th>1</th>\n",
       "      <td>https://live.staticflickr.com/8658/15752325014...</td>\n",
       "      <td>False</td>\n",
       "    </tr>\n",
       "    <tr>\n",
       "      <th>2</th>\n",
       "      <td>https://live.staticflickr.com/3357/3333547544_...</td>\n",
       "      <td>False</td>\n",
       "    </tr>\n",
       "    <tr>\n",
       "      <th>3</th>\n",
       "      <td>https://live.staticflickr.com/8622/16348796416...</td>\n",
       "      <td>False</td>\n",
       "    </tr>\n",
       "    <tr>\n",
       "      <th>4</th>\n",
       "      <td>https://live.staticflickr.com/8/10560929_d57c0...</td>\n",
       "      <td>False</td>\n",
       "    </tr>\n",
       "  </tbody>\n",
       "</table>\n",
       "</div>"
      ],
      "text/plain": [
       "                                                urls  download\n",
       "0  https://live.staticflickr.com/8077/8428940257_...     False\n",
       "1  https://live.staticflickr.com/8658/15752325014...     False\n",
       "2  https://live.staticflickr.com/3357/3333547544_...     False\n",
       "3  https://live.staticflickr.com/8622/16348796416...     False\n",
       "4  https://live.staticflickr.com/8/10560929_d57c0...     False"
      ]
     },
     "execution_count": 288,
     "metadata": {},
     "output_type": "execute_result"
    }
   ],
   "source": [
    "os.chdir(\"/home/dsc/TFM_food_recognition/image_urls\")\n",
    "file_name = 'cocido_urls.csv'\n",
    "doc = pd.read_csv(file_name)  \n",
    "doc.head(5)"
   ]
  },
  {
   "cell_type": "code",
   "execution_count": 266,
   "metadata": {},
   "outputs": [
    {
     "data": {
      "text/plain": [
       "pandas.core.frame.DataFrame"
      ]
     },
     "execution_count": 266,
     "metadata": {},
     "output_type": "execute_result"
    }
   ],
   "source": [
    "type(doc)"
   ]
  },
  {
   "cell_type": "code",
   "execution_count": 267,
   "metadata": {},
   "outputs": [
    {
     "data": {
      "text/plain": [
       "True"
      ]
     },
     "execution_count": 267,
     "metadata": {},
     "output_type": "execute_result"
    }
   ],
   "source": [
    "doc.urls[0].startswith('https')"
   ]
  },
  {
   "cell_type": "code",
   "execution_count": 244,
   "metadata": {
    "collapsed": true
   },
   "outputs": [
    {
     "data": {
      "text/plain": [
       "['https://live.staticflickr.com/8077/8428940257_15f6a02bfd_c.jpg',\n",
       " 'https://live.staticflickr.com/8658/15752325014_612de967d8_c.jpg',\n",
       " 'https://live.staticflickr.com/3357/3333547544_814640b120_c.jpg',\n",
       " 'https://live.staticflickr.com/8622/16348796416_771690f621_c.jpg',\n",
       " 'https://live.staticflickr.com/8/10560929_d57c09863b_z.jpg',\n",
       " 'https://live.staticflickr.com/6/10560925_3660939718_c.jpg',\n",
       " 'https://live.staticflickr.com/5251/5398039808_4a34434460_c.jpg',\n",
       " 'https://live.staticflickr.com/6/10560928_0ebeb97562_z.jpg',\n",
       " 'https://live.staticflickr.com/127/321323177_3e057a4ef6_c.jpg',\n",
       " 'https://live.staticflickr.com/8785/18276105075_edef70fc09_c.jpg',\n",
       " 'https://live.staticflickr.com/5/10560927_e6a8465f45.jpg',\n",
       " 'https://live.staticflickr.com/4/4456745_cebf9bb9c5_n.jpg',\n",
       " 'https://live.staticflickr.com/7574/16249282061_0b4c4c558c_c.jpg',\n",
       " 'https://live.staticflickr.com/4411/37197283130_68a7580fe5_c.jpg',\n",
       " 'https://live.staticflickr.com/65535/49517907256_8ea57f8bc4_c.jpg',\n",
       " 'https://live.staticflickr.com/1510/25719431120_344a54f014_c.jpg',\n",
       " 'https://live.staticflickr.com/181/417971459_41bc7dfd78.jpg',\n",
       " 'https://live.staticflickr.com/5755/23498640226_d5d133896b_c.jpg',\n",
       " 'https://live.staticflickr.com/7918/32863535128_fe4e04c894_c.jpg',\n",
       " 'https://live.staticflickr.com/2196/2074438110_f6e057a3ee.jpg',\n",
       " 'https://live.staticflickr.com/7826/46013936554_19fa59dcd4_c.jpg',\n",
       " 'https://live.staticflickr.com/4868/46013939314_ff76e31749_c.jpg',\n",
       " 'https://live.staticflickr.com/7881/31797304467_cd3d4d87a5_c.jpg',\n",
       " 'https://live.staticflickr.com/7809/46013938894_ebf2b91932_c.jpg',\n",
       " 'https://live.staticflickr.com/4915/46013939054_bc939efdce_c.jpg',\n",
       " 'https://live.staticflickr.com/7912/46013938974_9f4e124344_c.jpg',\n",
       " 'https://live.staticflickr.com/7815/31797304317_1406e130b1_c.jpg',\n",
       " 'https://live.staticflickr.com/5771/31299005726_7bd89e0c4f_c.jpg',\n",
       " 'https://live.staticflickr.com/5485/31219903811_a0959273be_c.jpg',\n",
       " 'https://live.staticflickr.com/5338/30512631804_a6ce730650_c.jpg']"
      ]
     },
     "execution_count": 244,
     "metadata": {},
     "output_type": "execute_result"
    }
   ],
   "source": [
    "urls = []\n",
    "for index, row in doc.iterrows():\n",
    "    if row['urls'].startswith('https'):\n",
    "        urls.append(row['urls'])\n",
    "urls        "
   ]
  },
  {
   "cell_type": "code",
   "execution_count": 261,
   "metadata": {},
   "outputs": [
    {
     "name": "stdout",
     "output_type": "stream",
     "text": [
      "https://live.staticflickr.com/8077/8428940257_15f6a02bfd_c.jpg\n",
      "https://live.staticflickr.com/8658/15752325014_612de967d8_c.jpg\n",
      "https://live.staticflickr.com/3357/3333547544_814640b120_c.jpg\n",
      "https://live.staticflickr.com/8622/16348796416_771690f621_c.jpg\n",
      "https://live.staticflickr.com/8/10560929_d57c09863b_z.jpg\n",
      "https://live.staticflickr.com/6/10560925_3660939718_c.jpg\n",
      "https://live.staticflickr.com/5251/5398039808_4a34434460_c.jpg\n",
      "https://live.staticflickr.com/6/10560928_0ebeb97562_z.jpg\n",
      "https://live.staticflickr.com/127/321323177_3e057a4ef6_c.jpg\n",
      "https://live.staticflickr.com/8785/18276105075_edef70fc09_c.jpg\n",
      "https://live.staticflickr.com/5/10560927_e6a8465f45.jpg\n",
      "https://live.staticflickr.com/4/4456745_cebf9bb9c5_n.jpg\n",
      "https://live.staticflickr.com/7574/16249282061_0b4c4c558c_c.jpg\n",
      "https://live.staticflickr.com/4411/37197283130_68a7580fe5_c.jpg\n",
      "https://live.staticflickr.com/65535/49517907256_8ea57f8bc4_c.jpg\n",
      "https://live.staticflickr.com/1510/25719431120_344a54f014_c.jpg\n",
      "https://live.staticflickr.com/181/417971459_41bc7dfd78.jpg\n",
      "https://live.staticflickr.com/5755/23498640226_d5d133896b_c.jpg\n",
      "https://live.staticflickr.com/7918/32863535128_fe4e04c894_c.jpg\n",
      "https://live.staticflickr.com/2196/2074438110_f6e057a3ee.jpg\n",
      "https://live.staticflickr.com/7826/46013936554_19fa59dcd4_c.jpg\n",
      "https://live.staticflickr.com/4868/46013939314_ff76e31749_c.jpg\n",
      "https://live.staticflickr.com/7881/31797304467_cd3d4d87a5_c.jpg\n",
      "https://live.staticflickr.com/7809/46013938894_ebf2b91932_c.jpg\n",
      "https://live.staticflickr.com/4915/46013939054_bc939efdce_c.jpg\n",
      "https://live.staticflickr.com/7912/46013938974_9f4e124344_c.jpg\n",
      "https://live.staticflickr.com/7815/31797304317_1406e130b1_c.jpg\n",
      "https://live.staticflickr.com/5771/31299005726_7bd89e0c4f_c.jpg\n",
      "https://live.staticflickr.com/5485/31219903811_a0959273be_c.jpg\n",
      "https://live.staticflickr.com/5338/30512631804_a6ce730650_c.jpg\n"
     ]
    }
   ],
   "source": [
    "for url in enumerate(urls):\n",
    "        print(url[1])\n",
    "        "
   ]
  },
  {
   "cell_type": "code",
   "execution_count": null,
   "metadata": {},
   "outputs": [],
   "source": [
    "for url in enumerate(urls):\n",
    "        resp=requests.get(url[1], stream=True)\n",
    "        path_to_write = os.path.join(ruta_destino, folder.split(\"_\")[0],url[1].split(\"/\")[-1])\n",
    "        outfile=open(path_to_write,'wb')\n",
    "        outfile.write(resp.content)\n",
    "        outfile.close()\n",
    "        print(\"Done downloading {} of {}\".format(url[0]+1,len(urls)))"
   ]
  },
  {
   "cell_type": "code",
   "execution_count": 254,
   "metadata": {},
   "outputs": [
    {
     "data": {
      "text/plain": [
       "'cocido madrileño'"
      ]
     },
     "execution_count": 254,
     "metadata": {},
     "output_type": "execute_result"
    }
   ],
   "source": [
    "folder = 'cocido madrileño'\n",
    "folder.split(\"_\")[0]"
   ]
  },
  {
   "cell_type": "code",
   "execution_count": 259,
   "metadata": {},
   "outputs": [
    {
     "data": {
      "text/plain": [
       "'cocido_madrileño_fuerte'"
      ]
     },
     "execution_count": 259,
     "metadata": {},
     "output_type": "execute_result"
    }
   ],
   "source": [
    "folder = 'cocido madrileño fuerte'\n",
    "folder.replace(\" \", \"_\")"
   ]
  },
  {
   "cell_type": "code",
   "execution_count": 260,
   "metadata": {},
   "outputs": [
    {
     "data": {
      "text/plain": [
       "'/home/dsc/tfm_data/cocido_madrileño_fuerte/30512631804_a6ce730650_c.jpg'"
      ]
     },
     "execution_count": 260,
     "metadata": {},
     "output_type": "execute_result"
    }
   ],
   "source": [
    "ruta_destino = '/home/dsc/tfm_data'\n",
    "folder = 'cocido madrileño fuerte'\n",
    "os.path.join(ruta_destino, folder.replace(\" \", \"_\"),url[1].split(\"/\")[-1])"
   ]
  },
  {
   "cell_type": "code",
   "execution_count": null,
   "metadata": {},
   "outputs": [],
   "source": []
  },
  {
   "cell_type": "code",
   "execution_count": 314,
   "metadata": {},
   "outputs": [
    {
     "data": {
      "text/html": [
       "<div>\n",
       "<style scoped>\n",
       "    .dataframe tbody tr th:only-of-type {\n",
       "        vertical-align: middle;\n",
       "    }\n",
       "\n",
       "    .dataframe tbody tr th {\n",
       "        vertical-align: top;\n",
       "    }\n",
       "\n",
       "    .dataframe thead th {\n",
       "        text-align: right;\n",
       "    }\n",
       "</style>\n",
       "<table border=\"1\" class=\"dataframe\">\n",
       "  <thead>\n",
       "    <tr style=\"text-align: right;\">\n",
       "      <th></th>\n",
       "      <th>urls</th>\n",
       "      <th>download</th>\n",
       "    </tr>\n",
       "  </thead>\n",
       "  <tbody>\n",
       "    <tr>\n",
       "      <th>0</th>\n",
       "      <td>https://live.staticflickr.com/8077/8428940257_...</td>\n",
       "      <td>False</td>\n",
       "    </tr>\n",
       "    <tr>\n",
       "      <th>1</th>\n",
       "      <td>https://live.staticflickr.com/8658/15752325014...</td>\n",
       "      <td>False</td>\n",
       "    </tr>\n",
       "    <tr>\n",
       "      <th>2</th>\n",
       "      <td>https://live.staticflickr.com/3357/3333547544_...</td>\n",
       "      <td>False</td>\n",
       "    </tr>\n",
       "    <tr>\n",
       "      <th>3</th>\n",
       "      <td>https://live.staticflickr.com/8622/16348796416...</td>\n",
       "      <td>False</td>\n",
       "    </tr>\n",
       "    <tr>\n",
       "      <th>4</th>\n",
       "      <td>https://live.staticflickr.com/8/10560929_d57c0...</td>\n",
       "      <td>False</td>\n",
       "    </tr>\n",
       "  </tbody>\n",
       "</table>\n",
       "</div>"
      ],
      "text/plain": [
       "                                                urls  download\n",
       "0  https://live.staticflickr.com/8077/8428940257_...     False\n",
       "1  https://live.staticflickr.com/8658/15752325014...     False\n",
       "2  https://live.staticflickr.com/3357/3333547544_...     False\n",
       "3  https://live.staticflickr.com/8622/16348796416...     False\n",
       "4  https://live.staticflickr.com/8/10560929_d57c0...     False"
      ]
     },
     "execution_count": 314,
     "metadata": {},
     "output_type": "execute_result"
    }
   ],
   "source": [
    "os.chdir(\"/home/dsc/TFM_food_recognition/image_urls\")\n",
    "file_name = 'cocido_urls.csv'\n",
    "doc = pd.read_csv(file_name)  \n",
    "doc.head(5)"
   ]
  },
  {
   "cell_type": "code",
   "execution_count": 307,
   "metadata": {
    "collapsed": true
   },
   "outputs": [
    {
     "data": {
      "text/html": [
       "<div>\n",
       "<style scoped>\n",
       "    .dataframe tbody tr th:only-of-type {\n",
       "        vertical-align: middle;\n",
       "    }\n",
       "\n",
       "    .dataframe tbody tr th {\n",
       "        vertical-align: top;\n",
       "    }\n",
       "\n",
       "    .dataframe thead th {\n",
       "        text-align: right;\n",
       "    }\n",
       "</style>\n",
       "<table border=\"1\" class=\"dataframe\">\n",
       "  <thead>\n",
       "    <tr style=\"text-align: right;\">\n",
       "      <th></th>\n",
       "      <th>urls</th>\n",
       "      <th>download</th>\n",
       "    </tr>\n",
       "  </thead>\n",
       "  <tbody>\n",
       "    <tr>\n",
       "      <th>0</th>\n",
       "      <td>https://live.staticflickr.com/8077/8428940257_...</td>\n",
       "      <td>False</td>\n",
       "    </tr>\n",
       "    <tr>\n",
       "      <th>1</th>\n",
       "      <td>https://live.staticflickr.com/8658/15752325014...</td>\n",
       "      <td>False</td>\n",
       "    </tr>\n",
       "    <tr>\n",
       "      <th>2</th>\n",
       "      <td>https://live.staticflickr.com/3357/3333547544_...</td>\n",
       "      <td>False</td>\n",
       "    </tr>\n",
       "    <tr>\n",
       "      <th>3</th>\n",
       "      <td>https://live.staticflickr.com/8622/16348796416...</td>\n",
       "      <td>False</td>\n",
       "    </tr>\n",
       "    <tr>\n",
       "      <th>4</th>\n",
       "      <td>https://live.staticflickr.com/8/10560929_d57c0...</td>\n",
       "      <td>False</td>\n",
       "    </tr>\n",
       "    <tr>\n",
       "      <th>5</th>\n",
       "      <td>https://live.staticflickr.com/6/10560925_36609...</td>\n",
       "      <td>False</td>\n",
       "    </tr>\n",
       "    <tr>\n",
       "      <th>6</th>\n",
       "      <td>https://live.staticflickr.com/5251/5398039808_...</td>\n",
       "      <td>False</td>\n",
       "    </tr>\n",
       "    <tr>\n",
       "      <th>7</th>\n",
       "      <td>https://live.staticflickr.com/6/10560928_0ebeb...</td>\n",
       "      <td>False</td>\n",
       "    </tr>\n",
       "    <tr>\n",
       "      <th>8</th>\n",
       "      <td>https://live.staticflickr.com/127/321323177_3e...</td>\n",
       "      <td>False</td>\n",
       "    </tr>\n",
       "    <tr>\n",
       "      <th>9</th>\n",
       "      <td>https://live.staticflickr.com/8785/18276105075...</td>\n",
       "      <td>False</td>\n",
       "    </tr>\n",
       "    <tr>\n",
       "      <th>10</th>\n",
       "      <td>https://live.staticflickr.com/5/10560927_e6a84...</td>\n",
       "      <td>False</td>\n",
       "    </tr>\n",
       "    <tr>\n",
       "      <th>11</th>\n",
       "      <td>https://live.staticflickr.com/4/4456745_cebf9b...</td>\n",
       "      <td>False</td>\n",
       "    </tr>\n",
       "    <tr>\n",
       "      <th>12</th>\n",
       "      <td>https://live.staticflickr.com/7574/16249282061...</td>\n",
       "      <td>False</td>\n",
       "    </tr>\n",
       "    <tr>\n",
       "      <th>13</th>\n",
       "      <td>https://live.staticflickr.com/4411/37197283130...</td>\n",
       "      <td>False</td>\n",
       "    </tr>\n",
       "    <tr>\n",
       "      <th>14</th>\n",
       "      <td>https://live.staticflickr.com/65535/4951790725...</td>\n",
       "      <td>False</td>\n",
       "    </tr>\n",
       "    <tr>\n",
       "      <th>15</th>\n",
       "      <td>https://live.staticflickr.com/1510/25719431120...</td>\n",
       "      <td>False</td>\n",
       "    </tr>\n",
       "    <tr>\n",
       "      <th>16</th>\n",
       "      <td>https://live.staticflickr.com/181/417971459_41...</td>\n",
       "      <td>False</td>\n",
       "    </tr>\n",
       "    <tr>\n",
       "      <th>17</th>\n",
       "      <td>https://live.staticflickr.com/5755/23498640226...</td>\n",
       "      <td>False</td>\n",
       "    </tr>\n",
       "    <tr>\n",
       "      <th>18</th>\n",
       "      <td>https://live.staticflickr.com/7918/32863535128...</td>\n",
       "      <td>False</td>\n",
       "    </tr>\n",
       "    <tr>\n",
       "      <th>19</th>\n",
       "      <td>https://live.staticflickr.com/2196/2074438110_...</td>\n",
       "      <td>False</td>\n",
       "    </tr>\n",
       "    <tr>\n",
       "      <th>20</th>\n",
       "      <td>https://live.staticflickr.com/7826/46013936554...</td>\n",
       "      <td>False</td>\n",
       "    </tr>\n",
       "    <tr>\n",
       "      <th>21</th>\n",
       "      <td>https://live.staticflickr.com/4868/46013939314...</td>\n",
       "      <td>False</td>\n",
       "    </tr>\n",
       "    <tr>\n",
       "      <th>22</th>\n",
       "      <td>https://live.staticflickr.com/7881/31797304467...</td>\n",
       "      <td>False</td>\n",
       "    </tr>\n",
       "    <tr>\n",
       "      <th>23</th>\n",
       "      <td>https://live.staticflickr.com/7809/46013938894...</td>\n",
       "      <td>False</td>\n",
       "    </tr>\n",
       "    <tr>\n",
       "      <th>24</th>\n",
       "      <td>https://live.staticflickr.com/4915/46013939054...</td>\n",
       "      <td>False</td>\n",
       "    </tr>\n",
       "    <tr>\n",
       "      <th>25</th>\n",
       "      <td>https://live.staticflickr.com/7912/46013938974...</td>\n",
       "      <td>False</td>\n",
       "    </tr>\n",
       "    <tr>\n",
       "      <th>26</th>\n",
       "      <td>https://live.staticflickr.com/7815/31797304317...</td>\n",
       "      <td>False</td>\n",
       "    </tr>\n",
       "    <tr>\n",
       "      <th>27</th>\n",
       "      <td>https://live.staticflickr.com/5771/31299005726...</td>\n",
       "      <td>False</td>\n",
       "    </tr>\n",
       "    <tr>\n",
       "      <th>28</th>\n",
       "      <td>https://live.staticflickr.com/5485/31219903811...</td>\n",
       "      <td>False</td>\n",
       "    </tr>\n",
       "    <tr>\n",
       "      <th>29</th>\n",
       "      <td>https://live.staticflickr.com/5338/30512631804...</td>\n",
       "      <td>False</td>\n",
       "    </tr>\n",
       "    <tr>\n",
       "      <th>30</th>\n",
       "      <td>https://live.staticflickr.com/5489/31219906651...</td>\n",
       "      <td>False</td>\n",
       "    </tr>\n",
       "    <tr>\n",
       "      <th>31</th>\n",
       "      <td>https://live.staticflickr.com/5772/30966199420...</td>\n",
       "      <td>False</td>\n",
       "    </tr>\n",
       "    <tr>\n",
       "      <th>32</th>\n",
       "      <td>https://live.staticflickr.com/5568/30527447523...</td>\n",
       "      <td>False</td>\n",
       "    </tr>\n",
       "    <tr>\n",
       "      <th>33</th>\n",
       "      <td>https://live.staticflickr.com/6115/6345534572_...</td>\n",
       "      <td>False</td>\n",
       "    </tr>\n",
       "    <tr>\n",
       "      <th>34</th>\n",
       "      <td>https://live.staticflickr.com/7863/32863534968...</td>\n",
       "      <td>False</td>\n",
       "    </tr>\n",
       "    <tr>\n",
       "      <th>35</th>\n",
       "      <td>https://live.staticflickr.com/7922/32863535158...</td>\n",
       "      <td>False</td>\n",
       "    </tr>\n",
       "    <tr>\n",
       "      <th>36</th>\n",
       "      <td>https://live.staticflickr.com/7856/46013938094...</td>\n",
       "      <td>False</td>\n",
       "    </tr>\n",
       "    <tr>\n",
       "      <th>37</th>\n",
       "      <td>https://live.staticflickr.com/4889/32863535188...</td>\n",
       "      <td>False</td>\n",
       "    </tr>\n",
       "    <tr>\n",
       "      <th>38</th>\n",
       "      <td>https://live.staticflickr.com/7865/46013938404...</td>\n",
       "      <td>False</td>\n",
       "    </tr>\n",
       "    <tr>\n",
       "      <th>39</th>\n",
       "      <td>https://live.staticflickr.com/4918/46013937824...</td>\n",
       "      <td>False</td>\n",
       "    </tr>\n",
       "  </tbody>\n",
       "</table>\n",
       "</div>"
      ],
      "text/plain": [
       "                                                 urls  download\n",
       "0   https://live.staticflickr.com/8077/8428940257_...     False\n",
       "1   https://live.staticflickr.com/8658/15752325014...     False\n",
       "2   https://live.staticflickr.com/3357/3333547544_...     False\n",
       "3   https://live.staticflickr.com/8622/16348796416...     False\n",
       "4   https://live.staticflickr.com/8/10560929_d57c0...     False\n",
       "5   https://live.staticflickr.com/6/10560925_36609...     False\n",
       "6   https://live.staticflickr.com/5251/5398039808_...     False\n",
       "7   https://live.staticflickr.com/6/10560928_0ebeb...     False\n",
       "8   https://live.staticflickr.com/127/321323177_3e...     False\n",
       "9   https://live.staticflickr.com/8785/18276105075...     False\n",
       "10  https://live.staticflickr.com/5/10560927_e6a84...     False\n",
       "11  https://live.staticflickr.com/4/4456745_cebf9b...     False\n",
       "12  https://live.staticflickr.com/7574/16249282061...     False\n",
       "13  https://live.staticflickr.com/4411/37197283130...     False\n",
       "14  https://live.staticflickr.com/65535/4951790725...     False\n",
       "15  https://live.staticflickr.com/1510/25719431120...     False\n",
       "16  https://live.staticflickr.com/181/417971459_41...     False\n",
       "17  https://live.staticflickr.com/5755/23498640226...     False\n",
       "18  https://live.staticflickr.com/7918/32863535128...     False\n",
       "19  https://live.staticflickr.com/2196/2074438110_...     False\n",
       "20  https://live.staticflickr.com/7826/46013936554...     False\n",
       "21  https://live.staticflickr.com/4868/46013939314...     False\n",
       "22  https://live.staticflickr.com/7881/31797304467...     False\n",
       "23  https://live.staticflickr.com/7809/46013938894...     False\n",
       "24  https://live.staticflickr.com/4915/46013939054...     False\n",
       "25  https://live.staticflickr.com/7912/46013938974...     False\n",
       "26  https://live.staticflickr.com/7815/31797304317...     False\n",
       "27  https://live.staticflickr.com/5771/31299005726...     False\n",
       "28  https://live.staticflickr.com/5485/31219903811...     False\n",
       "29  https://live.staticflickr.com/5338/30512631804...     False\n",
       "30  https://live.staticflickr.com/5489/31219906651...     False\n",
       "31  https://live.staticflickr.com/5772/30966199420...     False\n",
       "32  https://live.staticflickr.com/5568/30527447523...     False\n",
       "33  https://live.staticflickr.com/6115/6345534572_...     False\n",
       "34  https://live.staticflickr.com/7863/32863534968...     False\n",
       "35  https://live.staticflickr.com/7922/32863535158...     False\n",
       "36  https://live.staticflickr.com/7856/46013938094...     False\n",
       "37  https://live.staticflickr.com/4889/32863535188...     False\n",
       "38  https://live.staticflickr.com/7865/46013938404...     False\n",
       "39  https://live.staticflickr.com/4918/46013937824...     False"
      ]
     },
     "execution_count": 307,
     "metadata": {},
     "output_type": "execute_result"
    }
   ],
   "source": [
    "doc[doc['download'] == False]"
   ]
  },
  {
   "cell_type": "code",
   "execution_count": 315,
   "metadata": {
    "scrolled": true
   },
   "outputs": [],
   "source": [
    "doc.iloc[0:10,1]=True"
   ]
  },
  {
   "cell_type": "code",
   "execution_count": 316,
   "metadata": {
    "collapsed": true
   },
   "outputs": [
    {
     "data": {
      "text/html": [
       "<div>\n",
       "<style scoped>\n",
       "    .dataframe tbody tr th:only-of-type {\n",
       "        vertical-align: middle;\n",
       "    }\n",
       "\n",
       "    .dataframe tbody tr th {\n",
       "        vertical-align: top;\n",
       "    }\n",
       "\n",
       "    .dataframe thead th {\n",
       "        text-align: right;\n",
       "    }\n",
       "</style>\n",
       "<table border=\"1\" class=\"dataframe\">\n",
       "  <thead>\n",
       "    <tr style=\"text-align: right;\">\n",
       "      <th></th>\n",
       "      <th>urls</th>\n",
       "      <th>download</th>\n",
       "    </tr>\n",
       "  </thead>\n",
       "  <tbody>\n",
       "    <tr>\n",
       "      <th>0</th>\n",
       "      <td>https://live.staticflickr.com/8077/8428940257_...</td>\n",
       "      <td>True</td>\n",
       "    </tr>\n",
       "    <tr>\n",
       "      <th>1</th>\n",
       "      <td>https://live.staticflickr.com/8658/15752325014...</td>\n",
       "      <td>True</td>\n",
       "    </tr>\n",
       "    <tr>\n",
       "      <th>2</th>\n",
       "      <td>https://live.staticflickr.com/3357/3333547544_...</td>\n",
       "      <td>True</td>\n",
       "    </tr>\n",
       "    <tr>\n",
       "      <th>3</th>\n",
       "      <td>https://live.staticflickr.com/8622/16348796416...</td>\n",
       "      <td>True</td>\n",
       "    </tr>\n",
       "    <tr>\n",
       "      <th>4</th>\n",
       "      <td>https://live.staticflickr.com/8/10560929_d57c0...</td>\n",
       "      <td>True</td>\n",
       "    </tr>\n",
       "    <tr>\n",
       "      <th>5</th>\n",
       "      <td>https://live.staticflickr.com/6/10560925_36609...</td>\n",
       "      <td>True</td>\n",
       "    </tr>\n",
       "    <tr>\n",
       "      <th>6</th>\n",
       "      <td>https://live.staticflickr.com/5251/5398039808_...</td>\n",
       "      <td>True</td>\n",
       "    </tr>\n",
       "    <tr>\n",
       "      <th>7</th>\n",
       "      <td>https://live.staticflickr.com/6/10560928_0ebeb...</td>\n",
       "      <td>True</td>\n",
       "    </tr>\n",
       "    <tr>\n",
       "      <th>8</th>\n",
       "      <td>https://live.staticflickr.com/127/321323177_3e...</td>\n",
       "      <td>True</td>\n",
       "    </tr>\n",
       "    <tr>\n",
       "      <th>9</th>\n",
       "      <td>https://live.staticflickr.com/8785/18276105075...</td>\n",
       "      <td>True</td>\n",
       "    </tr>\n",
       "    <tr>\n",
       "      <th>10</th>\n",
       "      <td>https://live.staticflickr.com/5/10560927_e6a84...</td>\n",
       "      <td>False</td>\n",
       "    </tr>\n",
       "    <tr>\n",
       "      <th>11</th>\n",
       "      <td>https://live.staticflickr.com/4/4456745_cebf9b...</td>\n",
       "      <td>False</td>\n",
       "    </tr>\n",
       "    <tr>\n",
       "      <th>12</th>\n",
       "      <td>https://live.staticflickr.com/7574/16249282061...</td>\n",
       "      <td>False</td>\n",
       "    </tr>\n",
       "    <tr>\n",
       "      <th>13</th>\n",
       "      <td>https://live.staticflickr.com/4411/37197283130...</td>\n",
       "      <td>False</td>\n",
       "    </tr>\n",
       "    <tr>\n",
       "      <th>14</th>\n",
       "      <td>https://live.staticflickr.com/65535/4951790725...</td>\n",
       "      <td>False</td>\n",
       "    </tr>\n",
       "    <tr>\n",
       "      <th>15</th>\n",
       "      <td>https://live.staticflickr.com/1510/25719431120...</td>\n",
       "      <td>False</td>\n",
       "    </tr>\n",
       "    <tr>\n",
       "      <th>16</th>\n",
       "      <td>https://live.staticflickr.com/181/417971459_41...</td>\n",
       "      <td>False</td>\n",
       "    </tr>\n",
       "    <tr>\n",
       "      <th>17</th>\n",
       "      <td>https://live.staticflickr.com/5755/23498640226...</td>\n",
       "      <td>False</td>\n",
       "    </tr>\n",
       "    <tr>\n",
       "      <th>18</th>\n",
       "      <td>https://live.staticflickr.com/7918/32863535128...</td>\n",
       "      <td>False</td>\n",
       "    </tr>\n",
       "    <tr>\n",
       "      <th>19</th>\n",
       "      <td>https://live.staticflickr.com/2196/2074438110_...</td>\n",
       "      <td>False</td>\n",
       "    </tr>\n",
       "    <tr>\n",
       "      <th>20</th>\n",
       "      <td>https://live.staticflickr.com/7826/46013936554...</td>\n",
       "      <td>False</td>\n",
       "    </tr>\n",
       "    <tr>\n",
       "      <th>21</th>\n",
       "      <td>https://live.staticflickr.com/4868/46013939314...</td>\n",
       "      <td>False</td>\n",
       "    </tr>\n",
       "    <tr>\n",
       "      <th>22</th>\n",
       "      <td>https://live.staticflickr.com/7881/31797304467...</td>\n",
       "      <td>False</td>\n",
       "    </tr>\n",
       "    <tr>\n",
       "      <th>23</th>\n",
       "      <td>https://live.staticflickr.com/7809/46013938894...</td>\n",
       "      <td>False</td>\n",
       "    </tr>\n",
       "    <tr>\n",
       "      <th>24</th>\n",
       "      <td>https://live.staticflickr.com/4915/46013939054...</td>\n",
       "      <td>False</td>\n",
       "    </tr>\n",
       "    <tr>\n",
       "      <th>25</th>\n",
       "      <td>https://live.staticflickr.com/7912/46013938974...</td>\n",
       "      <td>False</td>\n",
       "    </tr>\n",
       "    <tr>\n",
       "      <th>26</th>\n",
       "      <td>https://live.staticflickr.com/7815/31797304317...</td>\n",
       "      <td>False</td>\n",
       "    </tr>\n",
       "    <tr>\n",
       "      <th>27</th>\n",
       "      <td>https://live.staticflickr.com/5771/31299005726...</td>\n",
       "      <td>False</td>\n",
       "    </tr>\n",
       "    <tr>\n",
       "      <th>28</th>\n",
       "      <td>https://live.staticflickr.com/5485/31219903811...</td>\n",
       "      <td>False</td>\n",
       "    </tr>\n",
       "    <tr>\n",
       "      <th>29</th>\n",
       "      <td>https://live.staticflickr.com/5338/30512631804...</td>\n",
       "      <td>False</td>\n",
       "    </tr>\n",
       "    <tr>\n",
       "      <th>30</th>\n",
       "      <td>https://live.staticflickr.com/5489/31219906651...</td>\n",
       "      <td>False</td>\n",
       "    </tr>\n",
       "    <tr>\n",
       "      <th>31</th>\n",
       "      <td>https://live.staticflickr.com/5772/30966199420...</td>\n",
       "      <td>False</td>\n",
       "    </tr>\n",
       "    <tr>\n",
       "      <th>32</th>\n",
       "      <td>https://live.staticflickr.com/5568/30527447523...</td>\n",
       "      <td>False</td>\n",
       "    </tr>\n",
       "    <tr>\n",
       "      <th>33</th>\n",
       "      <td>https://live.staticflickr.com/6115/6345534572_...</td>\n",
       "      <td>False</td>\n",
       "    </tr>\n",
       "    <tr>\n",
       "      <th>34</th>\n",
       "      <td>https://live.staticflickr.com/7863/32863534968...</td>\n",
       "      <td>False</td>\n",
       "    </tr>\n",
       "    <tr>\n",
       "      <th>35</th>\n",
       "      <td>https://live.staticflickr.com/7922/32863535158...</td>\n",
       "      <td>False</td>\n",
       "    </tr>\n",
       "    <tr>\n",
       "      <th>36</th>\n",
       "      <td>https://live.staticflickr.com/7856/46013938094...</td>\n",
       "      <td>False</td>\n",
       "    </tr>\n",
       "    <tr>\n",
       "      <th>37</th>\n",
       "      <td>https://live.staticflickr.com/4889/32863535188...</td>\n",
       "      <td>False</td>\n",
       "    </tr>\n",
       "    <tr>\n",
       "      <th>38</th>\n",
       "      <td>https://live.staticflickr.com/7865/46013938404...</td>\n",
       "      <td>False</td>\n",
       "    </tr>\n",
       "    <tr>\n",
       "      <th>39</th>\n",
       "      <td>https://live.staticflickr.com/4918/46013937824...</td>\n",
       "      <td>False</td>\n",
       "    </tr>\n",
       "  </tbody>\n",
       "</table>\n",
       "</div>"
      ],
      "text/plain": [
       "                                                 urls  download\n",
       "0   https://live.staticflickr.com/8077/8428940257_...      True\n",
       "1   https://live.staticflickr.com/8658/15752325014...      True\n",
       "2   https://live.staticflickr.com/3357/3333547544_...      True\n",
       "3   https://live.staticflickr.com/8622/16348796416...      True\n",
       "4   https://live.staticflickr.com/8/10560929_d57c0...      True\n",
       "5   https://live.staticflickr.com/6/10560925_36609...      True\n",
       "6   https://live.staticflickr.com/5251/5398039808_...      True\n",
       "7   https://live.staticflickr.com/6/10560928_0ebeb...      True\n",
       "8   https://live.staticflickr.com/127/321323177_3e...      True\n",
       "9   https://live.staticflickr.com/8785/18276105075...      True\n",
       "10  https://live.staticflickr.com/5/10560927_e6a84...     False\n",
       "11  https://live.staticflickr.com/4/4456745_cebf9b...     False\n",
       "12  https://live.staticflickr.com/7574/16249282061...     False\n",
       "13  https://live.staticflickr.com/4411/37197283130...     False\n",
       "14  https://live.staticflickr.com/65535/4951790725...     False\n",
       "15  https://live.staticflickr.com/1510/25719431120...     False\n",
       "16  https://live.staticflickr.com/181/417971459_41...     False\n",
       "17  https://live.staticflickr.com/5755/23498640226...     False\n",
       "18  https://live.staticflickr.com/7918/32863535128...     False\n",
       "19  https://live.staticflickr.com/2196/2074438110_...     False\n",
       "20  https://live.staticflickr.com/7826/46013936554...     False\n",
       "21  https://live.staticflickr.com/4868/46013939314...     False\n",
       "22  https://live.staticflickr.com/7881/31797304467...     False\n",
       "23  https://live.staticflickr.com/7809/46013938894...     False\n",
       "24  https://live.staticflickr.com/4915/46013939054...     False\n",
       "25  https://live.staticflickr.com/7912/46013938974...     False\n",
       "26  https://live.staticflickr.com/7815/31797304317...     False\n",
       "27  https://live.staticflickr.com/5771/31299005726...     False\n",
       "28  https://live.staticflickr.com/5485/31219903811...     False\n",
       "29  https://live.staticflickr.com/5338/30512631804...     False\n",
       "30  https://live.staticflickr.com/5489/31219906651...     False\n",
       "31  https://live.staticflickr.com/5772/30966199420...     False\n",
       "32  https://live.staticflickr.com/5568/30527447523...     False\n",
       "33  https://live.staticflickr.com/6115/6345534572_...     False\n",
       "34  https://live.staticflickr.com/7863/32863534968...     False\n",
       "35  https://live.staticflickr.com/7922/32863535158...     False\n",
       "36  https://live.staticflickr.com/7856/46013938094...     False\n",
       "37  https://live.staticflickr.com/4889/32863535188...     False\n",
       "38  https://live.staticflickr.com/7865/46013938404...     False\n",
       "39  https://live.staticflickr.com/4918/46013937824...     False"
      ]
     },
     "execution_count": 316,
     "metadata": {},
     "output_type": "execute_result"
    }
   ],
   "source": [
    "doc"
   ]
  },
  {
   "cell_type": "code",
   "execution_count": 317,
   "metadata": {
    "collapsed": true
   },
   "outputs": [
    {
     "data": {
      "text/html": [
       "<div>\n",
       "<style scoped>\n",
       "    .dataframe tbody tr th:only-of-type {\n",
       "        vertical-align: middle;\n",
       "    }\n",
       "\n",
       "    .dataframe tbody tr th {\n",
       "        vertical-align: top;\n",
       "    }\n",
       "\n",
       "    .dataframe thead th {\n",
       "        text-align: right;\n",
       "    }\n",
       "</style>\n",
       "<table border=\"1\" class=\"dataframe\">\n",
       "  <thead>\n",
       "    <tr style=\"text-align: right;\">\n",
       "      <th></th>\n",
       "      <th>urls</th>\n",
       "      <th>download</th>\n",
       "    </tr>\n",
       "  </thead>\n",
       "  <tbody>\n",
       "    <tr>\n",
       "      <th>10</th>\n",
       "      <td>https://live.staticflickr.com/5/10560927_e6a84...</td>\n",
       "      <td>False</td>\n",
       "    </tr>\n",
       "    <tr>\n",
       "      <th>11</th>\n",
       "      <td>https://live.staticflickr.com/4/4456745_cebf9b...</td>\n",
       "      <td>False</td>\n",
       "    </tr>\n",
       "    <tr>\n",
       "      <th>12</th>\n",
       "      <td>https://live.staticflickr.com/7574/16249282061...</td>\n",
       "      <td>False</td>\n",
       "    </tr>\n",
       "    <tr>\n",
       "      <th>13</th>\n",
       "      <td>https://live.staticflickr.com/4411/37197283130...</td>\n",
       "      <td>False</td>\n",
       "    </tr>\n",
       "    <tr>\n",
       "      <th>14</th>\n",
       "      <td>https://live.staticflickr.com/65535/4951790725...</td>\n",
       "      <td>False</td>\n",
       "    </tr>\n",
       "    <tr>\n",
       "      <th>15</th>\n",
       "      <td>https://live.staticflickr.com/1510/25719431120...</td>\n",
       "      <td>False</td>\n",
       "    </tr>\n",
       "    <tr>\n",
       "      <th>16</th>\n",
       "      <td>https://live.staticflickr.com/181/417971459_41...</td>\n",
       "      <td>False</td>\n",
       "    </tr>\n",
       "    <tr>\n",
       "      <th>17</th>\n",
       "      <td>https://live.staticflickr.com/5755/23498640226...</td>\n",
       "      <td>False</td>\n",
       "    </tr>\n",
       "    <tr>\n",
       "      <th>18</th>\n",
       "      <td>https://live.staticflickr.com/7918/32863535128...</td>\n",
       "      <td>False</td>\n",
       "    </tr>\n",
       "    <tr>\n",
       "      <th>19</th>\n",
       "      <td>https://live.staticflickr.com/2196/2074438110_...</td>\n",
       "      <td>False</td>\n",
       "    </tr>\n",
       "    <tr>\n",
       "      <th>20</th>\n",
       "      <td>https://live.staticflickr.com/7826/46013936554...</td>\n",
       "      <td>False</td>\n",
       "    </tr>\n",
       "    <tr>\n",
       "      <th>21</th>\n",
       "      <td>https://live.staticflickr.com/4868/46013939314...</td>\n",
       "      <td>False</td>\n",
       "    </tr>\n",
       "    <tr>\n",
       "      <th>22</th>\n",
       "      <td>https://live.staticflickr.com/7881/31797304467...</td>\n",
       "      <td>False</td>\n",
       "    </tr>\n",
       "    <tr>\n",
       "      <th>23</th>\n",
       "      <td>https://live.staticflickr.com/7809/46013938894...</td>\n",
       "      <td>False</td>\n",
       "    </tr>\n",
       "    <tr>\n",
       "      <th>24</th>\n",
       "      <td>https://live.staticflickr.com/4915/46013939054...</td>\n",
       "      <td>False</td>\n",
       "    </tr>\n",
       "    <tr>\n",
       "      <th>25</th>\n",
       "      <td>https://live.staticflickr.com/7912/46013938974...</td>\n",
       "      <td>False</td>\n",
       "    </tr>\n",
       "    <tr>\n",
       "      <th>26</th>\n",
       "      <td>https://live.staticflickr.com/7815/31797304317...</td>\n",
       "      <td>False</td>\n",
       "    </tr>\n",
       "    <tr>\n",
       "      <th>27</th>\n",
       "      <td>https://live.staticflickr.com/5771/31299005726...</td>\n",
       "      <td>False</td>\n",
       "    </tr>\n",
       "    <tr>\n",
       "      <th>28</th>\n",
       "      <td>https://live.staticflickr.com/5485/31219903811...</td>\n",
       "      <td>False</td>\n",
       "    </tr>\n",
       "    <tr>\n",
       "      <th>29</th>\n",
       "      <td>https://live.staticflickr.com/5338/30512631804...</td>\n",
       "      <td>False</td>\n",
       "    </tr>\n",
       "    <tr>\n",
       "      <th>30</th>\n",
       "      <td>https://live.staticflickr.com/5489/31219906651...</td>\n",
       "      <td>False</td>\n",
       "    </tr>\n",
       "    <tr>\n",
       "      <th>31</th>\n",
       "      <td>https://live.staticflickr.com/5772/30966199420...</td>\n",
       "      <td>False</td>\n",
       "    </tr>\n",
       "    <tr>\n",
       "      <th>32</th>\n",
       "      <td>https://live.staticflickr.com/5568/30527447523...</td>\n",
       "      <td>False</td>\n",
       "    </tr>\n",
       "    <tr>\n",
       "      <th>33</th>\n",
       "      <td>https://live.staticflickr.com/6115/6345534572_...</td>\n",
       "      <td>False</td>\n",
       "    </tr>\n",
       "    <tr>\n",
       "      <th>34</th>\n",
       "      <td>https://live.staticflickr.com/7863/32863534968...</td>\n",
       "      <td>False</td>\n",
       "    </tr>\n",
       "    <tr>\n",
       "      <th>35</th>\n",
       "      <td>https://live.staticflickr.com/7922/32863535158...</td>\n",
       "      <td>False</td>\n",
       "    </tr>\n",
       "    <tr>\n",
       "      <th>36</th>\n",
       "      <td>https://live.staticflickr.com/7856/46013938094...</td>\n",
       "      <td>False</td>\n",
       "    </tr>\n",
       "    <tr>\n",
       "      <th>37</th>\n",
       "      <td>https://live.staticflickr.com/4889/32863535188...</td>\n",
       "      <td>False</td>\n",
       "    </tr>\n",
       "    <tr>\n",
       "      <th>38</th>\n",
       "      <td>https://live.staticflickr.com/7865/46013938404...</td>\n",
       "      <td>False</td>\n",
       "    </tr>\n",
       "    <tr>\n",
       "      <th>39</th>\n",
       "      <td>https://live.staticflickr.com/4918/46013937824...</td>\n",
       "      <td>False</td>\n",
       "    </tr>\n",
       "  </tbody>\n",
       "</table>\n",
       "</div>"
      ],
      "text/plain": [
       "                                                 urls  download\n",
       "10  https://live.staticflickr.com/5/10560927_e6a84...     False\n",
       "11  https://live.staticflickr.com/4/4456745_cebf9b...     False\n",
       "12  https://live.staticflickr.com/7574/16249282061...     False\n",
       "13  https://live.staticflickr.com/4411/37197283130...     False\n",
       "14  https://live.staticflickr.com/65535/4951790725...     False\n",
       "15  https://live.staticflickr.com/1510/25719431120...     False\n",
       "16  https://live.staticflickr.com/181/417971459_41...     False\n",
       "17  https://live.staticflickr.com/5755/23498640226...     False\n",
       "18  https://live.staticflickr.com/7918/32863535128...     False\n",
       "19  https://live.staticflickr.com/2196/2074438110_...     False\n",
       "20  https://live.staticflickr.com/7826/46013936554...     False\n",
       "21  https://live.staticflickr.com/4868/46013939314...     False\n",
       "22  https://live.staticflickr.com/7881/31797304467...     False\n",
       "23  https://live.staticflickr.com/7809/46013938894...     False\n",
       "24  https://live.staticflickr.com/4915/46013939054...     False\n",
       "25  https://live.staticflickr.com/7912/46013938974...     False\n",
       "26  https://live.staticflickr.com/7815/31797304317...     False\n",
       "27  https://live.staticflickr.com/5771/31299005726...     False\n",
       "28  https://live.staticflickr.com/5485/31219903811...     False\n",
       "29  https://live.staticflickr.com/5338/30512631804...     False\n",
       "30  https://live.staticflickr.com/5489/31219906651...     False\n",
       "31  https://live.staticflickr.com/5772/30966199420...     False\n",
       "32  https://live.staticflickr.com/5568/30527447523...     False\n",
       "33  https://live.staticflickr.com/6115/6345534572_...     False\n",
       "34  https://live.staticflickr.com/7863/32863534968...     False\n",
       "35  https://live.staticflickr.com/7922/32863535158...     False\n",
       "36  https://live.staticflickr.com/7856/46013938094...     False\n",
       "37  https://live.staticflickr.com/4889/32863535188...     False\n",
       "38  https://live.staticflickr.com/7865/46013938404...     False\n",
       "39  https://live.staticflickr.com/4918/46013937824...     False"
      ]
     },
     "execution_count": 317,
     "metadata": {},
     "output_type": "execute_result"
    }
   ],
   "source": [
    "new_urls = doc[doc['download'] == False]\n",
    "new_urls"
   ]
  },
  {
   "cell_type": "code",
   "execution_count": 318,
   "metadata": {},
   "outputs": [],
   "source": [
    "doc.loc[doc['download']==False, 'download'] = True"
   ]
  },
  {
   "cell_type": "code",
   "execution_count": 319,
   "metadata": {},
   "outputs": [
    {
     "data": {
      "text/html": [
       "<div>\n",
       "<style scoped>\n",
       "    .dataframe tbody tr th:only-of-type {\n",
       "        vertical-align: middle;\n",
       "    }\n",
       "\n",
       "    .dataframe tbody tr th {\n",
       "        vertical-align: top;\n",
       "    }\n",
       "\n",
       "    .dataframe thead th {\n",
       "        text-align: right;\n",
       "    }\n",
       "</style>\n",
       "<table border=\"1\" class=\"dataframe\">\n",
       "  <thead>\n",
       "    <tr style=\"text-align: right;\">\n",
       "      <th></th>\n",
       "      <th>urls</th>\n",
       "      <th>download</th>\n",
       "    </tr>\n",
       "  </thead>\n",
       "  <tbody>\n",
       "    <tr>\n",
       "      <th>0</th>\n",
       "      <td>https://live.staticflickr.com/8077/8428940257_...</td>\n",
       "      <td>True</td>\n",
       "    </tr>\n",
       "    <tr>\n",
       "      <th>1</th>\n",
       "      <td>https://live.staticflickr.com/8658/15752325014...</td>\n",
       "      <td>True</td>\n",
       "    </tr>\n",
       "    <tr>\n",
       "      <th>2</th>\n",
       "      <td>https://live.staticflickr.com/3357/3333547544_...</td>\n",
       "      <td>True</td>\n",
       "    </tr>\n",
       "    <tr>\n",
       "      <th>3</th>\n",
       "      <td>https://live.staticflickr.com/8622/16348796416...</td>\n",
       "      <td>True</td>\n",
       "    </tr>\n",
       "    <tr>\n",
       "      <th>4</th>\n",
       "      <td>https://live.staticflickr.com/8/10560929_d57c0...</td>\n",
       "      <td>True</td>\n",
       "    </tr>\n",
       "    <tr>\n",
       "      <th>5</th>\n",
       "      <td>https://live.staticflickr.com/6/10560925_36609...</td>\n",
       "      <td>True</td>\n",
       "    </tr>\n",
       "    <tr>\n",
       "      <th>6</th>\n",
       "      <td>https://live.staticflickr.com/5251/5398039808_...</td>\n",
       "      <td>True</td>\n",
       "    </tr>\n",
       "    <tr>\n",
       "      <th>7</th>\n",
       "      <td>https://live.staticflickr.com/6/10560928_0ebeb...</td>\n",
       "      <td>True</td>\n",
       "    </tr>\n",
       "    <tr>\n",
       "      <th>8</th>\n",
       "      <td>https://live.staticflickr.com/127/321323177_3e...</td>\n",
       "      <td>True</td>\n",
       "    </tr>\n",
       "    <tr>\n",
       "      <th>9</th>\n",
       "      <td>https://live.staticflickr.com/8785/18276105075...</td>\n",
       "      <td>True</td>\n",
       "    </tr>\n",
       "    <tr>\n",
       "      <th>10</th>\n",
       "      <td>https://live.staticflickr.com/5/10560927_e6a84...</td>\n",
       "      <td>True</td>\n",
       "    </tr>\n",
       "    <tr>\n",
       "      <th>11</th>\n",
       "      <td>https://live.staticflickr.com/4/4456745_cebf9b...</td>\n",
       "      <td>True</td>\n",
       "    </tr>\n",
       "    <tr>\n",
       "      <th>12</th>\n",
       "      <td>https://live.staticflickr.com/7574/16249282061...</td>\n",
       "      <td>True</td>\n",
       "    </tr>\n",
       "    <tr>\n",
       "      <th>13</th>\n",
       "      <td>https://live.staticflickr.com/4411/37197283130...</td>\n",
       "      <td>True</td>\n",
       "    </tr>\n",
       "    <tr>\n",
       "      <th>14</th>\n",
       "      <td>https://live.staticflickr.com/65535/4951790725...</td>\n",
       "      <td>True</td>\n",
       "    </tr>\n",
       "    <tr>\n",
       "      <th>15</th>\n",
       "      <td>https://live.staticflickr.com/1510/25719431120...</td>\n",
       "      <td>True</td>\n",
       "    </tr>\n",
       "    <tr>\n",
       "      <th>16</th>\n",
       "      <td>https://live.staticflickr.com/181/417971459_41...</td>\n",
       "      <td>True</td>\n",
       "    </tr>\n",
       "    <tr>\n",
       "      <th>17</th>\n",
       "      <td>https://live.staticflickr.com/5755/23498640226...</td>\n",
       "      <td>True</td>\n",
       "    </tr>\n",
       "    <tr>\n",
       "      <th>18</th>\n",
       "      <td>https://live.staticflickr.com/7918/32863535128...</td>\n",
       "      <td>True</td>\n",
       "    </tr>\n",
       "    <tr>\n",
       "      <th>19</th>\n",
       "      <td>https://live.staticflickr.com/2196/2074438110_...</td>\n",
       "      <td>True</td>\n",
       "    </tr>\n",
       "    <tr>\n",
       "      <th>20</th>\n",
       "      <td>https://live.staticflickr.com/7826/46013936554...</td>\n",
       "      <td>True</td>\n",
       "    </tr>\n",
       "    <tr>\n",
       "      <th>21</th>\n",
       "      <td>https://live.staticflickr.com/4868/46013939314...</td>\n",
       "      <td>True</td>\n",
       "    </tr>\n",
       "    <tr>\n",
       "      <th>22</th>\n",
       "      <td>https://live.staticflickr.com/7881/31797304467...</td>\n",
       "      <td>True</td>\n",
       "    </tr>\n",
       "    <tr>\n",
       "      <th>23</th>\n",
       "      <td>https://live.staticflickr.com/7809/46013938894...</td>\n",
       "      <td>True</td>\n",
       "    </tr>\n",
       "    <tr>\n",
       "      <th>24</th>\n",
       "      <td>https://live.staticflickr.com/4915/46013939054...</td>\n",
       "      <td>True</td>\n",
       "    </tr>\n",
       "    <tr>\n",
       "      <th>25</th>\n",
       "      <td>https://live.staticflickr.com/7912/46013938974...</td>\n",
       "      <td>True</td>\n",
       "    </tr>\n",
       "    <tr>\n",
       "      <th>26</th>\n",
       "      <td>https://live.staticflickr.com/7815/31797304317...</td>\n",
       "      <td>True</td>\n",
       "    </tr>\n",
       "    <tr>\n",
       "      <th>27</th>\n",
       "      <td>https://live.staticflickr.com/5771/31299005726...</td>\n",
       "      <td>True</td>\n",
       "    </tr>\n",
       "    <tr>\n",
       "      <th>28</th>\n",
       "      <td>https://live.staticflickr.com/5485/31219903811...</td>\n",
       "      <td>True</td>\n",
       "    </tr>\n",
       "    <tr>\n",
       "      <th>29</th>\n",
       "      <td>https://live.staticflickr.com/5338/30512631804...</td>\n",
       "      <td>True</td>\n",
       "    </tr>\n",
       "    <tr>\n",
       "      <th>30</th>\n",
       "      <td>https://live.staticflickr.com/5489/31219906651...</td>\n",
       "      <td>True</td>\n",
       "    </tr>\n",
       "    <tr>\n",
       "      <th>31</th>\n",
       "      <td>https://live.staticflickr.com/5772/30966199420...</td>\n",
       "      <td>True</td>\n",
       "    </tr>\n",
       "    <tr>\n",
       "      <th>32</th>\n",
       "      <td>https://live.staticflickr.com/5568/30527447523...</td>\n",
       "      <td>True</td>\n",
       "    </tr>\n",
       "    <tr>\n",
       "      <th>33</th>\n",
       "      <td>https://live.staticflickr.com/6115/6345534572_...</td>\n",
       "      <td>True</td>\n",
       "    </tr>\n",
       "    <tr>\n",
       "      <th>34</th>\n",
       "      <td>https://live.staticflickr.com/7863/32863534968...</td>\n",
       "      <td>True</td>\n",
       "    </tr>\n",
       "    <tr>\n",
       "      <th>35</th>\n",
       "      <td>https://live.staticflickr.com/7922/32863535158...</td>\n",
       "      <td>True</td>\n",
       "    </tr>\n",
       "    <tr>\n",
       "      <th>36</th>\n",
       "      <td>https://live.staticflickr.com/7856/46013938094...</td>\n",
       "      <td>True</td>\n",
       "    </tr>\n",
       "    <tr>\n",
       "      <th>37</th>\n",
       "      <td>https://live.staticflickr.com/4889/32863535188...</td>\n",
       "      <td>True</td>\n",
       "    </tr>\n",
       "    <tr>\n",
       "      <th>38</th>\n",
       "      <td>https://live.staticflickr.com/7865/46013938404...</td>\n",
       "      <td>True</td>\n",
       "    </tr>\n",
       "    <tr>\n",
       "      <th>39</th>\n",
       "      <td>https://live.staticflickr.com/4918/46013937824...</td>\n",
       "      <td>True</td>\n",
       "    </tr>\n",
       "  </tbody>\n",
       "</table>\n",
       "</div>"
      ],
      "text/plain": [
       "                                                 urls  download\n",
       "0   https://live.staticflickr.com/8077/8428940257_...      True\n",
       "1   https://live.staticflickr.com/8658/15752325014...      True\n",
       "2   https://live.staticflickr.com/3357/3333547544_...      True\n",
       "3   https://live.staticflickr.com/8622/16348796416...      True\n",
       "4   https://live.staticflickr.com/8/10560929_d57c0...      True\n",
       "5   https://live.staticflickr.com/6/10560925_36609...      True\n",
       "6   https://live.staticflickr.com/5251/5398039808_...      True\n",
       "7   https://live.staticflickr.com/6/10560928_0ebeb...      True\n",
       "8   https://live.staticflickr.com/127/321323177_3e...      True\n",
       "9   https://live.staticflickr.com/8785/18276105075...      True\n",
       "10  https://live.staticflickr.com/5/10560927_e6a84...      True\n",
       "11  https://live.staticflickr.com/4/4456745_cebf9b...      True\n",
       "12  https://live.staticflickr.com/7574/16249282061...      True\n",
       "13  https://live.staticflickr.com/4411/37197283130...      True\n",
       "14  https://live.staticflickr.com/65535/4951790725...      True\n",
       "15  https://live.staticflickr.com/1510/25719431120...      True\n",
       "16  https://live.staticflickr.com/181/417971459_41...      True\n",
       "17  https://live.staticflickr.com/5755/23498640226...      True\n",
       "18  https://live.staticflickr.com/7918/32863535128...      True\n",
       "19  https://live.staticflickr.com/2196/2074438110_...      True\n",
       "20  https://live.staticflickr.com/7826/46013936554...      True\n",
       "21  https://live.staticflickr.com/4868/46013939314...      True\n",
       "22  https://live.staticflickr.com/7881/31797304467...      True\n",
       "23  https://live.staticflickr.com/7809/46013938894...      True\n",
       "24  https://live.staticflickr.com/4915/46013939054...      True\n",
       "25  https://live.staticflickr.com/7912/46013938974...      True\n",
       "26  https://live.staticflickr.com/7815/31797304317...      True\n",
       "27  https://live.staticflickr.com/5771/31299005726...      True\n",
       "28  https://live.staticflickr.com/5485/31219903811...      True\n",
       "29  https://live.staticflickr.com/5338/30512631804...      True\n",
       "30  https://live.staticflickr.com/5489/31219906651...      True\n",
       "31  https://live.staticflickr.com/5772/30966199420...      True\n",
       "32  https://live.staticflickr.com/5568/30527447523...      True\n",
       "33  https://live.staticflickr.com/6115/6345534572_...      True\n",
       "34  https://live.staticflickr.com/7863/32863534968...      True\n",
       "35  https://live.staticflickr.com/7922/32863535158...      True\n",
       "36  https://live.staticflickr.com/7856/46013938094...      True\n",
       "37  https://live.staticflickr.com/4889/32863535188...      True\n",
       "38  https://live.staticflickr.com/7865/46013938404...      True\n",
       "39  https://live.staticflickr.com/4918/46013937824...      True"
      ]
     },
     "execution_count": 319,
     "metadata": {},
     "output_type": "execute_result"
    }
   ],
   "source": [
    "doc"
   ]
  },
  {
   "cell_type": "code",
   "execution_count": null,
   "metadata": {},
   "outputs": [],
   "source": []
  },
  {
   "cell_type": "code",
   "execution_count": null,
   "metadata": {},
   "outputs": [],
   "source": []
  },
  {
   "cell_type": "code",
   "execution_count": 256,
   "metadata": {},
   "outputs": [
    {
     "data": {
      "text/plain": [
       "'/home/dsc/tfm_data/cocido madrileño/30512631804_a6ce730650_c.jpg'"
      ]
     },
     "execution_count": 256,
     "metadata": {},
     "output_type": "execute_result"
    }
   ],
   "source": [
    "ruta_destino = '/home/dsc/tfm_data'\n",
    "os.path.join(ruta_destino, folder.split(\"_\")[0],url[1].split(\"/\")[-1])"
   ]
  },
  {
   "cell_type": "code",
   "execution_count": null,
   "metadata": {},
   "outputs": [],
   "source": []
  },
  {
   "cell_type": "code",
   "execution_count": null,
   "metadata": {},
   "outputs": [],
   "source": []
  },
  {
   "cell_type": "code",
   "execution_count": null,
   "metadata": {},
   "outputs": [],
   "source": []
  },
  {
   "cell_type": "code",
   "execution_count": null,
   "metadata": {},
   "outputs": [],
   "source": []
  },
  {
   "cell_type": "code",
   "execution_count": 36,
   "metadata": {},
   "outputs": [
    {
     "data": {
      "text/plain": [
       "'/home/dsc/TFM_food_recognition/image_urls'"
      ]
     },
     "execution_count": 36,
     "metadata": {},
     "output_type": "execute_result"
    }
   ],
   "source": [
    "os.chdir('/home/dsc/TFM_food_recognition/image_urls')\n",
    "os.getcwd()"
   ]
  },
  {
   "cell_type": "code",
   "execution_count": 7,
   "metadata": {
    "collapsed": true
   },
   "outputs": [
    {
     "name": "stdout",
     "output_type": "stream",
     "text": [
      "total 1384\r\n",
      "-rw-rw-r-- 1 dsc dsc  54346 feb 24 22:56  cats_and_dogs.ipynb\r\n",
      "-rw-rw-r-- 1 dsc dsc  28300 mar  6 23:24 'causa limeña_urls.csv'\r\n",
      "-rw-rw-r-- 1 dsc dsc  61537 mar  6 23:43  chaufa_urls.csv\r\n",
      "-rw-rw-r-- 1 dsc dsc   6615 abr  8 23:08  cocido_urls.csv\r\n",
      "-rw-rw-r-- 1 dsc dsc   1302 mar  6 18:23  croquetas.csv\r\n",
      "-rw-rw-r-- 1 dsc dsc 101542 mar 14 21:43  croquetas_urls.csv\r\n",
      "-rw-rw-r-- 1 dsc dsc  50321 mar  7 20:53 'ensaladilla rusa_urls.csv'\r\n",
      "-rw-rw-r-- 1 dsc dsc 169815 mar 10 23:02  fabada_urls.csv\r\n",
      "-rw-rw-r-- 1 dsc dsc  74201 abr  9 00:07  flickr_scrap.ipynb\r\n",
      "-rw-rw-r-- 1 dsc dsc  58995 mar  7 21:06 'gambas al ajillo_urls.csv'\r\n",
      "-rw-rw-r-- 1 dsc dsc  66907 mar  7 00:13  gazpacho_urls.csv\r\n",
      "-rw-rw-r-- 1 dsc dsc  67093 mar  6 22:27  huancaina_urls.csv\r\n",
      "-rw-rw-r-- 1 dsc dsc  62979 mar  7 23:02 'huevos rotos_urls.csv'\r\n",
      "-rw-rw-r-- 1 dsc dsc 100608 mar 14 23:30  paella_urls.csv\r\n",
      "-rw-rw-r-- 1 dsc dsc 220809 mar 16 23:38 'patatas bravas_urls.csv'\r\n",
      "-rw-rw-r-- 1 dsc dsc  60636 mar  7 00:25  patatasbravas_urls.csv\r\n",
      "-rw-rw-r-- 1 dsc dsc   3295 mar 15 00:42 'pulpo a feira_urls.csv'\r\n",
      "-rw-rw-r-- 1 dsc dsc     65 mar 15 00:08 'pulpo a la gallega_urls.csv'\r\n",
      "-rw-rw-r-- 1 dsc dsc     22 feb 21 19:48  README.md\r\n",
      "-rw-rw-r-- 1 dsc dsc   7413 mar  6 23:36  tacutacu_urls.csv\r\n",
      "-rw-rw-r-- 1 dsc dsc 169345 mar  9 20:54 'tortilla de patatas_urls.csv'\r\n",
      "-rw-rw-r-- 1 dsc dsc    134 mar 14 21:35 'tortilla de patata_urls.csv'\r\n"
     ]
    }
   ],
   "source": [
    "!ls -l"
   ]
  },
  {
   "cell_type": "code",
   "execution_count": null,
   "metadata": {},
   "outputs": [],
   "source": []
  },
  {
   "cell_type": "code",
   "execution_count": null,
   "metadata": {},
   "outputs": [],
   "source": []
  },
  {
   "cell_type": "code",
   "execution_count": null,
   "metadata": {},
   "outputs": [],
   "source": []
  },
  {
   "cell_type": "code",
   "execution_count": 43,
   "metadata": {},
   "outputs": [
    {
     "data": {
      "text/html": [
       "<div>\n",
       "<style scoped>\n",
       "    .dataframe tbody tr th:only-of-type {\n",
       "        vertical-align: middle;\n",
       "    }\n",
       "\n",
       "    .dataframe tbody tr th {\n",
       "        vertical-align: top;\n",
       "    }\n",
       "\n",
       "    .dataframe thead th {\n",
       "        text-align: right;\n",
       "    }\n",
       "</style>\n",
       "<table border=\"1\" class=\"dataframe\">\n",
       "  <thead>\n",
       "    <tr style=\"text-align: right;\">\n",
       "      <th></th>\n",
       "      <th>Unnamed: 0</th>\n",
       "      <th>0</th>\n",
       "    </tr>\n",
       "  </thead>\n",
       "  <tbody>\n",
       "    <tr>\n",
       "      <th>0</th>\n",
       "      <td>0</td>\n",
       "      <td>https://live.staticflickr.com/3025/2572581755_...</td>\n",
       "    </tr>\n",
       "    <tr>\n",
       "      <th>1</th>\n",
       "      <td>1</td>\n",
       "      <td>https://live.staticflickr.com/1234/543836157_b...</td>\n",
       "    </tr>\n",
       "    <tr>\n",
       "      <th>2</th>\n",
       "      <td>2</td>\n",
       "      <td>https://live.staticflickr.com/4913/45845152782...</td>\n",
       "    </tr>\n",
       "    <tr>\n",
       "      <th>3</th>\n",
       "      <td>3</td>\n",
       "      <td>https://live.staticflickr.com/3193/2573402624_...</td>\n",
       "    </tr>\n",
       "    <tr>\n",
       "      <th>4</th>\n",
       "      <td>4</td>\n",
       "      <td>https://live.staticflickr.com/4523/26880798669...</td>\n",
       "    </tr>\n",
       "    <tr>\n",
       "      <th>5</th>\n",
       "      <td>5</td>\n",
       "      <td>https://live.staticflickr.com/7006/6573762291_...</td>\n",
       "    </tr>\n",
       "    <tr>\n",
       "      <th>6</th>\n",
       "      <td>6</td>\n",
       "      <td>https://live.staticflickr.com/1368/543839969_a...</td>\n",
       "    </tr>\n",
       "    <tr>\n",
       "      <th>7</th>\n",
       "      <td>7</td>\n",
       "      <td>https://live.staticflickr.com/1254/543839975_2...</td>\n",
       "    </tr>\n",
       "    <tr>\n",
       "      <th>8</th>\n",
       "      <td>8</td>\n",
       "      <td>https://live.staticflickr.com/2749/4338186964_...</td>\n",
       "    </tr>\n",
       "    <tr>\n",
       "      <th>9</th>\n",
       "      <td>9</td>\n",
       "      <td>https://live.staticflickr.com/8500/8405657182_...</td>\n",
       "    </tr>\n",
       "  </tbody>\n",
       "</table>\n",
       "</div>"
      ],
      "text/plain": [
       "   Unnamed: 0                                                  0\n",
       "0           0  https://live.staticflickr.com/3025/2572581755_...\n",
       "1           1  https://live.staticflickr.com/1234/543836157_b...\n",
       "2           2  https://live.staticflickr.com/4913/45845152782...\n",
       "3           3  https://live.staticflickr.com/3193/2573402624_...\n",
       "4           4  https://live.staticflickr.com/4523/26880798669...\n",
       "5           5  https://live.staticflickr.com/7006/6573762291_...\n",
       "6           6  https://live.staticflickr.com/1368/543839969_a...\n",
       "7           7  https://live.staticflickr.com/1254/543839975_2...\n",
       "8           8  https://live.staticflickr.com/2749/4338186964_...\n",
       "9           9  https://live.staticflickr.com/8500/8405657182_..."
      ]
     },
     "execution_count": 43,
     "metadata": {},
     "output_type": "execute_result"
    }
   ],
   "source": [
    "urls_book"
   ]
  },
  {
   "cell_type": "code",
   "execution_count": 28,
   "metadata": {},
   "outputs": [
    {
     "name": "stdout",
     "output_type": "stream",
     "text": [
      "Done downloading 1 of 10\n",
      "Done downloading 2 of 10\n",
      "Done downloading 3 of 10\n",
      "Done downloading 4 of 10\n",
      "Done downloading 5 of 10\n",
      "Done downloading 6 of 10\n",
      "Done downloading 7 of 10\n",
      "Done downloading 8 of 10\n",
      "Done downloading 9 of 10\n",
      "Done downloading 10 of 10\n"
     ]
    }
   ],
   "source": [
    "download_images(file_name = 'cocido_urls.csv', folder = 'cocido', \n",
    "               ruta_destino = '/home/dsc/tfm_data/')"
   ]
  },
  {
   "cell_type": "code",
   "execution_count": null,
   "metadata": {},
   "outputs": [],
   "source": []
  },
  {
   "cell_type": "code",
   "execution_count": null,
   "metadata": {},
   "outputs": [],
   "source": []
  },
  {
   "cell_type": "code",
   "execution_count": null,
   "metadata": {},
   "outputs": [],
   "source": []
  },
  {
   "cell_type": "markdown",
   "metadata": {},
   "source": [
    "Vamos a trabajar en esta parte del documento, cómo podemos recoger urls y ver si las tenemos (esas fotos) guardas en disco, si están, continuaremos buscando en flickr. Si no están, las guardamos y seguimos hasta llegar al máximo del contador: (para ello ejecutamos get_urls() y probamos con sus salidas)"
   ]
  },
  {
   "cell_type": "code",
   "execution_count": 21,
   "metadata": {},
   "outputs": [
    {
     "data": {
      "text/plain": [
       "'https://live.staticflickr.com/3366/3494696835_8db34cc247_c.jpg'"
      ]
     },
     "execution_count": 21,
     "metadata": {},
     "output_type": "execute_result"
    }
   ],
   "source": [
    "urls[1]"
   ]
  },
  {
   "cell_type": "code",
   "execution_count": 22,
   "metadata": {},
   "outputs": [
    {
     "data": {
      "text/plain": [
       "'3494696835_8db34cc247_c.jpg'"
      ]
     },
     "execution_count": 22,
     "metadata": {},
     "output_type": "execute_result"
    }
   ],
   "source": [
    "urls[1].split(\"/\")[-1] # este va a ser el nombre definitivo de la foto. "
   ]
  },
  {
   "cell_type": "code",
   "execution_count": 16,
   "metadata": {},
   "outputs": [],
   "source": [
    "import requests\n",
    "import os"
   ]
  },
  {
   "cell_type": "code",
   "execution_count": null,
   "metadata": {},
   "outputs": [],
   "source": []
  },
  {
   "cell_type": "code",
   "execution_count": 25,
   "metadata": {},
   "outputs": [
    {
     "data": {
      "text/plain": [
       "'/home/dsc/tfm_data/patatas bravas/3494696835_8db34cc247_c.jpg'"
      ]
     },
     "execution_count": 25,
     "metadata": {},
     "output_type": "execute_result"
    }
   ],
   "source": [
    "os.path.join('/home/dsc/tfm_data/patatas bravas', urls[1].split(\"/\")[-1])"
   ]
  },
  {
   "cell_type": "code",
   "execution_count": 24,
   "metadata": {},
   "outputs": [
    {
     "name": "stdout",
     "output_type": "stream",
     "text": [
      "El archivo existe.\n"
     ]
    }
   ],
   "source": [
    "if os.path.isfile(os.path.join('/home/dsc/tfm_data/patatas bravas', urls[1].split(\"/\")[-1])):\n",
    "        print('El archivo existe.');"
   ]
  },
  {
   "cell_type": "code",
   "execution_count": 23,
   "metadata": {
    "collapsed": true
   },
   "outputs": [
    {
     "name": "stdout",
     "output_type": "stream",
     "text": [
      "El archivo existe.\n",
      "El archivo existe.\n",
      "El archivo existe.\n",
      "El archivo existe.\n",
      "El archivo existe.\n",
      "El archivo existe.\n",
      "El archivo existe.\n",
      "El archivo existe.\n",
      "El archivo existe.\n",
      "El archivo existe.\n",
      "El archivo existe.\n",
      "El archivo existe.\n",
      "El archivo existe.\n",
      "El archivo existe.\n",
      "El archivo existe.\n",
      "El archivo existe.\n",
      "El archivo existe.\n",
      "El archivo existe.\n",
      "El archivo existe.\n",
      "El archivo existe.\n",
      "El archivo existe.\n",
      "El archivo existe.\n",
      "El archivo existe.\n",
      "El archivo existe.\n",
      "El archivo existe.\n",
      "El archivo existe.\n",
      "El archivo existe.\n",
      "El archivo existe.\n",
      "El archivo existe.\n",
      "El archivo existe.\n",
      "El archivo existe.\n",
      "El archivo existe.\n",
      "El archivo existe.\n",
      "El archivo existe.\n",
      "El archivo existe.\n",
      "El archivo existe.\n",
      "El archivo existe.\n",
      "El archivo existe.\n",
      "El archivo existe.\n",
      "El archivo existe.\n",
      "El archivo existe.\n",
      "El archivo existe.\n",
      "El archivo existe.\n",
      "El archivo existe.\n",
      "El archivo existe.\n",
      "El archivo existe.\n",
      "El archivo existe.\n",
      "El archivo existe.\n",
      "El archivo existe.\n",
      "El archivo existe.\n",
      "El archivo existe.\n",
      "El archivo existe.\n",
      "El archivo existe.\n",
      "El archivo existe.\n",
      "El archivo existe.\n",
      "El archivo existe.\n",
      "El archivo existe.\n",
      "El archivo existe.\n",
      "El archivo existe.\n",
      "El archivo existe.\n",
      "El archivo existe.\n",
      "El archivo existe.\n",
      "El archivo existe.\n",
      "El archivo existe.\n",
      "El archivo existe.\n",
      "El archivo existe.\n",
      "El archivo existe.\n",
      "El archivo existe.\n",
      "El archivo existe.\n",
      "El archivo existe.\n",
      "El archivo existe.\n",
      "El archivo existe.\n",
      "El archivo existe.\n",
      "El archivo existe.\n",
      "El archivo existe.\n",
      "El archivo existe.\n",
      "El archivo existe.\n",
      "El archivo existe.\n",
      "El archivo existe.\n",
      "El archivo existe.\n",
      "El archivo existe.\n",
      "El archivo existe.\n",
      "El archivo existe.\n",
      "El archivo existe.\n",
      "El archivo existe.\n",
      "El archivo existe.\n",
      "El archivo existe.\n",
      "El archivo existe.\n",
      "El archivo existe.\n",
      "El archivo existe.\n",
      "El archivo existe.\n",
      "El archivo existe.\n",
      "El archivo existe.\n",
      "El archivo existe.\n",
      "El archivo existe.\n",
      "El archivo existe.\n",
      "El archivo existe.\n",
      "El archivo existe.\n",
      "El archivo existe.\n",
      "El archivo existe.\n"
     ]
    }
   ],
   "source": [
    "for url in enumerate(urls):\n",
    "    if os.path.isfile(os.path.join('/home/dsc/tfm_data/patatas bravas', url[1].split(\"/\")[-1])):\n",
    "        print('El archivo existe.');\n",
    "    else:\n",
    "        print('El archivo no existe')"
   ]
  },
  {
   "cell_type": "code",
   "execution_count": 26,
   "metadata": {},
   "outputs": [
    {
     "data": {
      "text/plain": [
       "'/home/dsc/tfm_data/3494696835_8db34cc247_c.jpg'"
      ]
     },
     "execution_count": 26,
     "metadata": {},
     "output_type": "execute_result"
    }
   ],
   "source": [
    "os.path.join('/home/dsc/tfm_data/', urls[1].split(\"/\")[-1])"
   ]
  },
  {
   "cell_type": "code",
   "execution_count": null,
   "metadata": {},
   "outputs": [],
   "source": []
  },
  {
   "cell_type": "code",
   "execution_count": 54,
   "metadata": {},
   "outputs": [
    {
     "name": "stdout",
     "output_type": "stream",
     "text": [
      "hola\n"
     ]
    }
   ],
   "source": [
    "if os.path.isfile(os.path.join('/home/dsc/tfm_data/patatas bravas', urls[1].split(\"/\")[-1])):\n",
    "    print('hola')"
   ]
  },
  {
   "cell_type": "code",
   "execution_count": 50,
   "metadata": {},
   "outputs": [
    {
     "name": "stdout",
     "output_type": "stream",
     "text": [
      "hola\n"
     ]
    }
   ],
   "source": [
    "if os.path.exists(os.path.join('/home/dsc/tfm_data/patatas bravas', urls[1].split(\"/\")[-1])):\n",
    "    print('hola')"
   ]
  },
  {
   "cell_type": "code",
   "execution_count": 47,
   "metadata": {},
   "outputs": [
    {
     "data": {
      "text/plain": [
       "'/home/dsc/tfm_data/patatas bravas/48733297982_c17bca8a67_c.jpg'"
      ]
     },
     "execution_count": 47,
     "metadata": {},
     "output_type": "execute_result"
    }
   ],
   "source": [
    "os.path.join('/home/dsc/tfm_data/patatas bravas', urls[0].split(\"/\")[-1])\n"
   ]
  },
  {
   "cell_type": "code",
   "execution_count": 45,
   "metadata": {},
   "outputs": [
    {
     "data": {
      "text/plain": [
       "'https://live.staticflickr.com/5451/7392903470_b3b8aab810_c.jpg'"
      ]
     },
     "execution_count": 45,
     "metadata": {},
     "output_type": "execute_result"
    }
   ],
   "source": [
    "prueba[0]"
   ]
  },
  {
   "cell_type": "markdown",
   "metadata": {},
   "source": [
    "Podemos guardar el archivo de urls entero. No sobreescirbir sino cuando ejecutemos de nuevo la funcion de descargar imagenes, añadir las nuevas urls. Al final, cuando tengamos ya todas las imagenes, recogemoes de¡¡los nombres de las imagenes, hacemos un scan en el directorio, y solo nos quedamos con las urls que coinciden con nuestras imagenes. De esta forma tenemos la ruta de cada imagen que vamos a usar en el trabajo por si se pierden o se quieren descargar por cualquier otro motivo. "
   ]
  },
  {
   "cell_type": "markdown",
   "metadata": {},
   "source": [
    "Al punto anterior: mejor forma sería, cargo el archivo antiguo de urls en df, buscar la url en ese dataframe, si está, ignoro url, si no, la añado. Una vez tengamos un archivo de urls con cierto volumen, descargo las imagenes. "
   ]
  },
  {
   "cell_type": "code",
   "execution_count": 8,
   "metadata": {},
   "outputs": [
    {
     "data": {
      "text/html": [
       "<div>\n",
       "<style scoped>\n",
       "    .dataframe tbody tr th:only-of-type {\n",
       "        vertical-align: middle;\n",
       "    }\n",
       "\n",
       "    .dataframe tbody tr th {\n",
       "        vertical-align: top;\n",
       "    }\n",
       "\n",
       "    .dataframe thead th {\n",
       "        text-align: right;\n",
       "    }\n",
       "</style>\n",
       "<table border=\"1\" class=\"dataframe\">\n",
       "  <thead>\n",
       "    <tr style=\"text-align: right;\">\n",
       "      <th></th>\n",
       "      <th>Unnamed: 0</th>\n",
       "      <th>0</th>\n",
       "    </tr>\n",
       "  </thead>\n",
       "  <tbody>\n",
       "    <tr>\n",
       "      <th>0</th>\n",
       "      <td>0</td>\n",
       "      <td>https://live.staticflickr.com/3025/2572581755_...</td>\n",
       "    </tr>\n",
       "    <tr>\n",
       "      <th>1</th>\n",
       "      <td>1</td>\n",
       "      <td>https://live.staticflickr.com/1234/543836157_b...</td>\n",
       "    </tr>\n",
       "    <tr>\n",
       "      <th>2</th>\n",
       "      <td>2</td>\n",
       "      <td>https://live.staticflickr.com/4913/45845152782...</td>\n",
       "    </tr>\n",
       "    <tr>\n",
       "      <th>3</th>\n",
       "      <td>3</td>\n",
       "      <td>https://live.staticflickr.com/3193/2573402624_...</td>\n",
       "    </tr>\n",
       "    <tr>\n",
       "      <th>4</th>\n",
       "      <td>4</td>\n",
       "      <td>https://live.staticflickr.com/4523/26880798669...</td>\n",
       "    </tr>\n",
       "  </tbody>\n",
       "</table>\n",
       "</div>"
      ],
      "text/plain": [
       "   Unnamed: 0                                                  0\n",
       "0           0  https://live.staticflickr.com/3025/2572581755_...\n",
       "1           1  https://live.staticflickr.com/1234/543836157_b...\n",
       "2           2  https://live.staticflickr.com/4913/45845152782...\n",
       "3           3  https://live.staticflickr.com/3193/2573402624_...\n",
       "4           4  https://live.staticflickr.com/4523/26880798669..."
      ]
     },
     "execution_count": 8,
     "metadata": {},
     "output_type": "execute_result"
    }
   ],
   "source": [
    "import pandas as pd\n",
    "pru = pd.read_csv('cocido_urls.csv')\n",
    "pru2 = pd.read_csv('gazpacho_urls.csv', header=None)\n",
    "pru.head()"
   ]
  },
  {
   "cell_type": "code",
   "execution_count": 12,
   "metadata": {
    "scrolled": true
   },
   "outputs": [
    {
     "data": {
      "text/plain": [
       "0    float64\n",
       "1     object\n",
       "dtype: object"
      ]
     },
     "execution_count": 12,
     "metadata": {},
     "output_type": "execute_result"
    }
   ],
   "source": [
    "pru.dtypes"
   ]
  },
  {
   "cell_type": "code",
   "execution_count": 23,
   "metadata": {},
   "outputs": [
    {
     "data": {
      "text/plain": [
       "(10, 2)"
      ]
     },
     "execution_count": 23,
     "metadata": {},
     "output_type": "execute_result"
    }
   ],
   "source": [
    "pru.shape"
   ]
  },
  {
   "cell_type": "code",
   "execution_count": 13,
   "metadata": {},
   "outputs": [
    {
     "data": {
      "text/plain": [
       "'https://live.staticflickr.com/3025/2572581755_a0137254f5_c.jpg'"
      ]
     },
     "execution_count": 13,
     "metadata": {},
     "output_type": "execute_result"
    }
   ],
   "source": [
    "pru.iloc[0, 1]"
   ]
  },
  {
   "cell_type": "markdown",
   "metadata": {},
   "source": [
    "Vamos a guardar esa url (string) en un objeto y vamos a buscarlo en el mismo dataframe para introducir en la función el asunto de las urls ya descargadas."
   ]
  },
  {
   "cell_type": "code",
   "execution_count": 14,
   "metadata": {},
   "outputs": [
    {
     "data": {
      "text/plain": [
       "'https://live.staticflickr.com/3025/2572581755_a0137254f5_c.jpg'"
      ]
     },
     "execution_count": 14,
     "metadata": {},
     "output_type": "execute_result"
    }
   ],
   "source": [
    "url_buscar = pru.iloc[0, 1]\n",
    "url_buscar"
   ]
  },
  {
   "cell_type": "code",
   "execution_count": 18,
   "metadata": {},
   "outputs": [
    {
     "data": {
      "text/plain": [
       "'2572581755_a0137254f5_c.jpg'"
      ]
     },
     "execution_count": 18,
     "metadata": {},
     "output_type": "execute_result"
    }
   ],
   "source": [
    "patron = url_buscar.split(\"/\")[-1]\n",
    "patron"
   ]
  },
  {
   "cell_type": "code",
   "execution_count": null,
   "metadata": {},
   "outputs": [],
   "source": []
  },
  {
   "cell_type": "code",
   "execution_count": 20,
   "metadata": {},
   "outputs": [
    {
     "name": "stdout",
     "output_type": "stream",
     "text": [
      "Url duplicada\n"
     ]
    }
   ],
   "source": [
    "if pru['0'].str.contains(patron).any():\n",
    "    print('Url duplicada')"
   ]
  },
  {
   "cell_type": "code",
   "execution_count": null,
   "metadata": {},
   "outputs": [],
   "source": []
  },
  {
   "cell_type": "code",
   "execution_count": 10,
   "metadata": {},
   "outputs": [
    {
     "data": {
      "text/html": [
       "<div>\n",
       "<style scoped>\n",
       "    .dataframe tbody tr th:only-of-type {\n",
       "        vertical-align: middle;\n",
       "    }\n",
       "\n",
       "    .dataframe tbody tr th {\n",
       "        vertical-align: top;\n",
       "    }\n",
       "\n",
       "    .dataframe thead th {\n",
       "        text-align: right;\n",
       "    }\n",
       "</style>\n",
       "<table border=\"1\" class=\"dataframe\">\n",
       "  <thead>\n",
       "    <tr style=\"text-align: right;\">\n",
       "      <th></th>\n",
       "      <th>0</th>\n",
       "      <th>1</th>\n",
       "    </tr>\n",
       "  </thead>\n",
       "  <tbody>\n",
       "    <tr>\n",
       "      <th>0</th>\n",
       "      <td>0</td>\n",
       "      <td>https://live.staticflickr.com/3192/2829641312_...</td>\n",
       "    </tr>\n",
       "    <tr>\n",
       "      <th>1</th>\n",
       "      <td>1</td>\n",
       "      <td>https://live.staticflickr.com/3221/2677367663_...</td>\n",
       "    </tr>\n",
       "    <tr>\n",
       "      <th>2</th>\n",
       "      <td>2</td>\n",
       "      <td>https://live.staticflickr.com/4153/4841562401_...</td>\n",
       "    </tr>\n",
       "    <tr>\n",
       "      <th>3</th>\n",
       "      <td>3</td>\n",
       "      <td>https://live.staticflickr.com/4152/4840845965_...</td>\n",
       "    </tr>\n",
       "    <tr>\n",
       "      <th>4</th>\n",
       "      <td>4</td>\n",
       "      <td>https://live.staticflickr.com/7233/7203154546_...</td>\n",
       "    </tr>\n",
       "  </tbody>\n",
       "</table>\n",
       "</div>"
      ],
      "text/plain": [
       "   0                                                  1\n",
       "0  0  https://live.staticflickr.com/3192/2829641312_...\n",
       "1  1  https://live.staticflickr.com/3221/2677367663_...\n",
       "2  2  https://live.staticflickr.com/4153/4841562401_...\n",
       "3  3  https://live.staticflickr.com/4152/4840845965_...\n",
       "4  4  https://live.staticflickr.com/7233/7203154546_..."
      ]
     },
     "execution_count": 10,
     "metadata": {},
     "output_type": "execute_result"
    }
   ],
   "source": [
    "pru2.head()"
   ]
  },
  {
   "cell_type": "code",
   "execution_count": 24,
   "metadata": {},
   "outputs": [
    {
     "data": {
      "text/plain": [
       "(1000, 2)"
      ]
     },
     "execution_count": 24,
     "metadata": {},
     "output_type": "execute_result"
    }
   ],
   "source": [
    "pru2.shape"
   ]
  },
  {
   "cell_type": "code",
   "execution_count": 25,
   "metadata": {},
   "outputs": [
    {
     "name": "stderr",
     "output_type": "stream",
     "text": [
      "/home/dsc/anaconda3/lib/python3.7/site-packages/pandas/core/indexes/api.py:107: RuntimeWarning: '<' not supported between instances of 'str' and 'int', sort order is undefined for incomparable objects\n",
      "  result = result.union(other)\n"
     ]
    },
    {
     "data": {
      "text/plain": [
       "(1010, 4)"
      ]
     },
     "execution_count": 25,
     "metadata": {},
     "output_type": "execute_result"
    }
   ],
   "source": [
    "pru.append(pru2).shape"
   ]
  },
  {
   "cell_type": "code",
   "execution_count": null,
   "metadata": {},
   "outputs": [],
   "source": []
  },
  {
   "cell_type": "code",
   "execution_count": null,
   "metadata": {},
   "outputs": [],
   "source": []
  },
  {
   "cell_type": "code",
   "execution_count": null,
   "metadata": {},
   "outputs": [],
   "source": []
  },
  {
   "cell_type": "code",
   "execution_count": 25,
   "metadata": {
    "collapsed": true
   },
   "outputs": [
    {
     "ename": "KeyError",
     "evalue": "'[0] not found in axis'",
     "output_type": "error",
     "traceback": [
      "\u001b[0;31m---------------------------------------------------------------------------\u001b[0m",
      "\u001b[0;31mKeyError\u001b[0m                                  Traceback (most recent call last)",
      "\u001b[0;32m<ipython-input-25-cba002668ca8>\u001b[0m in \u001b[0;36m<module>\u001b[0;34m\u001b[0m\n\u001b[0;32m----> 1\u001b[0;31m \u001b[0mpru\u001b[0m\u001b[0;34m.\u001b[0m\u001b[0mdrop\u001b[0m\u001b[0;34m(\u001b[0m\u001b[0;34m[\u001b[0m\u001b[0;36m0\u001b[0m\u001b[0;34m]\u001b[0m\u001b[0;34m,\u001b[0m \u001b[0maxis\u001b[0m\u001b[0;34m=\u001b[0m\u001b[0;36m1\u001b[0m\u001b[0;34m,\u001b[0m \u001b[0minplace\u001b[0m\u001b[0;34m=\u001b[0m\u001b[0;32mTrue\u001b[0m\u001b[0;34m)\u001b[0m\u001b[0;34m\u001b[0m\u001b[0;34m\u001b[0m\u001b[0m\n\u001b[0m\u001b[1;32m      2\u001b[0m \u001b[0mpru\u001b[0m\u001b[0;34m.\u001b[0m\u001b[0mhead\u001b[0m\u001b[0;34m(\u001b[0m\u001b[0;34m)\u001b[0m\u001b[0;34m\u001b[0m\u001b[0;34m\u001b[0m\u001b[0m\n",
      "\u001b[0;32m~/anaconda3/lib/python3.7/site-packages/pandas/core/frame.py\u001b[0m in \u001b[0;36mdrop\u001b[0;34m(self, labels, axis, index, columns, level, inplace, errors)\u001b[0m\n\u001b[1;32m   3695\u001b[0m                                            \u001b[0mindex\u001b[0m\u001b[0;34m=\u001b[0m\u001b[0mindex\u001b[0m\u001b[0;34m,\u001b[0m \u001b[0mcolumns\u001b[0m\u001b[0;34m=\u001b[0m\u001b[0mcolumns\u001b[0m\u001b[0;34m,\u001b[0m\u001b[0;34m\u001b[0m\u001b[0;34m\u001b[0m\u001b[0m\n\u001b[1;32m   3696\u001b[0m                                            \u001b[0mlevel\u001b[0m\u001b[0;34m=\u001b[0m\u001b[0mlevel\u001b[0m\u001b[0;34m,\u001b[0m \u001b[0minplace\u001b[0m\u001b[0;34m=\u001b[0m\u001b[0minplace\u001b[0m\u001b[0;34m,\u001b[0m\u001b[0;34m\u001b[0m\u001b[0;34m\u001b[0m\u001b[0m\n\u001b[0;32m-> 3697\u001b[0;31m                                            errors=errors)\n\u001b[0m\u001b[1;32m   3698\u001b[0m \u001b[0;34m\u001b[0m\u001b[0m\n\u001b[1;32m   3699\u001b[0m     @rewrite_axis_style_signature('mapper', [('copy', True),\n",
      "\u001b[0;32m~/anaconda3/lib/python3.7/site-packages/pandas/core/generic.py\u001b[0m in \u001b[0;36mdrop\u001b[0;34m(self, labels, axis, index, columns, level, inplace, errors)\u001b[0m\n\u001b[1;32m   3109\u001b[0m         \u001b[0;32mfor\u001b[0m \u001b[0maxis\u001b[0m\u001b[0;34m,\u001b[0m \u001b[0mlabels\u001b[0m \u001b[0;32min\u001b[0m \u001b[0maxes\u001b[0m\u001b[0;34m.\u001b[0m\u001b[0mitems\u001b[0m\u001b[0;34m(\u001b[0m\u001b[0;34m)\u001b[0m\u001b[0;34m:\u001b[0m\u001b[0;34m\u001b[0m\u001b[0;34m\u001b[0m\u001b[0m\n\u001b[1;32m   3110\u001b[0m             \u001b[0;32mif\u001b[0m \u001b[0mlabels\u001b[0m \u001b[0;32mis\u001b[0m \u001b[0;32mnot\u001b[0m \u001b[0;32mNone\u001b[0m\u001b[0;34m:\u001b[0m\u001b[0;34m\u001b[0m\u001b[0;34m\u001b[0m\u001b[0m\n\u001b[0;32m-> 3111\u001b[0;31m                 \u001b[0mobj\u001b[0m \u001b[0;34m=\u001b[0m \u001b[0mobj\u001b[0m\u001b[0;34m.\u001b[0m\u001b[0m_drop_axis\u001b[0m\u001b[0;34m(\u001b[0m\u001b[0mlabels\u001b[0m\u001b[0;34m,\u001b[0m \u001b[0maxis\u001b[0m\u001b[0;34m,\u001b[0m \u001b[0mlevel\u001b[0m\u001b[0;34m=\u001b[0m\u001b[0mlevel\u001b[0m\u001b[0;34m,\u001b[0m \u001b[0merrors\u001b[0m\u001b[0;34m=\u001b[0m\u001b[0merrors\u001b[0m\u001b[0;34m)\u001b[0m\u001b[0;34m\u001b[0m\u001b[0;34m\u001b[0m\u001b[0m\n\u001b[0m\u001b[1;32m   3112\u001b[0m \u001b[0;34m\u001b[0m\u001b[0m\n\u001b[1;32m   3113\u001b[0m         \u001b[0;32mif\u001b[0m \u001b[0minplace\u001b[0m\u001b[0;34m:\u001b[0m\u001b[0;34m\u001b[0m\u001b[0;34m\u001b[0m\u001b[0m\n",
      "\u001b[0;32m~/anaconda3/lib/python3.7/site-packages/pandas/core/generic.py\u001b[0m in \u001b[0;36m_drop_axis\u001b[0;34m(self, labels, axis, level, errors)\u001b[0m\n\u001b[1;32m   3141\u001b[0m                 \u001b[0mnew_axis\u001b[0m \u001b[0;34m=\u001b[0m \u001b[0maxis\u001b[0m\u001b[0;34m.\u001b[0m\u001b[0mdrop\u001b[0m\u001b[0;34m(\u001b[0m\u001b[0mlabels\u001b[0m\u001b[0;34m,\u001b[0m \u001b[0mlevel\u001b[0m\u001b[0;34m=\u001b[0m\u001b[0mlevel\u001b[0m\u001b[0;34m,\u001b[0m \u001b[0merrors\u001b[0m\u001b[0;34m=\u001b[0m\u001b[0merrors\u001b[0m\u001b[0;34m)\u001b[0m\u001b[0;34m\u001b[0m\u001b[0;34m\u001b[0m\u001b[0m\n\u001b[1;32m   3142\u001b[0m             \u001b[0;32melse\u001b[0m\u001b[0;34m:\u001b[0m\u001b[0;34m\u001b[0m\u001b[0;34m\u001b[0m\u001b[0m\n\u001b[0;32m-> 3143\u001b[0;31m                 \u001b[0mnew_axis\u001b[0m \u001b[0;34m=\u001b[0m \u001b[0maxis\u001b[0m\u001b[0;34m.\u001b[0m\u001b[0mdrop\u001b[0m\u001b[0;34m(\u001b[0m\u001b[0mlabels\u001b[0m\u001b[0;34m,\u001b[0m \u001b[0merrors\u001b[0m\u001b[0;34m=\u001b[0m\u001b[0merrors\u001b[0m\u001b[0;34m)\u001b[0m\u001b[0;34m\u001b[0m\u001b[0;34m\u001b[0m\u001b[0m\n\u001b[0m\u001b[1;32m   3144\u001b[0m             \u001b[0mresult\u001b[0m \u001b[0;34m=\u001b[0m \u001b[0mself\u001b[0m\u001b[0;34m.\u001b[0m\u001b[0mreindex\u001b[0m\u001b[0;34m(\u001b[0m\u001b[0;34m**\u001b[0m\u001b[0;34m{\u001b[0m\u001b[0maxis_name\u001b[0m\u001b[0;34m:\u001b[0m \u001b[0mnew_axis\u001b[0m\u001b[0;34m}\u001b[0m\u001b[0;34m)\u001b[0m\u001b[0;34m\u001b[0m\u001b[0;34m\u001b[0m\u001b[0m\n\u001b[1;32m   3145\u001b[0m \u001b[0;34m\u001b[0m\u001b[0m\n",
      "\u001b[0;32m~/anaconda3/lib/python3.7/site-packages/pandas/core/indexes/base.py\u001b[0m in \u001b[0;36mdrop\u001b[0;34m(self, labels, errors)\u001b[0m\n\u001b[1;32m   4402\u001b[0m             \u001b[0;32mif\u001b[0m \u001b[0merrors\u001b[0m \u001b[0;34m!=\u001b[0m \u001b[0;34m'ignore'\u001b[0m\u001b[0;34m:\u001b[0m\u001b[0;34m\u001b[0m\u001b[0;34m\u001b[0m\u001b[0m\n\u001b[1;32m   4403\u001b[0m                 raise KeyError(\n\u001b[0;32m-> 4404\u001b[0;31m                     '{} not found in axis'.format(labels[mask]))\n\u001b[0m\u001b[1;32m   4405\u001b[0m             \u001b[0mindexer\u001b[0m \u001b[0;34m=\u001b[0m \u001b[0mindexer\u001b[0m\u001b[0;34m[\u001b[0m\u001b[0;34m~\u001b[0m\u001b[0mmask\u001b[0m\u001b[0;34m]\u001b[0m\u001b[0;34m\u001b[0m\u001b[0;34m\u001b[0m\u001b[0m\n\u001b[1;32m   4406\u001b[0m         \u001b[0;32mreturn\u001b[0m \u001b[0mself\u001b[0m\u001b[0;34m.\u001b[0m\u001b[0mdelete\u001b[0m\u001b[0;34m(\u001b[0m\u001b[0mindexer\u001b[0m\u001b[0;34m)\u001b[0m\u001b[0;34m\u001b[0m\u001b[0;34m\u001b[0m\u001b[0m\n",
      "\u001b[0;31mKeyError\u001b[0m: '[0] not found in axis'"
     ]
    }
   ],
   "source": [
    "pru.drop([0], axis=1, inplace=True)\n"
   ]
  },
  {
   "cell_type": "code",
   "execution_count": 26,
   "metadata": {
    "collapsed": true
   },
   "outputs": [
    {
     "data": {
      "text/html": [
       "<div>\n",
       "<style scoped>\n",
       "    .dataframe tbody tr th:only-of-type {\n",
       "        vertical-align: middle;\n",
       "    }\n",
       "\n",
       "    .dataframe tbody tr th {\n",
       "        vertical-align: top;\n",
       "    }\n",
       "\n",
       "    .dataframe thead th {\n",
       "        text-align: right;\n",
       "    }\n",
       "</style>\n",
       "<table border=\"1\" class=\"dataframe\">\n",
       "  <thead>\n",
       "    <tr style=\"text-align: right;\">\n",
       "      <th></th>\n",
       "      <th>1</th>\n",
       "    </tr>\n",
       "  </thead>\n",
       "  <tbody>\n",
       "    <tr>\n",
       "      <th>0</th>\n",
       "      <td>https://live.staticflickr.com/8077/8428940257_...</td>\n",
       "    </tr>\n",
       "    <tr>\n",
       "      <th>1</th>\n",
       "      <td>https://live.staticflickr.com/5755/23498640226...</td>\n",
       "    </tr>\n",
       "    <tr>\n",
       "      <th>2</th>\n",
       "      <td>https://live.staticflickr.com/7918/32863535128...</td>\n",
       "    </tr>\n",
       "    <tr>\n",
       "      <th>3</th>\n",
       "      <td>https://live.staticflickr.com/2196/2074438110_...</td>\n",
       "    </tr>\n",
       "    <tr>\n",
       "      <th>4</th>\n",
       "      <td>https://live.staticflickr.com/7826/46013936554...</td>\n",
       "    </tr>\n",
       "  </tbody>\n",
       "</table>\n",
       "</div>"
      ],
      "text/plain": [
       "                                                   1\n",
       "0  https://live.staticflickr.com/8077/8428940257_...\n",
       "1  https://live.staticflickr.com/5755/23498640226...\n",
       "2  https://live.staticflickr.com/7918/32863535128...\n",
       "3  https://live.staticflickr.com/2196/2074438110_...\n",
       "4  https://live.staticflickr.com/7826/46013936554..."
      ]
     },
     "execution_count": 26,
     "metadata": {},
     "output_type": "execute_result"
    }
   ],
   "source": [
    "pru.head()"
   ]
  },
  {
   "cell_type": "code",
   "execution_count": 28,
   "metadata": {},
   "outputs": [
    {
     "data": {
      "text/html": [
       "<div>\n",
       "<style scoped>\n",
       "    .dataframe tbody tr th:only-of-type {\n",
       "        vertical-align: middle;\n",
       "    }\n",
       "\n",
       "    .dataframe tbody tr th {\n",
       "        vertical-align: top;\n",
       "    }\n",
       "\n",
       "    .dataframe thead th {\n",
       "        text-align: right;\n",
       "    }\n",
       "</style>\n",
       "<table border=\"1\" class=\"dataframe\">\n",
       "  <thead>\n",
       "    <tr style=\"text-align: right;\">\n",
       "      <th></th>\n",
       "      <th>url</th>\n",
       "    </tr>\n",
       "  </thead>\n",
       "  <tbody>\n",
       "    <tr>\n",
       "      <th>0</th>\n",
       "      <td>https://live.staticflickr.com/8077/8428940257_...</td>\n",
       "    </tr>\n",
       "    <tr>\n",
       "      <th>1</th>\n",
       "      <td>https://live.staticflickr.com/5755/23498640226...</td>\n",
       "    </tr>\n",
       "    <tr>\n",
       "      <th>2</th>\n",
       "      <td>https://live.staticflickr.com/7918/32863535128...</td>\n",
       "    </tr>\n",
       "    <tr>\n",
       "      <th>3</th>\n",
       "      <td>https://live.staticflickr.com/2196/2074438110_...</td>\n",
       "    </tr>\n",
       "    <tr>\n",
       "      <th>4</th>\n",
       "      <td>https://live.staticflickr.com/7826/46013936554...</td>\n",
       "    </tr>\n",
       "  </tbody>\n",
       "</table>\n",
       "</div>"
      ],
      "text/plain": [
       "                                                 url\n",
       "0  https://live.staticflickr.com/8077/8428940257_...\n",
       "1  https://live.staticflickr.com/5755/23498640226...\n",
       "2  https://live.staticflickr.com/7918/32863535128...\n",
       "3  https://live.staticflickr.com/2196/2074438110_...\n",
       "4  https://live.staticflickr.com/7826/46013936554..."
      ]
     },
     "execution_count": 28,
     "metadata": {},
     "output_type": "execute_result"
    }
   ],
   "source": [
    "pru.columns = ['url']\n",
    "pru.head()"
   ]
  },
  {
   "cell_type": "code",
   "execution_count": null,
   "metadata": {},
   "outputs": [],
   "source": []
  },
  {
   "cell_type": "code",
   "execution_count": null,
   "metadata": {},
   "outputs": [],
   "source": []
  },
  {
   "cell_type": "code",
   "execution_count": 71,
   "metadata": {
    "scrolled": true
   },
   "outputs": [
    {
     "data": {
      "text/plain": [
       "0    https://live.staticflickr.com/5451/7392903470_...\n",
       "1    https://live.staticflickr.com/65535/4873329798...\n",
       "2    https://live.staticflickr.com/2882/33876098296...\n",
       "3    https://live.staticflickr.com/3366/3494696835_...\n",
       "4    https://live.staticflickr.com/6088/6094691090_...\n",
       "dtype: object"
      ]
     },
     "execution_count": 71,
     "metadata": {},
     "output_type": "execute_result"
    }
   ],
   "source": [
    "urls.head()"
   ]
  },
  {
   "cell_type": "code",
   "execution_count": 22,
   "metadata": {},
   "outputs": [
    {
     "data": {
      "text/plain": [
       "'/home/dsc/TFM_food_recognition'"
      ]
     },
     "execution_count": 22,
     "metadata": {},
     "output_type": "execute_result"
    }
   ],
   "source": [
    "os.getcwd()"
   ]
  },
  {
   "cell_type": "code",
   "execution_count": 77,
   "metadata": {},
   "outputs": [],
   "source": [
    "archivo = pd.read_csv('tortilla de patata_urls.csv', header = None)"
   ]
  },
  {
   "cell_type": "code",
   "execution_count": 79,
   "metadata": {
    "scrolled": true
   },
   "outputs": [
    {
     "data": {
      "text/html": [
       "<div>\n",
       "<style scoped>\n",
       "    .dataframe tbody tr th:only-of-type {\n",
       "        vertical-align: middle;\n",
       "    }\n",
       "\n",
       "    .dataframe tbody tr th {\n",
       "        vertical-align: top;\n",
       "    }\n",
       "\n",
       "    .dataframe thead th {\n",
       "        text-align: right;\n",
       "    }\n",
       "</style>\n",
       "<table border=\"1\" class=\"dataframe\">\n",
       "  <thead>\n",
       "    <tr style=\"text-align: right;\">\n",
       "      <th></th>\n",
       "      <th>0</th>\n",
       "      <th>1</th>\n",
       "    </tr>\n",
       "  </thead>\n",
       "  <tbody>\n",
       "    <tr>\n",
       "      <th>0</th>\n",
       "      <td>0</td>\n",
       "      <td>https://live.staticflickr.com/2129/2275422924_...</td>\n",
       "    </tr>\n",
       "    <tr>\n",
       "      <th>1</th>\n",
       "      <td>1</td>\n",
       "      <td>https://live.staticflickr.com/65535/4975099785...</td>\n",
       "    </tr>\n",
       "    <tr>\n",
       "      <th>2</th>\n",
       "      <td>2</td>\n",
       "      <td>https://live.staticflickr.com/7067/6778164752_...</td>\n",
       "    </tr>\n",
       "    <tr>\n",
       "      <th>3</th>\n",
       "      <td>3</td>\n",
       "      <td>https://live.staticflickr.com/65535/4898916235...</td>\n",
       "    </tr>\n",
       "    <tr>\n",
       "      <th>4</th>\n",
       "      <td>4</td>\n",
       "      <td>https://live.staticflickr.com/1186/707507320_5...</td>\n",
       "    </tr>\n",
       "  </tbody>\n",
       "</table>\n",
       "</div>"
      ],
      "text/plain": [
       "   0                                                  1\n",
       "0  0  https://live.staticflickr.com/2129/2275422924_...\n",
       "1  1  https://live.staticflickr.com/65535/4975099785...\n",
       "2  2  https://live.staticflickr.com/7067/6778164752_...\n",
       "3  3  https://live.staticflickr.com/65535/4898916235...\n",
       "4  4  https://live.staticflickr.com/1186/707507320_5..."
      ]
     },
     "execution_count": 79,
     "metadata": {},
     "output_type": "execute_result"
    }
   ],
   "source": [
    "archivo.head()"
   ]
  },
  {
   "cell_type": "code",
   "execution_count": 97,
   "metadata": {
    "scrolled": true
   },
   "outputs": [],
   "source": [
    "archivo.drop([0], axis=1, inplace=True)"
   ]
  },
  {
   "cell_type": "code",
   "execution_count": null,
   "metadata": {},
   "outputs": [],
   "source": []
  },
  {
   "cell_type": "code",
   "execution_count": 98,
   "metadata": {},
   "outputs": [
    {
     "data": {
      "text/html": [
       "<div>\n",
       "<style scoped>\n",
       "    .dataframe tbody tr th:only-of-type {\n",
       "        vertical-align: middle;\n",
       "    }\n",
       "\n",
       "    .dataframe tbody tr th {\n",
       "        vertical-align: top;\n",
       "    }\n",
       "\n",
       "    .dataframe thead th {\n",
       "        text-align: right;\n",
       "    }\n",
       "</style>\n",
       "<table border=\"1\" class=\"dataframe\">\n",
       "  <thead>\n",
       "    <tr style=\"text-align: right;\">\n",
       "      <th></th>\n",
       "      <th>1</th>\n",
       "    </tr>\n",
       "  </thead>\n",
       "  <tbody>\n",
       "    <tr>\n",
       "      <th>0</th>\n",
       "      <td>https://live.staticflickr.com/2129/2275422924_...</td>\n",
       "    </tr>\n",
       "    <tr>\n",
       "      <th>1</th>\n",
       "      <td>https://live.staticflickr.com/65535/4975099785...</td>\n",
       "    </tr>\n",
       "    <tr>\n",
       "      <th>2</th>\n",
       "      <td>https://live.staticflickr.com/7067/6778164752_...</td>\n",
       "    </tr>\n",
       "    <tr>\n",
       "      <th>3</th>\n",
       "      <td>https://live.staticflickr.com/65535/4898916235...</td>\n",
       "    </tr>\n",
       "    <tr>\n",
       "      <th>4</th>\n",
       "      <td>https://live.staticflickr.com/1186/707507320_5...</td>\n",
       "    </tr>\n",
       "  </tbody>\n",
       "</table>\n",
       "</div>"
      ],
      "text/plain": [
       "                                                   1\n",
       "0  https://live.staticflickr.com/2129/2275422924_...\n",
       "1  https://live.staticflickr.com/65535/4975099785...\n",
       "2  https://live.staticflickr.com/7067/6778164752_...\n",
       "3  https://live.staticflickr.com/65535/4898916235...\n",
       "4  https://live.staticflickr.com/1186/707507320_5..."
      ]
     },
     "execution_count": 98,
     "metadata": {},
     "output_type": "execute_result"
    }
   ],
   "source": [
    "archivo.head()"
   ]
  },
  {
   "cell_type": "code",
   "execution_count": 80,
   "metadata": {},
   "outputs": [
    {
     "data": {
      "text/plain": [
       "0    https://live.staticflickr.com/5451/7392903470_...\n",
       "1    https://live.staticflickr.com/65535/4873329798...\n",
       "2    https://live.staticflickr.com/2882/33876098296...\n",
       "3    https://live.staticflickr.com/3366/3494696835_...\n",
       "4    https://live.staticflickr.com/6088/6094691090_...\n",
       "dtype: object"
      ]
     },
     "execution_count": 80,
     "metadata": {},
     "output_type": "execute_result"
    }
   ],
   "source": [
    "urls.head()"
   ]
  },
  {
   "cell_type": "code",
   "execution_count": 81,
   "metadata": {
    "scrolled": true
   },
   "outputs": [
    {
     "data": {
      "text/plain": [
       "0    https://live.staticflickr.com/5451/7392903470_...\n",
       "1    https://live.staticflickr.com/65535/4873329798...\n",
       "2    https://live.staticflickr.com/2882/33876098296...\n",
       "3    https://live.staticflickr.com/3366/3494696835_...\n",
       "4    https://live.staticflickr.com/6088/6094691090_...\n",
       "5    https://live.staticflickr.com/65535/4971542127...\n",
       "6    https://live.staticflickr.com/7237/7163937447_...\n",
       "7    https://live.staticflickr.com/4894/45748942214...\n",
       "8    https://live.staticflickr.com/7031/6453165539_...\n",
       "9    https://live.staticflickr.com/7144/6453238363_...\n",
       "dtype: object"
      ]
     },
     "execution_count": 81,
     "metadata": {},
     "output_type": "execute_result"
    }
   ],
   "source": [
    "pd.Series(urls)"
   ]
  },
  {
   "cell_type": "code",
   "execution_count": 86,
   "metadata": {},
   "outputs": [],
   "source": [
    "df_urls = pd.DataFrame(urls)"
   ]
  },
  {
   "cell_type": "code",
   "execution_count": 90,
   "metadata": {},
   "outputs": [
    {
     "data": {
      "text/html": [
       "<div>\n",
       "<style scoped>\n",
       "    .dataframe tbody tr th:only-of-type {\n",
       "        vertical-align: middle;\n",
       "    }\n",
       "\n",
       "    .dataframe tbody tr th {\n",
       "        vertical-align: top;\n",
       "    }\n",
       "\n",
       "    .dataframe thead th {\n",
       "        text-align: right;\n",
       "    }\n",
       "</style>\n",
       "<table border=\"1\" class=\"dataframe\">\n",
       "  <thead>\n",
       "    <tr style=\"text-align: right;\">\n",
       "      <th></th>\n",
       "      <th>0</th>\n",
       "    </tr>\n",
       "  </thead>\n",
       "  <tbody>\n",
       "    <tr>\n",
       "      <th>0</th>\n",
       "      <td>https://live.staticflickr.com/5451/7392903470_...</td>\n",
       "    </tr>\n",
       "    <tr>\n",
       "      <th>1</th>\n",
       "      <td>https://live.staticflickr.com/65535/4873329798...</td>\n",
       "    </tr>\n",
       "    <tr>\n",
       "      <th>2</th>\n",
       "      <td>https://live.staticflickr.com/2882/33876098296...</td>\n",
       "    </tr>\n",
       "    <tr>\n",
       "      <th>3</th>\n",
       "      <td>https://live.staticflickr.com/3366/3494696835_...</td>\n",
       "    </tr>\n",
       "    <tr>\n",
       "      <th>4</th>\n",
       "      <td>https://live.staticflickr.com/6088/6094691090_...</td>\n",
       "    </tr>\n",
       "    <tr>\n",
       "      <th>5</th>\n",
       "      <td>https://live.staticflickr.com/65535/4971542127...</td>\n",
       "    </tr>\n",
       "    <tr>\n",
       "      <th>6</th>\n",
       "      <td>https://live.staticflickr.com/7237/7163937447_...</td>\n",
       "    </tr>\n",
       "    <tr>\n",
       "      <th>7</th>\n",
       "      <td>https://live.staticflickr.com/4894/45748942214...</td>\n",
       "    </tr>\n",
       "    <tr>\n",
       "      <th>8</th>\n",
       "      <td>https://live.staticflickr.com/7031/6453165539_...</td>\n",
       "    </tr>\n",
       "    <tr>\n",
       "      <th>9</th>\n",
       "      <td>https://live.staticflickr.com/7144/6453238363_...</td>\n",
       "    </tr>\n",
       "  </tbody>\n",
       "</table>\n",
       "</div>"
      ],
      "text/plain": [
       "                                                   0\n",
       "0  https://live.staticflickr.com/5451/7392903470_...\n",
       "1  https://live.staticflickr.com/65535/4873329798...\n",
       "2  https://live.staticflickr.com/2882/33876098296...\n",
       "3  https://live.staticflickr.com/3366/3494696835_...\n",
       "4  https://live.staticflickr.com/6088/6094691090_...\n",
       "5  https://live.staticflickr.com/65535/4971542127...\n",
       "6  https://live.staticflickr.com/7237/7163937447_...\n",
       "7  https://live.staticflickr.com/4894/45748942214...\n",
       "8  https://live.staticflickr.com/7031/6453165539_...\n",
       "9  https://live.staticflickr.com/7144/6453238363_..."
      ]
     },
     "execution_count": 90,
     "metadata": {},
     "output_type": "execute_result"
    }
   ],
   "source": [
    "df_urls"
   ]
  },
  {
   "cell_type": "code",
   "execution_count": 104,
   "metadata": {},
   "outputs": [
    {
     "data": {
      "text/plain": [
       "(100, 1)"
      ]
     },
     "execution_count": 104,
     "metadata": {},
     "output_type": "execute_result"
    }
   ],
   "source": [
    "archivo.shape"
   ]
  },
  {
   "cell_type": "code",
   "execution_count": 106,
   "metadata": {
    "collapsed": true
   },
   "outputs": [
    {
     "data": {
      "text/plain": [
       "(10, 1)"
      ]
     },
     "execution_count": 106,
     "metadata": {},
     "output_type": "execute_result"
    }
   ],
   "source": [
    "df_urls.shape"
   ]
  },
  {
   "cell_type": "code",
   "execution_count": 110,
   "metadata": {},
   "outputs": [],
   "source": [
    "archivo=pd.DataFrame(archivo)"
   ]
  },
  {
   "cell_type": "code",
   "execution_count": 111,
   "metadata": {},
   "outputs": [
    {
     "data": {
      "text/plain": [
       "<bound method DataFrame.info of                                                     1\n",
       "0   https://live.staticflickr.com/2129/2275422924_...\n",
       "1   https://live.staticflickr.com/65535/4975099785...\n",
       "2   https://live.staticflickr.com/7067/6778164752_...\n",
       "3   https://live.staticflickr.com/65535/4898916235...\n",
       "4   https://live.staticflickr.com/1186/707507320_5...\n",
       "5   https://live.staticflickr.com/1543/25892955425...\n",
       "6   https://live.staticflickr.com/2406/2198328634_...\n",
       "7   https://live.staticflickr.com/3172/3118123794_...\n",
       "8   https://live.staticflickr.com/2025/2275365168_...\n",
       "9   https://live.staticflickr.com/7180/6794679794_...\n",
       "10  https://live.staticflickr.com/2356/2275422906_...\n",
       "11  https://live.staticflickr.com/5484/9193665856_...\n",
       "12  https://live.staticflickr.com/8331/8116561402_...\n",
       "13  https://live.staticflickr.com/8336/8116563582_...\n",
       "14  https://live.staticflickr.com/680/22507967482_...\n",
       "15  https://live.staticflickr.com/2762/4303688690_...\n",
       "16  https://live.staticflickr.com/5443/7409362582_...\n",
       "17  https://live.staticflickr.com/688/21490105576_...\n",
       "18  https://live.staticflickr.com/65535/4967990365...\n",
       "19  https://live.staticflickr.com/2556/3684140120_...\n",
       "20  https://live.staticflickr.com/2168/2275422910_...\n",
       "21  https://live.staticflickr.com/2189/2275365160_...\n",
       "22  https://live.staticflickr.com/4096/4793272591_...\n",
       "23  https://live.staticflickr.com/2473/3624807010_...\n",
       "24  https://live.staticflickr.com/2040/2275422930_...\n",
       "25  https://live.staticflickr.com/3201/3091200776_...\n",
       "26  https://live.staticflickr.com/4034/4352829429_...\n",
       "27  https://live.staticflickr.com/2419/3545963013_...\n",
       "28  https://live.staticflickr.com/3536/3225426332_...\n",
       "29  https://live.staticflickr.com/2334/2275422916_...\n",
       "..                                                ...\n",
       "70  https://live.staticflickr.com/148/335533201_40...\n",
       "71  https://live.staticflickr.com/8079/8380567541_...\n",
       "72  https://live.staticflickr.com/65535/4815257286...\n",
       "73  https://live.staticflickr.com/1266/4672005574_...\n",
       "74  https://live.staticflickr.com/420/18522542520_...\n",
       "75  https://live.staticflickr.com/4769/28351397599...\n",
       "76  https://live.staticflickr.com/4006/4478746350_...\n",
       "77  https://live.staticflickr.com/5578/15127974896...\n",
       "78  https://live.staticflickr.com/2678/4361511413_...\n",
       "79  https://live.staticflickr.com/8337/8198062635_...\n",
       "80  https://live.staticflickr.com/3734/9591129683_...\n",
       "81  https://live.staticflickr.com/644/20519312948_...\n",
       "82  https://live.staticflickr.com/2839/11014480976...\n",
       "83  https://live.staticflickr.com/8365/8455624810_...\n",
       "84  https://live.staticflickr.com/8357/8298694183_...\n",
       "85  https://live.staticflickr.com/7457/9591211321_...\n",
       "86  https://live.staticflickr.com/4052/4705882384_...\n",
       "87  https://live.staticflickr.com/200/489102515_84...\n",
       "88  https://live.staticflickr.com/3005/2848618794_...\n",
       "89  https://live.staticflickr.com/5600/15427353462...\n",
       "90  https://live.staticflickr.com/3927/15404640086...\n",
       "91  https://live.staticflickr.com/5599/15427691405...\n",
       "92  https://live.staticflickr.com/3935/15241151917...\n",
       "93  https://live.staticflickr.com/2943/15404638196...\n",
       "94  https://live.staticflickr.com/3932/15241150947...\n",
       "95  https://live.staticflickr.com/7805/47230972372...\n",
       "96  https://live.staticflickr.com/4040/4288285242_...\n",
       "97  https://live.staticflickr.com/53/181062554_eaa...\n",
       "98  https://live.staticflickr.com/3039/2847787789_...\n",
       "99  https://live.staticflickr.com/7365/9454214912_...\n",
       "\n",
       "[100 rows x 1 columns]>"
      ]
     },
     "execution_count": 111,
     "metadata": {},
     "output_type": "execute_result"
    }
   ],
   "source": []
  },
  {
   "cell_type": "code",
   "execution_count": 5,
   "metadata": {},
   "outputs": [],
   "source": [
    "def get_urls(image_tag, max):\n",
    "    \n",
    "    photos = get_photos(image_tag)\n",
    "    counter=0\n",
    "    urls=[]\n",
    "\n",
    "    for photo in photos:\n",
    "        if counter < max:\n",
    "            counter += 1\n",
    "            print(\"Fetching url for image number {}\".format(counter))\n",
    "            try:\n",
    "                url = get_url(photo)  # get preffered size url\n",
    "                #print(url)\n",
    "                urls.append(url)\n",
    "            except:    \n",
    "                 print(\"Url for image number {} could not be fetched\".format(count))\n",
    "            # if no url for the desired sizes then try with the next photo\n",
    "        else:\n",
    "            print(\"Done fetching urls, fetched {} urls out of {}\".format(len(urls), max))\n",
    "            break\n",
    "    print(\"Writing out the urls in the current directory\")\n",
    "    urls = pd.Series(urls)\n",
    "    urls.to_csv(image_tag + '_urls.csv')\n",
    "    print('Listo!')\n",
    "    \n",
    "\n",
    "    return urls"
   ]
  },
  {
   "cell_type": "code",
   "execution_count": 9,
   "metadata": {},
   "outputs": [],
   "source": [
    "import requests\n",
    "import os\n",
    "\n",
    "def download_images(file_name, image_tag):\n",
    "    urls = []\n",
    "    doc = pd.read_csv(file_name, header=None)\n",
    "    \n",
    "    for row in doc.iterrows():\n",
    "        if row[1][1].startswith('https'):\n",
    "            #print('yuhuuuu')\n",
    "            urls.append(row[1][1])\n",
    "    \n",
    "    if not os.path.isdir(os.path.join('/home/dsc/tfm_data/',image_tag.split(\"_\")[0])):\n",
    "        os.mkdir(os.path.join('/home/dsc/tfm_data/', image_tag.split(\"_\")[0]))\n",
    "    \n",
    "    \n",
    "    for url in enumerate(urls):\n",
    "        resp=requests.get(url[1], stream=True)\n",
    "        path_to_write = os.path.join('/home/dsc/tfm_data/',image_tag.split(\"_\")[0],url[1].split(\"/\")[-1])\n",
    "        outfile=open(path_to_write,'wb')\n",
    "        outfile.write(resp.content)\n",
    "        outfile.close()\n",
    "        print(\"Done downloading {} of {}\".format(url[0]+1,len(urls)))"
   ]
  },
  {
   "cell_type": "code",
   "execution_count": 7,
   "metadata": {},
   "outputs": [],
   "source": [
    "import requests\n",
    "import os\n",
    "\n",
    "def download_images(file_name, folder, ruta_destino):\n",
    "    urls = []\n",
    "    doc = pd.read_csv(file_name, header=None)\n",
    "    \n",
    "    for row in doc.iterrows():\n",
    "        if row[1][1].startswith('https'):\n",
    "            #print('yuhuuuu')\n",
    "            urls.append(row[1][1])\n",
    "    \n",
    "    if not os.path.isdir(os.path.join(ruta_destino, folder.split(\"_\")[0])):\n",
    "        os.mkdir(os.path.join(ruta_destino, folder.split(\"_\")[0]))\n",
    "    \n",
    "    \n",
    "    for url in enumerate(urls):\n",
    "        resp=requests.get(url[1], stream=True)\n",
    "        path_to_write = os.path.join(ruta_destino, folder.split(\"_\")[0],url[1].split(\"/\")[-1])\n",
    "        outfile=open(path_to_write,'wb')\n",
    "        outfile.write(resp.content)\n",
    "        outfile.close()\n",
    "        print(\"Done downloading {} of {}\".format(url[0]+1,len(urls)))"
   ]
  }
 ],
 "metadata": {
  "kernelspec": {
   "display_name": "Python 3",
   "language": "python",
   "name": "python3"
  },
  "language_info": {
   "codemirror_mode": {
    "name": "ipython",
    "version": 3
   },
   "file_extension": ".py",
   "mimetype": "text/x-python",
   "name": "python",
   "nbconvert_exporter": "python",
   "pygments_lexer": "ipython3",
   "version": "3.7.1"
  }
 },
 "nbformat": 4,
 "nbformat_minor": 2
}
