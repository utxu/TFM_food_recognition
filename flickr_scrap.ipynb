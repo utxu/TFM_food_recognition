{
 "cells": [
  {
   "cell_type": "code",
   "execution_count": 2,
   "metadata": {},
   "outputs": [],
   "source": [
    "from flickrapi import FlickrAPI"
   ]
  },
  {
   "cell_type": "code",
   "execution_count": 4,
   "metadata": {},
   "outputs": [],
   "source": [
    "key = '0e4e7a8ceb3f350abd0a743812365c51'\n",
    "secret = '3172a3f6ec67c50f'\n",
    "sizes = ['url_c', 'url_z', 'url_m', 'url_n', 'url_s', 'url_t']"
   ]
  },
  {
   "cell_type": "code",
   "execution_count": 7,
   "metadata": {},
   "outputs": [],
   "source": [
    "def get_photos(image_tag):\n",
    "    extras = ','.join(sizes)\n",
    "    flickr = FlickrAPI(key, secret)\n",
    "    photos = flickr.walk(text=image_tag,  # it will search by image title and image tags\n",
    "                            extras=extras,  # get the urls for each size we want\n",
    "                            privacy_filter=1,  # search only for public photos\n",
    "                            per_page=50,\n",
    "                            sort='relevance')  # we want what we are looking for to appear first\n",
    "    return photos"
   ]
  },
  {
   "cell_type": "code",
   "execution_count": 16,
   "metadata": {},
   "outputs": [],
   "source": [
    "get_photos('croquetas')"
   ]
  },
  {
   "cell_type": "code",
   "execution_count": 15,
   "metadata": {},
   "outputs": [],
   "source": [
    "def get_url(photo):\n",
    "    for i in range(len(sizes)):  # makes sure the loop is done in the order we want\n",
    "        url = photo.get(sizes[i])\n",
    "        if url:  # if url is None try with the next size\n",
    "            return url"
   ]
  },
  {
   "cell_type": "code",
   "execution_count": 5,
   "metadata": {},
   "outputs": [],
   "source": [
    "def get_urls(image_tag, max):\n",
    "    photos = get_photos(image_tag)\n",
    "    counter=0\n",
    "    urls=[]\n",
    "\n",
    "    for photo in photos:\n",
    "        if counter < max:\n",
    "            url = get_url(photo)  # get preffered size url\n",
    "            if url:\n",
    "                urls.append(url)\n",
    "                counter += 1\n",
    "            # if no url for the desired sizes then try with the next photo\n",
    "        else:\n",
    "            break\n",
    "\n",
    "    return urls"
   ]
  },
  {
   "cell_type": "code",
   "execution_count": 8,
   "metadata": {},
   "outputs": [
    {
     "name": "stdout",
     "output_type": "stream",
     "text": [
      "/home/dsc/TFM_food_recognition\r\n"
     ]
    }
   ],
   "source": [
    "!pwd"
   ]
  },
  {
   "cell_type": "code",
   "execution_count": 10,
   "metadata": {},
   "outputs": [],
   "source": [
    "from progress.bar import Bar\n",
    "import requests\n",
    "import os\n",
    "import sys\n",
    "import time\n",
    "\n",
    "def create_folder(path):\n",
    "    if not os.path.isdir(path):\n",
    "        os.makedirs(path)"
   ]
  },
  {
   "cell_type": "code",
   "execution_count": 20,
   "metadata": {},
   "outputs": [],
   "source": [
    "def download_images(urls, path):\n",
    "    create_folder(path)  # makes sure path exists\n",
    "\n",
    "    for url in urls:\n",
    "        image_name = url.split(\"/\")[-1]\n",
    "        image_path = os.path.join(path, image_name)\n",
    "\n",
    "        if not os.path.isfile(image_path):  # ignore if already downloaded\n",
    "            response=requests.get(url,stream=True)\n",
    "\n",
    "            with open(image_path,'wb') as outfile:\n",
    "                outfile.write(response.content)"
   ]
  },
  {
   "cell_type": "code",
   "execution_count": 22,
   "metadata": {},
   "outputs": [
    {
     "ename": "ImportError",
     "evalue": "cannot import name 'get_urls' from 'flickrapi' (/home/dsc/anaconda3/lib/python3.7/site-packages/flickrapi/__init__.py)",
     "output_type": "error",
     "traceback": [
      "\u001b[0;31m---------------------------------------------------------------------------\u001b[0m",
      "\u001b[0;31mImportError\u001b[0m                               Traceback (most recent call last)",
      "\u001b[0;32m<ipython-input-22-ef0c8310e304>\u001b[0m in \u001b[0;36m<module>\u001b[0;34m\u001b[0m\n\u001b[0;32m----> 1\u001b[0;31m \u001b[0;32mfrom\u001b[0m \u001b[0mflickrapi\u001b[0m \u001b[0;32mimport\u001b[0m \u001b[0mget_urls\u001b[0m\u001b[0;34m\u001b[0m\u001b[0;34m\u001b[0m\u001b[0m\n\u001b[0m\u001b[1;32m      2\u001b[0m \u001b[0;32mfrom\u001b[0m \u001b[0mdownloader\u001b[0m \u001b[0;32mimport\u001b[0m \u001b[0mdownload_images\u001b[0m\u001b[0;34m\u001b[0m\u001b[0;34m\u001b[0m\u001b[0m\n\u001b[1;32m      3\u001b[0m \u001b[0;32mimport\u001b[0m \u001b[0mos\u001b[0m\u001b[0;34m\u001b[0m\u001b[0;34m\u001b[0m\u001b[0m\n\u001b[1;32m      4\u001b[0m \u001b[0;32mimport\u001b[0m \u001b[0mtime\u001b[0m\u001b[0;34m\u001b[0m\u001b[0;34m\u001b[0m\u001b[0m\n\u001b[1;32m      5\u001b[0m \u001b[0;34m\u001b[0m\u001b[0m\n",
      "\u001b[0;31mImportError\u001b[0m: cannot import name 'get_urls' from 'flickrapi' (/home/dsc/anaconda3/lib/python3.7/site-packages/flickrapi/__init__.py)"
     ]
    }
   ],
   "source": [
    "from flickr import get_urls\n",
    "from downloader import download_images\n",
    "import os\n",
    "import time\n",
    "\n",
    "all_species = ['blue jay', 'northern cardinal', 'american goldfinch']\n",
    "images_per_species = 10\n",
    "\n",
    "def download():\n",
    "    for species in all_species:\n",
    "\n",
    "        print('Getting urls for', specie)\n",
    "        urls = get_urls(specie, images_per_specie)\n",
    "        \n",
    "        print('Downloading images for', specie)\n",
    "        path = os.path.join('data', specie)\n",
    "\n",
    "        download_images(urls, path)\n"
   ]
  },
  {
   "cell_type": "code",
   "execution_count": null,
   "metadata": {},
   "outputs": [],
   "source": [
    "start_time = time.time()\n",
    "\n",
    "download()\n",
    "\n",
    "print('Took', round(time.time() - start_time, 2), 'seconds')"
   ]
  },
  {
   "cell_type": "code",
   "execution_count": null,
   "metadata": {},
   "outputs": [],
   "source": []
  }
 ],
 "metadata": {
  "kernelspec": {
   "display_name": "Python 3",
   "language": "python",
   "name": "python3"
  },
  "language_info": {
   "codemirror_mode": {
    "name": "ipython",
    "version": 3
   },
   "file_extension": ".py",
   "mimetype": "text/x-python",
   "name": "python",
   "nbconvert_exporter": "python",
   "pygments_lexer": "ipython3",
   "version": "3.7.1"
  }
 },
 "nbformat": 4,
 "nbformat_minor": 2
}
